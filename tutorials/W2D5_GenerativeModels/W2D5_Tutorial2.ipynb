{
 "cells": [
  {
   "cell_type": "markdown",
   "metadata": {
    "colab_type": "text",
    "execution": {},
    "id": "view-in-github"
   },
   "source": [
    "<a href=\"https://colab.research.google.com/github/NeuromatchAcademy/course-content-dl/blob/main/tutorials/W2D5_GenerativeModels/W2D5_Tutorial2.ipynb\" target=\"_parent\"><img src=\"https://colab.research.google.com/assets/colab-badge.svg\" alt=\"Open In Colab\"/></a> &nbsp; <a href=\"https://kaggle.com/kernels/welcome?src=https://raw.githubusercontent.com/NeuromatchAcademy/course-content-dl/main/tutorials/W2D5_GenerativeModels/W2D5_Tutorial2.ipynb\" target=\"_parent\"><img src=\"https://kaggle.com/static/images/open-in-kaggle.svg\" alt=\"Open in Kaggle\"/></a>"
   ]
  },
  {
   "cell_type": "markdown",
   "metadata": {
    "execution": {}
   },
   "source": [
    "# Tutorial 2: Introduction to GANs\n",
    "\n",
    "**Week 2, Day 5: Generative Models**\n",
    "\n",
    "**By Neuromatch Academy**\n",
    "\n",
    "__Content creators:__ Kai Xu, Seungwook Han, Akash Srivastava\n",
    "\n",
    "__Content reviewers:__ Polina Turishcheva, Melvin Selim Atay, Hadi Vafaei, Deepak Raya, Charles J Edelson, Kelson Shilling-Scrivo\n",
    "\n",
    "__Content editors:__ Charles J Edelson, Kelson Shilling-Scrivo, Spiros Chavlis\n",
    "\n",
    "__Production editors:__ Arush Tagade, Spiros Chavlis"
   ]
  },
  {
   "cell_type": "markdown",
   "metadata": {
    "execution": {}
   },
   "source": [
    "**Our 2021 Sponsors, including Presenting Sponsor Facebook Reality Labs**\n",
    "\n",
    "<p align='center'><img src='https://github.com/NeuromatchAcademy/widgets/blob/master/sponsors.png?raw=True'/></p>"
   ]
  },
  {
   "cell_type": "markdown",
   "metadata": {
    "execution": {}
   },
   "source": [
    "---\n",
    "\n",
    "## Tutorial Objectives\n",
    "\n",
    "The goal of this tutorial is two-fold; first you will be introduced to GANs training, and you will be able to understand how GANs are connected to other generative models that we have been before. \n",
    "\n",
    "By the end of the first part of this tutorial you will be able to:\n",
    "- Understand, at a high level, how GANs are implemented.\n",
    "- Understand the training dynamics of GANs. \n",
    "- Know about a few failure modes of GAN training.\n",
    "- Understand density ratio estimation using a binary classifier\n",
    "- Understand the connection between GANs and other generative models.\n",
    "- Implement a GAN."
   ]
  },
  {
   "cell_type": "code",
   "execution_count": null,
   "metadata": {
    "cellView": "form",
    "execution": {}
   },
   "outputs": [],
   "source": [
    "# @title Tutorial slides\n",
    "\n",
    "# @markdown These are the slides for the videos in this tutorial\n",
    "\n",
    "# @markdown If you want to locally download the slides, click [here](https://osf.io/dftym/download)\n",
    "from IPython.display import IFrame\n",
    "IFrame(src=f\"https://mfr.ca-1.osf.io/render?url=https://osf.io/dftym/?direct%26mode=render%26action=download%26mode=render\", width=854, height=480)"
   ]
  },
  {
   "cell_type": "markdown",
   "metadata": {
    "execution": {}
   },
   "source": [
    "---\n",
    "# Setup"
   ]
  },
  {
   "cell_type": "code",
   "execution_count": null,
   "metadata": {
    "cellView": "form",
    "execution": {}
   },
   "outputs": [],
   "source": [
    "# @title Install dependencies\n",
    "!pip install git+https://github.com/NeuromatchAcademy/evaltools --quiet\n",
    "from evaltools.airtable import AirtableForm\n",
    "\n",
    "# generate airtable form\n",
    "atform = AirtableForm('appn7VdPRseSoMXEG','W2D5_T2','https://portal.neuromatchacademy.org/api/redirect/to/9c55f6cb-cdf9-4429-ac1c-ec44fe64c303')"
   ]
  },
  {
   "cell_type": "code",
   "execution_count": null,
   "metadata": {
    "execution": {}
   },
   "outputs": [],
   "source": [
    "# Imports\n",
    "import torch\n",
    "import numpy as np\n",
    "import matplotlib.pyplot as plt"
   ]
  },
  {
   "cell_type": "code",
   "execution_count": null,
   "metadata": {
    "cellView": "form",
    "execution": {}
   },
   "outputs": [],
   "source": [
    "# @title Figure settings\n",
    "import ipywidgets as widgets       # interactive display\n",
    "%config InlineBackend.figure_format = 'retina'\n",
    "plt.style.use(\"https://raw.githubusercontent.com/NeuromatchAcademy/content-creation/main/nma.mplstyle\")\n",
    "plt.rc('axes', unicode_minus=False)"
   ]
  },
  {
   "cell_type": "code",
   "execution_count": null,
   "metadata": {
    "cellView": "form",
    "execution": {}
   },
   "outputs": [],
   "source": [
    "# @title Plotting functions\n",
    "\n",
    "ld_true = [-7.0066e-01, -2.6368e-01, -2.4250e+00, -2.0247e+00, -1.1795e+00,\n",
    "        -4.5558e-01, -7.1316e-01, -1.0932e-01, -7.8608e-01, -4.5838e-01,\n",
    "        -1.0530e+00, -9.1201e-01, -3.8020e+00, -1.7787e+00, -1.2246e+00,\n",
    "        -6.5677e-01, -3.6001e-01, -2.2313e-01, -1.8262e+00, -1.2649e+00,\n",
    "        -3.8330e-01, -8.8619e-02, -9.2357e-01, -1.3450e-01, -8.6891e-01,\n",
    "        -5.9257e-01, -4.8415e-02, -3.3197e+00, -1.6862e+00, -9.8506e-01,\n",
    "        -1.1871e+00, -7.0422e-02, -1.7378e+00, -1.3099e+00, -1.8926e+00,\n",
    "        -3.4508e+00, -1.5696e+00, -7.2787e-02, -3.2420e-01, -2.9795e-01,\n",
    "        -6.4189e-01, -1.4120e+00, -5.3684e-01, -3.4066e+00, -1.9753e+00,\n",
    "        -1.4178e+00, -2.0399e-01, -2.3173e-01, -1.2792e+00, -7.2990e-01,\n",
    "        -1.9872e-01, -2.9378e-03, -3.5890e-01, -5.6643e-01, -1.8003e-01,\n",
    "        -1.5818e+00, -5.2227e-01, -2.1862e+00, -1.8743e+00, -1.4200e+00,\n",
    "        -3.1988e-01, -3.5513e-01, -1.5905e+00, -4.2916e-01, -2.5556e-01,\n",
    "        -8.2807e-01, -6.5568e-01, -4.8475e-01, -2.1049e-01, -2.0104e-02,\n",
    "        -2.1655e+00, -1.1496e+00, -3.6168e-01, -8.9624e-02, -6.7098e-02,\n",
    "        -6.0623e-02, -5.1165e-01, -2.7302e+00, -6.0514e-01, -1.6756e+00,\n",
    "        -3.3807e+00, -5.7368e-02, -1.2763e-01, -6.6959e+00, -5.2157e-01,\n",
    "        -8.7762e-01, -8.7295e-01, -1.3052e+00, -3.6777e-01, -1.5904e+00,\n",
    "        -3.8083e-01, -2.8388e-01, -1.5323e-01, -3.7549e-01, -5.2722e+00,\n",
    "        -1.7393e+00, -2.8814e-01, -5.0310e-01, -2.2077e+00, -1.5507e+00,\n",
    "        -6.8569e-01, -1.4620e+00, -9.2639e-02, -1.4160e-01, -3.6734e-01,\n",
    "        -1.0053e+00, -6.7353e-01, -2.2676e+00, -6.0812e-01, -1.0005e+00,\n",
    "        -4.2908e-01, -5.1369e-01, -2.2579e-02, -1.8496e-01, -3.4798e-01,\n",
    "        -7.3089e-01, -1.1962e+00, -1.6095e+00, -1.7558e-01, -3.3166e-01,\n",
    "        -1.1445e+00, -2.4674e+00, -5.0600e-01, -2.0727e+00, -5.4371e-01,\n",
    "        -8.0499e-01, -3.0521e+00, -3.6835e-02, -2.0485e-01, -4.6747e-01,\n",
    "        -3.6399e-01, -2.6883e+00, -1.9348e-01, -3.1448e-01, -1.6332e-01,\n",
    "        -3.2233e-02, -2.3336e-01, -2.6564e+00, -1.2841e+00, -1.3561e+00,\n",
    "        -7.4717e-01, -2.7926e-01, -8.7849e-01, -3.3715e-02, -1.4933e-01,\n",
    "        -2.7738e-01, -1.6899e+00, -1.5758e+00, -3.2608e-01, -6.5770e-01,\n",
    "        -1.7136e+00, -5.8316e+00, -1.1988e+00, -8.3828e-01, -1.8033e+00,\n",
    "        -2.3017e-01, -8.9936e-01, -1.1917e-01, -1.6659e-01, -2.7669e-01,\n",
    "        -1.2955e+00, -1.2076e+00, -2.2793e-01, -1.0528e+00, -1.4894e+00,\n",
    "        -5.7428e-01, -7.3208e-01, -9.5673e-01, -1.6617e+00, -3.9169e+00,\n",
    "        -1.2182e-01, -3.8092e-01, -1.1924e+00, -2.4566e+00, -2.7350e+00,\n",
    "        -2.8332e+00, -9.1506e-01, -6.7432e-02, -7.8965e-01, -2.0727e-01,\n",
    "        -3.4615e-02, -2.8868e+00, -2.1218e+00, -1.2368e-03, -9.0038e-01,\n",
    "        -5.3746e-01, -5.4080e-01, -3.1625e-01, -1.1786e+00, -2.2797e-01,\n",
    "        -1.1498e+00, -1.3978e+00, -1.9515e+00, -1.1614e+00, -5.1456e-03,\n",
    "        -1.9316e-01, -1.3849e+00, -9.2799e-01, -1.1649e-01, -2.3837e-01]\n",
    "\n",
    "\n",
    "def plotting_ld(ld, true=ld_true):\n",
    "  fig, ax = plt.subplots(figsize=(7, 7))\n",
    "  ax.plot([-6, 1], [-6, 1], label=\"Ground Truth\")\n",
    "  ax.scatter(true, ld, marker=\"x\",\n",
    "             label=\"Your implementation\")\n",
    "  ax.set_xlabel(\"Loss from oracle implementation\")\n",
    "  ax.set_ylabel(\"Loss from your implementation\")\n",
    "  ax.legend()\n",
    "  ax.set_title(\"Discriminator Loss\")\n",
    "\n",
    "\n",
    "lg_true = [-7.0066e-01, -2.6368e-01, -2.4250e+00, -2.0247e+00, -1.1795e+00,\n",
    "        -4.5558e-01, -7.1316e-01, -1.0932e-01, -7.8608e-01, -4.5838e-01,\n",
    "        -1.0530e+00, -9.1201e-01, -3.8020e+00, -1.7787e+00, -1.2246e+00,\n",
    "        -6.5677e-01, -3.6001e-01, -2.2313e-01, -1.8262e+00, -1.2649e+00,\n",
    "        -3.8330e-01, -8.8619e-02, -9.2357e-01, -1.3450e-01, -8.6891e-01,\n",
    "        -5.9257e-01, -4.8415e-02, -3.3197e+00, -1.6862e+00, -9.8506e-01,\n",
    "        -1.1871e+00, -7.0422e-02, -1.7378e+00, -1.3099e+00, -1.8926e+00,\n",
    "        -3.4508e+00, -1.5696e+00, -7.2787e-02, -3.2420e-01, -2.9795e-01,\n",
    "        -6.4189e-01, -1.4120e+00, -5.3684e-01, -3.4066e+00, -1.9753e+00,\n",
    "        -1.4178e+00, -2.0399e-01, -2.3173e-01, -1.2792e+00, -7.2990e-01,\n",
    "        -1.9872e-01, -2.9378e-03, -3.5890e-01, -5.6643e-01, -1.8003e-01,\n",
    "        -1.5818e+00, -5.2227e-01, -2.1862e+00, -1.8743e+00, -1.4200e+00,\n",
    "        -3.1988e-01, -3.5513e-01, -1.5905e+00, -4.2916e-01, -2.5556e-01,\n",
    "        -8.2807e-01, -6.5568e-01, -4.8475e-01, -2.1049e-01, -2.0104e-02,\n",
    "        -2.1655e+00, -1.1496e+00, -3.6168e-01, -8.9624e-02, -6.7098e-02,\n",
    "        -6.0623e-02, -5.1165e-01, -2.7302e+00, -6.0514e-01, -1.6756e+00,\n",
    "        -3.3807e+00, -5.7368e-02, -1.2763e-01, -6.6959e+00, -5.2157e-01,\n",
    "        -8.7762e-01, -8.7295e-01, -1.3052e+00, -3.6777e-01, -1.5904e+00,\n",
    "        -3.8083e-01, -2.8388e-01, -1.5323e-01, -3.7549e-01, -5.2722e+00,\n",
    "        -1.7393e+00, -2.8814e-01, -5.0310e-01, -2.2077e+00, -1.5507e+00]\n",
    "\n",
    "\n",
    "def plotting_lg(lg, true=lg_true):\n",
    "  fig, ax = plt.subplots(figsize=(7, 7))\n",
    "  ax.plot([-6, 1], [-6, 1], label=\"Ground Truth\")\n",
    "  ax.scatter(true, lg, marker=\"x\",\n",
    "             label=\"Your implementation\")\n",
    "  ax.set_xlabel(\"Loss from oracle implementation\")\n",
    "  ax.set_ylabel(\"Loss from your implementation\")\n",
    "  ax.legend()\n",
    "  ax.set_title(\"Generator loss\")"
   ]
  },
  {
   "cell_type": "code",
   "execution_count": null,
   "metadata": {
    "cellView": "form",
    "execution": {}
   },
   "outputs": [],
   "source": [
    "# @title Set random seed\n",
    "\n",
    "# @markdown Executing `set_seed(seed=seed)` you are setting the seed\n",
    "\n",
    "# for DL its critical to set the random seed so that students can have a\n",
    "# baseline to compare their results to expected results.\n",
    "# Read more here: https://pytorch.org/docs/stable/notes/randomness.html\n",
    "\n",
    "# Call `set_seed` function in the exercises to ensure reproducibility.\n",
    "import random\n",
    "import torch\n",
    "\n",
    "def set_seed(seed=None, seed_torch=True):\n",
    "  if seed is None:\n",
    "    seed = np.random.choice(2 ** 32)\n",
    "  random.seed(seed)\n",
    "  np.random.seed(seed)\n",
    "  if seed_torch:\n",
    "    torch.manual_seed(seed)\n",
    "    torch.cuda.manual_seed_all(seed)\n",
    "    torch.cuda.manual_seed(seed)\n",
    "    torch.backends.cudnn.benchmark = False\n",
    "    torch.backends.cudnn.deterministic = True\n",
    "\n",
    "  print(f'Random seed {seed} has been set.')\n",
    "\n",
    "\n",
    "# In case that `DataLoader` is used\n",
    "def seed_worker(worker_id):\n",
    "  worker_seed = torch.initial_seed() % 2**32\n",
    "  np.random.seed(worker_seed)\n",
    "  random.seed(worker_seed)"
   ]
  },
  {
   "cell_type": "code",
   "execution_count": null,
   "metadata": {
    "cellView": "form",
    "execution": {}
   },
   "outputs": [],
   "source": [
    "# @title Set device (GPU or CPU). Execute `set_device()`\n",
    "# especially if torch modules used.\n",
    "\n",
    "# inform the user if the notebook uses GPU or CPU.\n",
    "\n",
    "def set_device():\n",
    "  device = \"cuda\" if torch.cuda.is_available() else \"cpu\"\n",
    "  if device != \"cuda\":\n",
    "    print(\"WARNING: For this notebook to perform best, \"\n",
    "        \"if possible, in the menu under `Runtime` -> \"\n",
    "        \"`Change runtime type.`  select `GPU` \")\n",
    "  else:\n",
    "    print(\"GPU is enabled in this notebook.\")\n",
    "\n",
    "  return device"
   ]
  },
  {
   "cell_type": "code",
   "execution_count": null,
   "metadata": {
    "execution": {}
   },
   "outputs": [],
   "source": [
    "SEED = 2021\n",
    "set_seed(seed=SEED)\n",
    "DEVICE = set_device()"
   ]
  },
  {
   "cell_type": "markdown",
   "metadata": {
    "execution": {}
   },
   "source": [
    "---\n",
    "# Section 1: How to train GANs\n",
    "\n",
    "*Time estimate: ~15mins*"
   ]
  },
  {
   "cell_type": "code",
   "execution_count": null,
   "metadata": {
    "cellView": "form",
    "execution": {}
   },
   "outputs": [],
   "source": [
    "# @title Video 1: Generative Adversarial Networks\n",
    "from ipywidgets import widgets\n",
    "\n",
    "out2 = widgets.Output()\n",
    "with out2:\n",
    "  from IPython.display import IFrame\n",
    "  class BiliVideo(IFrame):\n",
    "    def __init__(self, id, page=1, width=400, height=300, **kwargs):\n",
    "      self.id=id\n",
    "      src = \"https://player.bilibili.com/player.html?bvid={0}&page={1}\".format(id, page)\n",
    "      super(BiliVideo, self).__init__(src, width, height, **kwargs)\n",
    "\n",
    "  video = BiliVideo(id=f\"BV1o64y1i7xA\", width=854, height=480, fs=1)\n",
    "  print(\"Video available at https://www.bilibili.com/video/{0}\".format(video.id))\n",
    "  display(video)\n",
    "\n",
    "out1 = widgets.Output()\n",
    "with out1:\n",
    "  from IPython.display import YouTubeVideo\n",
    "  video = YouTubeVideo(id=f\"FmUbll93kms\", width=854, height=480, fs=1, rel=0)\n",
    "  print(\"Video available at https://youtube.com/watch?v=\" + video.id)\n",
    "  display(video)\n",
    "\n",
    "out = widgets.Tab([out1, out2])\n",
    "out.set_title(0, 'Youtube')\n",
    "out.set_title(1, 'Bilibili')\n",
    "\n",
    "# add event to airtable\n",
    "atform.add_event('Video 1: Generative Adversarial Networks')\n",
    "\n",
    "display(out)"
   ]
  },
  {
   "cell_type": "markdown",
   "metadata": {
    "execution": {}
   },
   "source": [
    "GANs consist two networks: A critic or discriminator (`disc`) and a generator (`gen`) that are trained by alternating between the following two steps:\n",
    "- In step 1, we update the parameters (`disc.params`) of the discriminator by backpropagating through the discriminator loss (BCE loss) `disc.loss`.\n",
    "- In step 2, we update the parameters (`gen.params`) of the generator by backpropagating through the generator loss, `gen.loss` (-1 * BCE loss).\n",
    "\n",
    "We will now implement a simple GAN training loop!"
   ]
  },
  {
   "cell_type": "markdown",
   "metadata": {
    "execution": {}
   },
   "source": [
    "## Coding Exercise 1: The GAN training loop\n",
    "\n",
    "To get you started we have implemented a simple GAN in pseudocode. All you have to do is to implement the training loop.\n",
    "\n",
    "__Your goal__ is to arrange the functions given below in the correct order in the `train_gan_iter` function\n",
    "- `disc.loss(x_real, x_fake)`: Discriminator loss\n",
    "- `disc.classify(x)`: Classify `x` as real or fake\n",
    "- `gen.loss(x_fake, disc_fn)`: Generator loss\n",
    "- `disc_fn(x)` is a function to check `x` is real or fake.\n",
    "- `gen.sample(num_samples)`: Generate samples from the generator\n",
    "- `backprop(loss, model)`: Compute gradient of `loss` wrt `model`\n",
    "- `model` is either `disc` or `gen`\n",
    "\n",
    "We have already taken care of most of these functions. So you only have to figure out the placement of `disc.loss` and `gen.loss` functions.\n",
    "\n",
    "__We highly recommend studying `train_gan_iter` function to understand how the GAN training loop is structured.__ "
   ]
  },
  {
   "cell_type": "code",
   "execution_count": null,
   "metadata": {
    "cellView": "form",
    "execution": {}
   },
   "outputs": [],
   "source": [
    "# @markdown *Execute this cell to enable helper functions*\n",
    "\n",
    "def get_data():\n",
    "  return \"get_data\"\n",
    "\n",
    "\n",
    "class Disc:\n",
    "\n",
    "  def loss(self, x_real, x_fake):\n",
    "    assert x_real == \"get_data\" and x_fake == \"gen.sample\", \"Inputs to disc.loss is wrong\"\n",
    "\n",
    "  def classify(self, x):\n",
    "    return \"disc.classify\"\n",
    "\n",
    "\n",
    "class Gen:\n",
    "\n",
    "  def loss(self, x_fake, disc_fn):\n",
    "    assert x_fake == \"gen.sample\" and disc_fn(None) == \"disc.classify\", \"Inputs to gen.loss is wrong\"\n",
    "\n",
    "  def sample(self, num_samples):\n",
    "    return \"gen.sample\"\n",
    "\n",
    "\n",
    "def backprop(loss, model):\n",
    "  pass\n",
    "\n",
    "\n",
    "def update(model, grad):\n",
    "  pass"
   ]
  },
  {
   "cell_type": "code",
   "execution_count": null,
   "metadata": {
    "execution": {}
   },
   "outputs": [],
   "source": [
    "def train_gan_iter(data, disc, gen):\n",
    "  \"\"\"Update the discriminator (`disc`) and the generator (`gen`) using `data`\n",
    "\n",
    "  Args:\n",
    "    data (ndarray): An array of shape (N,) that contains the data\n",
    "    disc (Disc): The discriminator\n",
    "    gen (Gen): The generator\n",
    "\n",
    "  Returns:\n",
    "  \"\"\"\n",
    "  #################################################\n",
    "  # Intructions for students:                     #\n",
    "  # Fill out ... in the function and remove below #\n",
    "  #################################################\n",
    "\n",
    "  # Number of samples in the data batch\n",
    "  num_samples = 200\n",
    "\n",
    "  # The data is the real samples\n",
    "  x_real = data\n",
    "\n",
    "  ## Discriminator training\n",
    "\n",
    "  # Ask the generator to generate some fake samples\n",
    "  x_fake = gen.sample(num_samples)\n",
    "\n",
    "  #################################################\n",
    "  ## TODO for students: details of what they should do ##\n",
    "  # Fill out function and remove\n",
    "  raise NotImplementedError(\"Student exercise: Write code to compute disc_loss\")\n",
    "  #################################################\n",
    "  # Compute the discriminator loss\n",
    "  disc_loss = ...\n",
    "\n",
    "  # Compute the gradient for discriminator\n",
    "  disc_grad = backprop(disc_loss, disc)\n",
    "\n",
    "  # Update the discriminator\n",
    "  update(disc, disc_grad)\n",
    "\n",
    "  ## Generator training\n",
    "\n",
    "  # Ask the generator to generate some fake samples\n",
    "  x_fake = gen.sample(num_samples)\n",
    "\n",
    "  #################################################\n",
    "  ## TODO for students: details of what they should do ##\n",
    "  # Fill out function and remove\n",
    "  raise NotImplementedError(\"Student exercise: Write code to compute gen_loss\")\n",
    "  #################################################\n",
    "  # Compute the generator loss\n",
    "  gen_loss = ...\n",
    "\n",
    "  # Compute the gradient for generator\n",
    "  gen_grad = backprop(gen_loss, gen)\n",
    "\n",
    "  # Update the generator\n",
    "  update(gen, gen_grad)\n",
    "\n",
    "  print(\"Your implementation passes the check!\")\n",
    "\n",
    "  return None\n",
    "\n",
    "\n",
    "# add event to airtable\n",
    "atform.add_event('Coding Exercise 1: The GAN training loop')\n",
    "\n",
    "data = get_data()\n",
    "disc = Disc()\n",
    "gen = Gen()\n",
    "## Uncomment below to check your function\n",
    "# train_gan_iter(data, disc, gen)"
   ]
  },
  {
   "cell_type": "code",
   "execution_count": null,
   "metadata": {
    "execution": {}
   },
   "outputs": [],
   "source": [
    "# to_remove solution\n",
    "def train_gan_iter(data, disc, gen):\n",
    "  \"\"\"Update the discriminator (`disc`) and the generator (`gen`) using `data`\n",
    "\n",
    "  Args:\n",
    "    data (ndarray): An array of shape (N,) that contains the data\n",
    "    disc (Disc): The discriminator\n",
    "    gen (Gen): The generator\n",
    "\n",
    "  Returns:\n",
    "  \"\"\"\n",
    "\n",
    "  # Number of samples in the data batch\n",
    "  num_samples = 200\n",
    "\n",
    "  # The data is the real samples\n",
    "  x_real = data\n",
    "\n",
    "  ## Discriminator training\n",
    "\n",
    "  # Ask the generator to generate some fake samples\n",
    "  x_fake = gen.sample(num_samples)\n",
    "\n",
    "  # Compute the discriminator loss\n",
    "  disc_loss = disc.loss(x_real, x_fake)\n",
    "\n",
    "  # Compute the gradient for discriminator\n",
    "  disc_grad = backprop(disc_loss, disc)\n",
    "\n",
    "  # Update the discriminator\n",
    "  update(disc, disc_grad)\n",
    "\n",
    "  ## Generator training\n",
    "\n",
    "  # Ask the generator to generate some fake samples\n",
    "  x_fake = gen.sample(num_samples)\n",
    "\n",
    "  # Compute the generator loss\n",
    "  gen_loss = gen.loss(x_fake, disc.classify)\n",
    "\n",
    "  # Compute the gradient for generator\n",
    "  gen_grad = backprop(gen_loss, gen)\n",
    "\n",
    "  # Update the generator\n",
    "  update(gen, gen_grad)\n",
    "\n",
    "  print(\"Your implementation passes the check!\")\n",
    "\n",
    "  return None\n",
    "\n",
    "\n",
    "# add event to airtable\n",
    "atform.add_event('Coding Exercise 1: The GAN training loop')\n",
    "\n",
    "data = get_data()\n",
    "disc = Disc()\n",
    "gen = Gen()\n",
    "## Uncomment below to check your function\n",
    "train_gan_iter(data, disc, gen)"
   ]
  },
  {
   "cell_type": "markdown",
   "metadata": {
    "execution": {}
   },
   "source": [
    "---\n",
    "# Section 2: GAN Training Objective\n",
    "\n",
    "*Time estimate: ~20mins*"
   ]
  },
  {
   "cell_type": "markdown",
   "metadata": {
    "execution": {}
   },
   "source": [
    "The training objective of GANs consists of the losses for generators and discriminators respectively. In this section we will be implementing these objectives."
   ]
  },
  {
   "cell_type": "code",
   "execution_count": null,
   "metadata": {
    "cellView": "form",
    "execution": {}
   },
   "outputs": [],
   "source": [
    "# @title Video 2: Principles of GANs\n",
    "from ipywidgets import widgets\n",
    "\n",
    "out2 = widgets.Output()\n",
    "with out2:\n",
    "  from IPython.display import IFrame\n",
    "  class BiliVideo(IFrame):\n",
    "    def __init__(self, id, page=1, width=400, height=300, **kwargs):\n",
    "      self.id=id\n",
    "      src = \"https://player.bilibili.com/player.html?bvid={0}&page={1}\".format(id, page)\n",
    "      super(BiliVideo, self).__init__(src, width, height, **kwargs)\n",
    "\n",
    "  video = BiliVideo(id=f\"BV1bo4y1U7YT\", width=854, height=480, fs=1)\n",
    "  print(\"Video available at https://www.bilibili.com/video/{0}\".format(video.id))\n",
    "  display(video)\n",
    "\n",
    "out1 = widgets.Output()\n",
    "with out1:\n",
    "  from IPython.display import YouTubeVideo\n",
    "  video = YouTubeVideo(id=f\"U_4z5-hX1Kg\", width=854, height=480, fs=1, rel=0)\n",
    "  print(\"Video available at https://youtube.com/watch?v=\" + video.id)\n",
    "  display(video)\n",
    "\n",
    "out = widgets.Tab([out1, out2])\n",
    "out.set_title(0, 'Youtube')\n",
    "out.set_title(1, 'Bilibili')\n",
    "\n",
    "# add event to airtable\n",
    "atform.add_event('Video 2: Principles of GANs')\n",
    "\n",
    "display(out)"
   ]
  },
  {
   "cell_type": "markdown",
   "metadata": {
    "execution": {}
   },
   "source": [
    "## Section 2.1:  Discriminator Loss\n",
    "\n",
    "The critic or the discriminator in a vanilla GAN is trained as a binary classifier using the BCE criteria. In this section, we will implement the training objective for the discriminator. \n",
    "\n",
    "\\begin{equation}\n",
    "\\text{BCE}_\\omega = \\mathbb{E}_{x \\sim p}[\\log(\\sigma(D_\\omega(x)))] + \\mathbb{E}_{x \\sim q}[\\log(1 - \\sigma(D_\\omega(x)))]\n",
    "\\end{equation}\n",
    "\n",
    "Here, $p$ is the data distribution and $q$ is the generator distribution. $D_\\omega$ is the logit, which represents $\\log \\frac{p}{q}$. $\\sigma$ is the sigmoid function and therfore, $\\sigma(D_\\omega)$ represents $\\frac{p}{p+q}$."
   ]
  },
  {
   "cell_type": "markdown",
   "metadata": {
    "execution": {}
   },
   "source": [
    "### Coding Exercise 2.1: Implement Discriminator Loss\n",
    "\n",
    "To get you started we have implemented a simple GAN in pseudocode and partially implemented the discriminator training objective.\n",
    "\n",
    "**Your goal** is to complete the missing part in the training objective of the discriminator in the function `loss_disc`.\n",
    "\n",
    "`loss_disc` also allows you evaluate the loss function on some random samples.\n",
    "If your implementation is correct, you will see a plot where the loss values from your implementation will match the ground truth loss values.\n",
    "\n",
    "In practice, given $N$ samples, we estimate BCE as\n",
    "\n",
    "\\begin{equation}\n",
    "\\text{BCE}_\\omega = -\\frac{1}{N} \\sum_{i=1}^N y_i \\log(\\sigma(D_\\omega(x_i)) + (1-y_i) \\log(1-\\sigma(D_\\omega(x_i))).\n",
    "\\end{equation}\n",
    "\n",
    "Here, $y$ is the label. $y=1$ when $x \\sim p$ (real data) and $y=0$ when $x \\sim q$ (i.e., fake data).\n",
    "\n",
    "Please note, `disc.classify` = $\\sigma(D_\\omega)$ in `loss_disc`."
   ]
  },
  {
   "cell_type": "code",
   "execution_count": null,
   "metadata": {
    "cellView": "form",
    "execution": {}
   },
   "outputs": [],
   "source": [
    "# @markdown *Execute this cell to enable helper functions*\n",
    "\n",
    "def get_data(num_samples=100, seed=0):\n",
    "  set_seed(seed)\n",
    "  return torch.randn([num_samples, 1])\n",
    "\n",
    "\n",
    "class DummyGen:\n",
    "  def sample(self, num_samples=100, seed=1):\n",
    "    set_seed(seed)\n",
    "    return torch.randn([num_samples, 1]) + 2\n",
    "\n",
    "\n",
    "class DummyDisc:\n",
    "  def classify(self, x, seed=0):\n",
    "    set_seed(seed)\n",
    "    return torch.rand([x.shape[0], ])"
   ]
  },
  {
   "cell_type": "code",
   "execution_count": null,
   "metadata": {
    "execution": {}
   },
   "outputs": [],
   "source": [
    "def loss_disc(disc, x_real, x_fake):\n",
    "  \"\"\"Compute the discriminator loss for `x_real` and `x_fake` given `disc`\n",
    "\n",
    "  Args:\n",
    "    disc: The discriminator\n",
    "    x_real (ndarray): An array of shape (N,) that contains the real samples\n",
    "    x_fake (ndarray): An array of shape (N,) that contains the fake samples\n",
    "\n",
    "  Returns:\n",
    "    ndarray: The discriminator loss\n",
    "  \"\"\"\n",
    "\n",
    "  label_real = 1\n",
    "  #################################################\n",
    "  # TODO for students: Loss for real data\n",
    "  raise NotImplementedError(\"Student exercise: Implement loss for real samples\")\n",
    "  #################################################\n",
    "  loss_real = label_real * ...\n",
    "\n",
    "  label_fake = 0\n",
    "  #################################################\n",
    "  # TODO for students: Loss for fake data\n",
    "  raise NotImplementedError(\"Student exercise: Implement loss for fake samples\")\n",
    "  #################################################\n",
    "  loss_fake = ... * torch.log(1 - disc.classify(x_fake))\n",
    "\n",
    "\n",
    "  return torch.cat([loss_real, loss_fake])\n",
    "\n",
    "\n",
    "# add event to airtable\n",
    "atform.add_event('Coding Exercise 2.1: Implement Discriminator Loss')\n",
    "\n",
    "disc = DummyDisc()\n",
    "gen = DummyGen()\n",
    "\n",
    "x_real = get_data()\n",
    "x_fake = gen.sample()\n",
    "\n",
    "## Uncomment to check your function\n",
    "# ld = loss_disc(disc, x_real, x_fake)\n",
    "# plotting_ld(ld)"
   ]
  },
  {
   "cell_type": "code",
   "execution_count": null,
   "metadata": {
    "execution": {}
   },
   "outputs": [],
   "source": [
    "# to_remove solution\n",
    "def loss_disc(disc, x_real, x_fake):\n",
    "  \"\"\"Compute the discriminator loss for `x_real` and `x_fake` given `disc`\n",
    "\n",
    "  Args:\n",
    "    disc: The discriminator\n",
    "    x_real (ndarray): An array of shape (N,) that contains the real samples\n",
    "    x_fake (ndarray): An array of shape (N,) that contains the fake samples\n",
    "\n",
    "  Returns:\n",
    "    ndarray: The discriminator loss\n",
    "  \"\"\"\n",
    "\n",
    "  # Loss for real data\n",
    "  label_real = 1\n",
    "  loss_real = label_real * torch.log(disc.classify(x_real))\n",
    "\n",
    "  # Loss for fake data\n",
    "  label_fake = 0\n",
    "  loss_fake = (1 - label_fake) * torch.log(1 - disc.classify(x_fake))\n",
    "\n",
    "  return torch.cat([loss_real, loss_fake])\n",
    "\n",
    "\n",
    "# add event to airtable\n",
    "atform.add_event('Coding Exercise 2.1: Implement Discriminator Loss')\n",
    "\n",
    "disc = DummyDisc()\n",
    "gen = DummyGen()\n",
    "\n",
    "x_real = get_data()\n",
    "x_fake = gen.sample()\n",
    "\n",
    "## Uncomment to check your function\n",
    "ld = loss_disc(disc, x_real, x_fake)\n",
    "with plt.xkcd():\n",
    "  plotting_ld(ld)"
   ]
  },
  {
   "cell_type": "markdown",
   "metadata": {
    "execution": {}
   },
   "source": [
    "**A note on numerical stability**\n",
    "\n",
    "It is common that functions like $\\log$ throw a numerical error.\n",
    "For $\\log$, it happens when $x$ in $\\log(x)$ is very close to 0.\n",
    "The most common practice is to always add some very small value $\\epsilon$ to $x$, i.e. use $\\log(x + \\epsilon)$ instead.\n",
    "Most build-in functions in modern DL frameworks like TensorFlow or PyTorch handle such things in their build-in loss already, e.g., `torch.nn.BCE`, which is equivalent to the loss you implemented above."
   ]
  },
  {
   "cell_type": "markdown",
   "metadata": {
    "execution": {}
   },
   "source": [
    "## Section 2.3:  The generator loss\n",
    "\n",
    "Now that we have a trained critic, lets see how to train the generator using it."
   ]
  },
  {
   "cell_type": "markdown",
   "metadata": {
    "execution": {}
   },
   "source": [
    "### Coding Exercise 2.3: The generator loss\n",
    "\n",
    "We will now implement the generator loss function and evaluate it on some fixed points.\n",
    "\n",
    "**Your goal** is to complete the implementation of the function `loss_gen` using the optimal critic from above.\n",
    "\n",
    "Upon correct implementation, you shall see a plot where the loss values from generator samples align with the \"Correct\" values.\n",
    "\n",
    "**HINT:** You simply need to change the labels. "
   ]
  },
  {
   "cell_type": "code",
   "execution_count": null,
   "metadata": {
    "execution": {}
   },
   "outputs": [],
   "source": [
    "def loss_gen(disc, x_fake):\n",
    "  \"\"\"Compute the generator loss for `x_fake` given `disc`\n",
    "\n",
    "  Args:\n",
    "    disc: The generator\n",
    "    x_fake (ndarray): An array of shape (N,) that contains the fake samples\n",
    "\n",
    "  Returns:\n",
    "    ndarray: The generator loss\n",
    "  \"\"\"\n",
    "\n",
    "  #################################################\n",
    "  # TODO for students: Loss for fake data\n",
    "  raise NotImplementedError(\"Student exercise: Implement loss for fake data\")\n",
    "  #################################################\n",
    "  label_fake = ...\n",
    "  loss_fake = label_fake * ...\n",
    "\n",
    "  return loss_fake\n",
    "\n",
    "\n",
    "# add event to airtable\n",
    "atform.add_event('Coding Exercise 2.3: The generator loss')\n",
    "\n",
    "disc = DummyDisc()\n",
    "gen = DummyGen()\n",
    "\n",
    "x_fake = gen.sample()\n",
    "## Uncomment below to check your function\n",
    "# lg = loss_gen(disc, x_fake)\n",
    "# plotting_lg(lg)"
   ]
  },
  {
   "cell_type": "code",
   "execution_count": null,
   "metadata": {
    "execution": {}
   },
   "outputs": [],
   "source": [
    "# to_remove solution\n",
    "def loss_gen(disc, x_fake):\n",
    "  \"\"\"Compute the generator loss for `x_fake` given `disc`\n",
    "\n",
    "  Args:\n",
    "    disc: The generator\n",
    "    x_fake (ndarray): An array of shape (N,) that contains the fake samples\n",
    "\n",
    "  Returns:\n",
    "    ndarray: The generator loss\n",
    "  \"\"\"\n",
    "\n",
    "  # Loss for fake data\n",
    "  label_fake = 1\n",
    "  loss_fake = label_fake * torch.log(disc.classify(x_fake))\n",
    "\n",
    "  return loss_fake\n",
    "\n",
    "\n",
    "# add event to airtable\n",
    "atform.add_event('Coding Exercise 2.3: The generator loss')\n",
    "\n",
    "disc = DummyDisc()\n",
    "gen = DummyGen()\n",
    "\n",
    "x_fake = gen.sample()\n",
    "## Uncomment below to check your function\n",
    "lg = loss_gen(disc, x_fake)\n",
    "with plt.xkcd():\n",
    "  plotting_lg(lg)"
   ]
  },
  {
   "cell_type": "markdown",
   "metadata": {
    "execution": {}
   },
   "source": [
    "**Did you notice?**\n",
    "\n",
    "The loss you implemented for generator is essentially the part for real data in `loss_disc`, i.e., it is saying, \"*the data I am feeding to you is real and not fake*\"."
   ]
  },
  {
   "cell_type": "markdown",
   "metadata": {
    "execution": {}
   },
   "source": [
    "---\n",
    "# Section 3: The difficulty of GAN training.\n",
    "\n",
    "*Time estimate: ~10mins*"
   ]
  },
  {
   "cell_type": "markdown",
   "metadata": {
    "execution": {}
   },
   "source": [
    "In this section we will develop an intuition for the training dynamics of GANs."
   ]
  },
  {
   "cell_type": "markdown",
   "metadata": {
    "execution": {}
   },
   "source": [
    "## Interactive Demo 2: Failure modes of GAN training\n",
    "\n",
    "GAN training is notoriously difficult because \n",
    "it is very sensitive to hyper-parameters such as learning rate and model architecture. To help you develop a sense of this here is a very simple GAN training demo that we have borrowed from [Andrej Karpathy's website](https://cs.stanford.edu/people/karpathy/gan/).  \n",
    "\n",
    "The generator $G$, pictured in red, takes inputs sampled from a uniform distribution, $z$. It attempts to transform these to match a data distribution, shown below in blue. Meanwhile, the discriminator $D$ attempts to determine whether a sample is from the data distribution or the generating distribution. In the demo, the green curve represents the output of the discriminator. Its value is high where the discriminator is more confident that a sample with that value is drawn from the data distribution.\n",
    "\n",
    "Even though the GAN in this demo is very simple and operates in either 1D or 2D spaces, it is however very sensitive to the learning rate. Try it for yourself!"
   ]
  },
  {
   "cell_type": "code",
   "execution_count": null,
   "metadata": {
    "cellView": "form",
    "execution": {}
   },
   "outputs": [],
   "source": [
    "# @title Video 3: GAN generator Learning Idea\n",
    "from ipywidgets import widgets\n",
    "\n",
    "out2 = widgets.Output()\n",
    "with out2:\n",
    "  from IPython.display import IFrame\n",
    "  class BiliVideo(IFrame):\n",
    "    def __init__(self, id, page=1, width=400, height=300, **kwargs):\n",
    "      self.id=id\n",
    "      src = \"https://player.bilibili.com/player.html?bvid={0}&page={1}\".format(id, page)\n",
    "      super(BiliVideo, self).__init__(src, width, height, **kwargs)\n",
    "\n",
    "  video = BiliVideo(id=f\"BV1aL411J7SE\", width=854, height=480, fs=1)\n",
    "  print(\"Video available at https://www.bilibili.com/video/{0}\".format(video.id))\n",
    "  display(video)\n",
    "\n",
    "out1 = widgets.Output()\n",
    "with out1:\n",
    "  from IPython.display import YouTubeVideo\n",
    "  video = YouTubeVideo(id=f\"Iqqz2_USUGs\", width=854, height=480, fs=1, rel=0)\n",
    "  print(\"Video available at https://youtube.com/watch?v=\" + video.id)\n",
    "  display(video)\n",
    "\n",
    "out = widgets.Tab([out1, out2])\n",
    "out.set_title(0, 'Youtube')\n",
    "out.set_title(1, 'Bilibili')\n",
    "\n",
    "# add event to airtable\n",
    "atform.add_event('Video 3: GAN generator Learning Idea')\n",
    "\n",
    "display(out)"
   ]
  },
  {
   "cell_type": "code",
   "execution_count": null,
   "metadata": {
    "cellView": "form",
    "execution": {}
   },
   "outputs": [],
   "source": [
    "# @title GAN training demo\n",
    "# @markdown Make sure you execute this cell to enable the widget!\n",
    "\n",
    "from IPython.display import IFrame\n",
    "IFrame(src='https://xukai92.github.io/gan_demo/index.html', width=900, height=600)"
   ]
  },
  {
   "cell_type": "markdown",
   "metadata": {
    "execution": {}
   },
   "source": [
    "## Think! 2: What makes GANs hard to train?\n",
    "\n",
    "You have played with the demo and it's time to think about a few questions\n",
    "\n",
    "1. Which target is more stable to train, 1D or 2D?\n",
    "2. If you keep increasing the learning rate, what happens? Does it happen in both the cases, i.e., 1D/2D targets?\n",
    "3. Can you think of some drawbacks of using small learning rates?"
   ]
  },
  {
   "cell_type": "code",
   "execution_count": null,
   "metadata": {
    "cellView": "form",
    "execution": {}
   },
   "outputs": [],
   "source": [
    "# @title Student Response\n",
    "from ipywidgets import widgets\n",
    "\n",
    "\n",
    "text=widgets.Textarea(\n",
    "   value='Type your answer here and click on `Submit!`',\n",
    "   placeholder='Type something',\n",
    "   description='',\n",
    "   disabled=False\n",
    ")\n",
    "\n",
    "button = widgets.Button(description=\"Submit!\")\n",
    "\n",
    "display(text,button)\n",
    "\n",
    "def on_button_clicked(b):\n",
    "   atform.add_answer('q1', text.value)\n",
    "   print(\"Submission successful!\")\n",
    "\n",
    "\n",
    "button.on_click(on_button_clicked)"
   ]
  },
  {
   "cell_type": "code",
   "execution_count": null,
   "metadata": {
    "execution": {}
   },
   "outputs": [],
   "source": [
    "# to_remove explanation\n",
    "\n",
    "\"\"\"\n",
    "1. 2D as it is simply a more difficult distribution to model compared to the\n",
    "  unimodal 1D example.\n",
    "2. The training becomes unstable and eventually diverges. Yes.\n",
    "3. Training is too slow and takes longer to convege.\n",
    "\n",
    "In general, when training a GAN, we need to ensure a certain balance between\n",
    "the critic and generator training. As such, tuninig the learning rate\n",
    "is crucial for succesfully training GANs.\n",
    "\"\"\";"
   ]
  },
  {
   "cell_type": "code",
   "execution_count": null,
   "metadata": {
    "cellView": "form",
    "execution": {}
   },
   "outputs": [],
   "source": [
    "# @title Video 4: GAN Failure Models\n",
    "from ipywidgets import widgets\n",
    "\n",
    "out2 = widgets.Output()\n",
    "with out2:\n",
    "  from IPython.display import IFrame\n",
    "  class BiliVideo(IFrame):\n",
    "    def __init__(self, id, page=1, width=400, height=300, **kwargs):\n",
    "      self.id=id\n",
    "      src = \"https://player.bilibili.com/player.html?bvid={0}&page={1}\".format(id, page)\n",
    "      super(BiliVideo, self).__init__(src, width, height, **kwargs)\n",
    "\n",
    "  video = BiliVideo(id=f\"BV17M4y1L7w9\", width=854, height=480, fs=1)\n",
    "  print(\"Video available at https://www.bilibili.com/video/{0}\".format(video.id))\n",
    "  display(video)\n",
    "\n",
    "out1 = widgets.Output()\n",
    "with out1:\n",
    "  from IPython.display import YouTubeVideo\n",
    "  video = YouTubeVideo(id=f\"fmU2UM_QzLo\", width=854, height=480, fs=1, rel=0)\n",
    "  print(\"Video available at https://youtube.com/watch?v=\" + video.id)\n",
    "  display(video)\n",
    "\n",
    "out = widgets.Tab([out1, out2])\n",
    "out.set_title(0, 'Youtube')\n",
    "out.set_title(1, 'Bilibili')\n",
    "\n",
    "# add event to airtable\n",
    "atform.add_event('Video 4: GAN Failure Models')\n",
    "\n",
    "display(out)"
   ]
  },
  {
   "cell_type": "markdown",
   "metadata": {
    "execution": {}
   },
   "source": [
    "---\n",
    "# Section 4: GAN training in action!\n",
    "\n",
    "*Time estimate: ~4mins*"
   ]
  },
  {
   "cell_type": "markdown",
   "metadata": {
    "execution": {}
   },
   "source": [
    "In this section we will be playing with a complete implementation of GAN."
   ]
  },
  {
   "cell_type": "markdown",
   "metadata": {
    "execution": {}
   },
   "source": [
    "## Interactive Demo 4: GAN training in action\n"
   ]
  },
  {
   "cell_type": "code",
   "execution_count": null,
   "metadata": {
    "cellView": "form",
    "execution": {}
   },
   "outputs": [],
   "source": [
    "# @title GanLab\n",
    "from IPython.display import HTML\n",
    "HTML('<iframe width=\"1500\" height=\"660\" src=\"https://poloclub.github.io/ganlab/\" allowfullscreen></iframe>')"
   ]
  },
  {
   "cell_type": "markdown",
   "metadata": {
    "execution": {}
   },
   "source": [
    "---\n",
    "# Summary\n",
    "\n",
    "Through this tutorial, we have learned\n",
    "\n",
    "- How to implement the training loop of GANs.\n",
    "- Developed an intuition about the training dynamics of GANs.\n",
    "- How to implement the training objectives for the generator and discriminator of GANs.\n",
    "- How are GANs connected to density ratio estimation.\n",
    "\n",
    "Next tutorial will cover conditional GANs and ethical issues of DL."
   ]
  },
  {
   "cell_type": "code",
   "execution_count": null,
   "metadata": {
    "cellView": "form",
    "execution": {}
   },
   "outputs": [],
   "source": [
    "# @title Airtable Submission Link\n",
    "from IPython import display as IPydisplay\n",
    "IPydisplay.HTML(\n",
    "   f\"\"\"\n",
    " <div>\n",
    "   <a href= \"{atform.url()}\" target=\"_blank\">\n",
    "   <img src=\"https://github.com/NeuromatchAcademy/course-content-dl/blob/main/tutorials/static/AirtableSubmissionButton.png?raw=1\"\n",
    " alt=\"button link to Airtable\" style=\"width:410px\"></a>\n",
    "   </div>\"\"\" )"
   ]
  }
 ],
 "metadata": {
  "accelerator": "GPU",
  "colab": {
   "collapsed_sections": [],
   "include_colab_link": true,
   "name": "W2D5_Tutorial2",
   "provenance": [],
   "toc_visible": true
  },
  "kernel": {
   "display_name": "Python 3",
   "language": "python",
   "name": "python3"
  },
  "kernelspec": {
   "display_name": "Python 3",
   "name": "python3"
  },
  "language_info": {
   "codemirror_mode": {
    "name": "ipython",
    "version": 3
   },
   "file_extension": ".py",
   "mimetype": "text/x-python",
   "name": "python",
   "nbconvert_exporter": "python",
   "pygments_lexer": "ipython3",
   "version": "3.7.11"
  }
 },
 "nbformat": 4,
 "nbformat_minor": 0
}
