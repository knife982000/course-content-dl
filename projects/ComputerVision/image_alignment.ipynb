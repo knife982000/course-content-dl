{
 "cells": [
  {
   "cell_type": "markdown",
   "metadata": {
    "colab_type": "text",
    "execution": {},
    "id": "view-in-github"
   },
   "source": [
    "<a href=\"https://colab.research.google.com/github/NeuromatchAcademy/course-content-dl/blob/main/projects/ComputerVision/image_alignment.ipynb\" target=\"_parent\"><img src=\"https://colab.research.google.com/assets/colab-badge.svg\" alt=\"Open In Colab\"/></a> &nbsp; <a href=\"https://kaggle.com/kernels/welcome?src=https://raw.githubusercontent.com/NeuromatchAcademy/course-content-dl/main/projects/ComputerVision/image_alignment.ipynb\" target=\"_parent\"><img src=\"https://kaggle.com/static/images/open-in-kaggle.svg\" alt=\"Open in Kaggle\"/></a>"
   ]
  },
  {
   "cell_type": "markdown",
   "metadata": {
    "execution": {}
   },
   "source": [
    "# Image Alignment \n",
    "\n",
    "**By Neuromatch Academy**\n",
    "\n",
    "__Content creators:__ Kaleb Vinehout\n",
    "\n",
    "__Production editor:__ Spiros Chavlis"
   ]
  },
  {
   "cell_type": "markdown",
   "metadata": {
    "execution": {}
   },
   "source": [
    "**Our 2021 Sponsors, including Presenting Sponsor Facebook Reality Labs**\n",
    "\n",
    "<p align='center'><img src='https://github.com/NeuromatchAcademy/widgets/blob/master/sponsors.png?raw=True'/></p>"
   ]
  },
  {
   "cell_type": "markdown",
   "metadata": {
    "execution": {}
   },
   "source": [
    "---\n",
    "# Objective\n",
    "\n",
    "This notebook will give you starting points to perform Spatial Transformers. These can be used for registraion of images. This is useful when comparing multiple datasets together. Check out https://arxiv.org/abs/1506.02025 for more details.These can also be used to plug into any CNN architecture to deal with dataset rotations and scale invariance in a given dataset\n",
    "\n",
    "* Spatial transformers contain three main parts.The first is a localizaion net the second is grid generator and the last is a sampler. "
   ]
  },
  {
   "cell_type": "markdown",
   "metadata": {
    "execution": {}
   },
   "source": [
    "---\n",
    "# Intro to Image Alignment\n",
    "  "
   ]
  },
  {
   "cell_type": "markdown",
   "metadata": {
    "execution": {}
   },
   "source": [
    "## Image Alignment Applications\n",
    "* To answer many biological questions, it is necessary to align sets of images together\n",
    "* Use Spatial Transfomers as a preprocessing step for any CNN achitecutre. This could be done before facial recognition in order to crop and align images before spatial recognition."
   ]
  },
  {
   "cell_type": "markdown",
   "metadata": {
    "execution": {}
   },
   "source": [
    "## Acknowledgments:\n",
    "This Notebook was developed by Kaleb Vinehout. It borrows from material by Ghassen Hamrouni, Asror Wali, and Erwin Russel."
   ]
  },
  {
   "cell_type": "markdown",
   "metadata": {
    "execution": {}
   },
   "source": [
    "---\n",
    "# Setup"
   ]
  },
  {
   "cell_type": "code",
   "execution_count": null,
   "metadata": {
    "cellView": "form",
    "execution": {}
   },
   "outputs": [
    {
     "name": "stdout",
     "output_type": "stream",
     "text": [
      "Collecting n2v==0.3.0\n",
      "  Downloading n2v-0.3.0-py2.py3-none-any.whl (42 kB)\n",
      "\u001b[K     |████████████████████████████████| 42 kB 994 kB/s \n",
      "\u001b[?25hCollecting ruamel.yaml>=0.16.10\n",
      "  Downloading ruamel.yaml-0.17.10-py3-none-any.whl (108 kB)\n",
      "\u001b[K     |████████████████████████████████| 108 kB 21.7 MB/s \n",
      "\u001b[?25hCollecting keras<2.4.0,>=2.1.1\n",
      "  Downloading Keras-2.3.1-py2.py3-none-any.whl (377 kB)\n",
      "\u001b[K     |████████████████████████████████| 377 kB 23.2 MB/s \n",
      "\u001b[?25hRequirement already satisfied: tifffile>=2020.5.11 in /usr/local/lib/python3.7/dist-packages (from n2v==0.3.0) (2021.7.2)\n",
      "Collecting imagecodecs>=2020.2.18\n",
      "  Downloading imagecodecs-2021.7.30-cp37-cp37m-manylinux_2_17_x86_64.manylinux2014_x86_64.whl (29.6 MB)\n",
      "\u001b[K     |████████████████████████████████| 29.6 MB 45 kB/s \n",
      "\u001b[?25hRequirement already satisfied: Pillow in /usr/local/lib/python3.7/dist-packages (from n2v==0.3.0) (7.1.2)\n",
      "Collecting csbdeep<0.7.0,>=0.6.0\n",
      "  Downloading csbdeep-0.6.2-py2.py3-none-any.whl (72 kB)\n",
      "\u001b[K     |████████████████████████████████| 72 kB 1.0 MB/s \n",
      "\u001b[?25hRequirement already satisfied: scipy in /usr/local/lib/python3.7/dist-packages (from n2v==0.3.0) (1.4.1)\n",
      "Requirement already satisfied: matplotlib in /usr/local/lib/python3.7/dist-packages (from n2v==0.3.0) (3.2.2)\n",
      "Requirement already satisfied: numpy in /usr/local/lib/python3.7/dist-packages (from n2v==0.3.0) (1.19.5)\n",
      "Requirement already satisfied: tqdm in /usr/local/lib/python3.7/dist-packages (from n2v==0.3.0) (4.41.1)\n",
      "Requirement already satisfied: six in /usr/local/lib/python3.7/dist-packages (from n2v==0.3.0) (1.15.0)\n",
      "Collecting h5py<3\n",
      "  Downloading h5py-2.10.0-cp37-cp37m-manylinux1_x86_64.whl (2.9 MB)\n",
      "\u001b[K     |████████████████████████████████| 2.9 MB 43.2 MB/s \n",
      "\u001b[?25hRequirement already satisfied: keras-preprocessing>=1.0.5 in /usr/local/lib/python3.7/dist-packages (from keras<2.4.0,>=2.1.1->n2v==0.3.0) (1.1.2)\n",
      "Collecting keras-applications>=1.0.6\n",
      "  Downloading Keras_Applications-1.0.8-py3-none-any.whl (50 kB)\n",
      "\u001b[K     |████████████████████████████████| 50 kB 5.6 MB/s \n",
      "\u001b[?25hRequirement already satisfied: pyyaml in /usr/local/lib/python3.7/dist-packages (from keras<2.4.0,>=2.1.1->n2v==0.3.0) (3.13)\n",
      "Collecting ruamel.yaml.clib>=0.1.2\n",
      "  Downloading ruamel.yaml.clib-0.2.6-cp37-cp37m-manylinux1_x86_64.whl (546 kB)\n",
      "\u001b[K     |████████████████████████████████| 546 kB 38.2 MB/s \n",
      "\u001b[?25hRequirement already satisfied: cycler>=0.10 in /usr/local/lib/python3.7/dist-packages (from matplotlib->n2v==0.3.0) (0.10.0)\n",
      "Requirement already satisfied: python-dateutil>=2.1 in /usr/local/lib/python3.7/dist-packages (from matplotlib->n2v==0.3.0) (2.8.1)\n",
      "Requirement already satisfied: kiwisolver>=1.0.1 in /usr/local/lib/python3.7/dist-packages (from matplotlib->n2v==0.3.0) (1.3.1)\n",
      "Requirement already satisfied: pyparsing!=2.0.4,!=2.1.2,!=2.1.6,>=2.0.1 in /usr/local/lib/python3.7/dist-packages (from matplotlib->n2v==0.3.0) (2.4.7)\n",
      "Installing collected packages: h5py, keras-applications, ruamel.yaml.clib, keras, ruamel.yaml, imagecodecs, csbdeep, n2v\n",
      "  Attempting uninstall: h5py\n",
      "    Found existing installation: h5py 3.1.0\n",
      "    Uninstalling h5py-3.1.0:\n",
      "      Successfully uninstalled h5py-3.1.0\n",
      "  Attempting uninstall: keras\n",
      "    Found existing installation: Keras 2.4.3\n",
      "    Uninstalling Keras-2.4.3:\n",
      "      Successfully uninstalled Keras-2.4.3\n",
      "\u001b[31mERROR: pip's dependency resolver does not currently take into account all the packages that are installed. This behaviour is the source of the following dependency conflicts.\n",
      "tensorflow 2.5.0 requires h5py~=3.1.0, but you have h5py 2.10.0 which is incompatible.\u001b[0m\n",
      "Successfully installed csbdeep-0.6.2 h5py-2.10.0 imagecodecs-2021.7.30 keras-2.3.1 keras-applications-1.0.8 n2v-0.3.0 ruamel.yaml-0.17.10 ruamel.yaml.clib-0.2.6\n"
     ]
    }
   ],
   "source": [
    "# @title Install dependencies\n",
    "!pip install scikit-image --quiet\n",
    "!pip install Pillow --quiet\n",
    "!pip install n2v==0.3.0\n",
    "!pip install csbdeep --quiet"
   ]
  },
  {
   "cell_type": "code",
   "execution_count": null,
   "metadata": {
    "execution": {}
   },
   "outputs": [],
   "source": [
    "# Imports\n",
    "import glob\n",
    "import time\n",
    "import sklearn.decomposition\n",
    "\n",
    "import numpy as np\n",
    "import matplotlib.pyplot as plt\n",
    "\n",
    "import torch\n",
    "import torch.nn as nn\n",
    "import torch.optim as optim\n",
    "import torch.nn.functional as F\n",
    "\n",
    "import torchvision\n",
    "from torchvision import transforms\n",
    "from torchvision.utils import make_grid\n",
    "from torchvision.datasets import ImageFolder\n",
    "from torchvision import datasets, transforms\n",
    "\n",
    "from PIL import Image\n",
    "from skimage.util import random_noise"
   ]
  },
  {
   "cell_type": "code",
   "execution_count": null,
   "metadata": {
    "cellView": "form",
    "execution": {}
   },
   "outputs": [],
   "source": [
    "# @title Figure settings\n",
    "%matplotlib inline\n",
    "plt.ion()   # interactive mode"
   ]
  },
  {
   "cell_type": "code",
   "execution_count": null,
   "metadata": {
    "cellView": "form",
    "execution": {}
   },
   "outputs": [],
   "source": [
    "# @title Set device (GPU or CPU). Execute `set_device()`\n",
    "# especially if torch modules used.\n",
    "\n",
    "# inform the user if the notebook uses GPU or CPU.\n",
    "\n",
    "def set_device():\n",
    "  device = \"cuda\" if torch.cuda.is_available() else \"cpu\"\n",
    "  if device != \"cuda\":\n",
    "    print(\"GPU is not enabled in this notebook. \\n\"\n",
    "          \"If you want to enable it, in the menu under `Runtime` -> \\n\"\n",
    "          \"`Hardware accelerator.` and select `GPU` from the dropdown menu\")\n",
    "  else:\n",
    "    print(\"GPU is enabled in this notebook. \\n\"\n",
    "          \"If you want to disable it, in the menu under `Runtime` -> \\n\"\n",
    "          \"`Hardware accelerator.` and select `None` from the dropdown menu\")\n",
    "\n",
    "  return device"
   ]
  },
  {
   "cell_type": "code",
   "execution_count": null,
   "metadata": {
    "execution": {}
   },
   "outputs": [
    {
     "name": "stdout",
     "output_type": "stream",
     "text": [
      "GPU is enabled in this notebook. \n",
      "If you want to disable it, in the menu under `Runtime` -> \n",
      "`Hardware accelerator.` and select `None` from the dropdown menu\n"
     ]
    }
   ],
   "source": [
    "device = set_device()"
   ]
  },
  {
   "cell_type": "markdown",
   "metadata": {
    "execution": {}
   },
   "source": [
    "---\n",
    "# Data loading"
   ]
  },
  {
   "cell_type": "markdown",
   "metadata": {
    "execution": {}
   },
   "source": [
    "## Loader for classic MNIST as an example"
   ]
  },
  {
   "cell_type": "code",
   "execution_count": null,
   "metadata": {
    "cellView": "form",
    "execution": {}
   },
   "outputs": [
    {
     "name": "stdout",
     "output_type": "stream",
     "text": [
      "\n",
      "Downloading MNIST dataset...\n",
      "\n",
      "Downloading MNIST completed.\n"
     ]
    }
   ],
   "source": [
    "# @title Download MNIST dataset\n",
    "import tarfile, requests, os\n",
    "\n",
    "fname = 'MNIST.tar.gz'\n",
    "name = 'MNIST'\n",
    "url = 'https://osf.io/y2fj6/download'\n",
    "\n",
    "if not os.path.exists(name):\n",
    "  print('\\nDownloading MNIST dataset...')\n",
    "  r = requests.get(url, allow_redirects=True)\n",
    "  with open(fname, 'wb') as fh:\n",
    "    fh.write(r.content)\n",
    "  print('\\nDownloading MNIST completed.')\n",
    "\n",
    "if not os.path.exists(name):\n",
    "  with tarfile.open(fname) as tar:\n",
    "    tar.extractall()\n",
    "    os.remove(fname)\n",
    "else:\n",
    "  print('MNIST dataset is dowloaded.')"
   ]
  },
  {
   "cell_type": "code",
   "execution_count": null,
   "metadata": {
    "execution": {}
   },
   "outputs": [],
   "source": [
    "# Training dataset\n",
    "train_loader = torch.utils.data.DataLoader(\n",
    "    datasets.MNIST(root='.', train=True, download=False,\n",
    "                   transform=transforms.Compose([\n",
    "                                                 transforms.ToTensor(),\n",
    "                                                 transforms.Normalize((0.1307,), (0.3081,))\n",
    "                                                 ])),\n",
    "                                           batch_size=64,\n",
    "                                           shuffle=True,\n",
    "                                           num_workers=2)\n",
    "# Test dataset\n",
    "test_loader = torch.utils.data.DataLoader(\n",
    "    datasets.MNIST(root='.', train=False, download=False,\n",
    "                   transform=transforms.Compose([\n",
    "                                                 transforms.ToTensor(),\n",
    "                                                 transforms.Normalize((0.1307,), (0.3081,))\n",
    "                                                 ])),\n",
    "                                          batch_size=64,\n",
    "                                          shuffle=True,\n",
    "                                          num_workers=2)"
   ]
  },
  {
   "cell_type": "markdown",
   "metadata": {
    "execution": {}
   },
   "source": [
    "Define functions to convert between Tensor and numpy image"
   ]
  },
  {
   "cell_type": "code",
   "execution_count": null,
   "metadata": {
    "execution": {}
   },
   "outputs": [],
   "source": [
    "def convert_image_np(inp):\n",
    "  \"\"\"Convert a Tensor to numpy image.\"\"\"\n",
    "  inp = inp.numpy().transpose((1, 2, 0))\n",
    "  mean = np.array([0.485, 0.456, 0.406])\n",
    "  std = np.array([0.229, 0.224, 0.225])\n",
    "  inp = std * inp + mean\n",
    "  inp = np.clip(inp, 0, 1)\n",
    "  return inp"
   ]
  },
  {
   "cell_type": "code",
   "execution_count": null,
   "metadata": {
    "execution": {}
   },
   "outputs": [],
   "source": [
    "def convert2tensor(self, args):\n",
    "  data = np.asarray([e[0] for e in self.binary_train_dataset])\n",
    "  target = np.asarray([e[1] for e in self.binary_train_dataset])\n",
    "\n",
    "  tensor_data = torch.from_numpy(data)\n",
    "  tensor_data = tensor_data.float()\n",
    "  tensor_target = torch.from_numpy(target)\n",
    "\n",
    "  train = data_utils.TensorDataset(tensor_data, tensor_target)\n",
    "  train_loader = data_utils.DataLoader(train, batch_size=args.batch_size, shuffle = True)\n",
    "  return train_loader"
   ]
  },
  {
   "cell_type": "markdown",
   "metadata": {
    "execution": {}
   },
   "source": [
    "Plot the data"
   ]
  },
  {
   "cell_type": "code",
   "execution_count": null,
   "metadata": {
    "execution": {}
   },
   "outputs": [
    {
     "data": {
      "image/png": "[encoded data removed]",
      "text/plain": [
       "<Figure size 432x288 with 1 Axes>"
      ]
     },
     "metadata": {
      "needs_background": "light",
      "tags": []
     },
     "output_type": "display_data"
    },
    {
     "name": "stderr",
     "output_type": "stream",
     "text": [
      "Clipping input data to the valid range for imshow with RGB data ([0..1] for floats or [0..255] for integers).\n"
     ]
    },
    {
     "data": {
      "image/png": "[encoded data removed]",
      "text/plain": [
       "<Figure size 432x288 with 1 Axes>"
      ]
     },
     "metadata": {
      "needs_background": "light",
      "tags": []
     },
     "output_type": "display_data"
    }
   ],
   "source": [
    "## Display Images\n",
    "# Get a batch of training data\n",
    "data = next(iter(test_loader))[0].to(device)\n",
    "input_tensor = data.cpu()\n",
    "in_grid = convert_image_np(torchvision.utils.make_grid(input_tensor))\n",
    "\n",
    "# Plot the images\n",
    "plt.figure()\n",
    "plt.imshow(in_grid)\n",
    "plt.show()\n",
    "\n",
    "# plot ONE image\n",
    "plt.figure()\n",
    "plt.imshow(torchvision.utils.make_grid(input_tensor).numpy().transpose((1, 2, 0)))\n",
    "plt.show()"
   ]
  },
  {
   "cell_type": "markdown",
   "metadata": {
    "execution": {}
   },
   "source": [
    "---\n",
    "# Spatial Transformer on images\n",
    "\n"
   ]
  },
  {
   "cell_type": "markdown",
   "metadata": {
    "execution": {}
   },
   "source": [
    "## Spatial Transformer Network"
   ]
  },
  {
   "cell_type": "code",
   "execution_count": null,
   "metadata": {
    "execution": {}
   },
   "outputs": [],
   "source": [
    "class Net(nn.Module):\n",
    "  def __init__(self):\n",
    "    super(Net, self).__init__()\n",
    "    self.conv1 = nn.Conv2d(1, 10, kernel_size=5)\n",
    "    self.conv2 = nn.Conv2d(10, 20, kernel_size=5)\n",
    "    self.conv2_drop = nn.Dropout2d()\n",
    "    self.fc1 = nn.Linear(320, 50)\n",
    "    self.fc2 = nn.Linear(50, 10)\n",
    "\n",
    "    # Spatial transformer localization-network\n",
    "    self.localization = nn.Sequential(\n",
    "        nn.Conv2d(1, 8, kernel_size=7),\n",
    "        nn.MaxPool2d(2, stride=2),\n",
    "        nn.ReLU(True),\n",
    "        nn.Conv2d(8, 10, kernel_size=5),\n",
    "        nn.MaxPool2d(2, stride=2),\n",
    "        nn.ReLU(True)\n",
    "    )\n",
    "\n",
    "    # Regressor for the 3 * 2 affine matrix\n",
    "    self.fc_loc = nn.Sequential(\n",
    "        nn.Linear(10 * 3 * 3, 32),\n",
    "        nn.ReLU(True),\n",
    "        nn.Linear(32, 3 * 2)\n",
    "    )\n",
    "\n",
    "    # Initialize the weights/bias with identity transformation\n",
    "    self.fc_loc[2].weight.data.zero_()\n",
    "    self.fc_loc[2].bias.data.copy_(torch.tensor([1, 0, 0, 0, 1, 0], dtype=torch.float))\n",
    "\n",
    "  # Spatial transformer network forward function\n",
    "  def stn(self, x):\n",
    "    xs = self.localization(x)\n",
    "    xs = xs.view(-1, 10 * 3 * 3)\n",
    "    theta = self.fc_loc(xs)\n",
    "    theta = theta.view(-1, 2, 3)\n",
    "\n",
    "    grid = F.affine_grid(theta, x.size())\n",
    "    x = F.grid_sample(x, grid)\n",
    "\n",
    "    return x\n",
    "\n",
    "  def forward(self, x):\n",
    "    # transform the input\n",
    "    x = self.stn(x)\n",
    "\n",
    "    # Perform the usual forward pass\n",
    "    x = F.relu(F.max_pool2d(self.conv1(x), 2))\n",
    "    x = F.relu(F.max_pool2d(self.conv2_drop(self.conv2(x)), 2))\n",
    "    x = x.view(-1, 320)\n",
    "    x = F.relu(self.fc1(x))\n",
    "    x = F.dropout(x, training=self.training)\n",
    "    x = self.fc2(x)\n",
    "    return F.log_softmax(x, dim=1)"
   ]
  },
  {
   "cell_type": "markdown",
   "metadata": {
    "execution": {}
   },
   "source": [
    "## Train and Test functions for the STN"
   ]
  },
  {
   "cell_type": "code",
   "execution_count": null,
   "metadata": {
    "execution": {}
   },
   "outputs": [],
   "source": [
    "model = Net().to(device)\n",
    "optimizer = optim.SGD(model.parameters(), lr=0.01)"
   ]
  },
  {
   "cell_type": "markdown",
   "metadata": {
    "execution": {}
   },
   "source": [
    "### Train function"
   ]
  },
  {
   "cell_type": "code",
   "execution_count": null,
   "metadata": {
    "execution": {}
   },
   "outputs": [],
   "source": [
    "def train(train_loader, optimizer, epoch, device):\n",
    "\n",
    "  model.train()\n",
    "  for batch_idx, (data, target) in enumerate(train_loader):\n",
    "    data, target = data.to(device), target.to(device)\n",
    "\n",
    "    optimizer.zero_grad()\n",
    "    output = model(data)\n",
    "    loss = F.nll_loss(output, target)\n",
    "    loss.backward()\n",
    "    optimizer.step()\n",
    "    if batch_idx % 500 == 0:\n",
    "      print('Train Epoch: {} [{}/{} ({:.0f}%)]\\tLoss: {:.6f}'.format(\n",
    "          epoch, batch_idx * len(data), len(train_loader.dataset),\n",
    "          100. * batch_idx / len(train_loader), loss.item()))"
   ]
  },
  {
   "cell_type": "markdown",
   "metadata": {
    "execution": {}
   },
   "source": [
    "### Test function"
   ]
  },
  {
   "cell_type": "code",
   "execution_count": null,
   "metadata": {
    "execution": {}
   },
   "outputs": [],
   "source": [
    "def test(test_loader, device):\n",
    "\n",
    "  with torch.no_grad():\n",
    "    model.eval()\n",
    "    test_loss, correct = 0, 0\n",
    "\n",
    "    for data, target in test_loader:\n",
    "      data, target = data.to(device), target.to(device)\n",
    "      output = model(data)\n",
    "\n",
    "      # sum up batch loss\n",
    "      test_loss += F.nll_loss(output, target, size_average=False).item()\n",
    "      # get the index of the max log-probability\n",
    "      pred = output.max(1, keepdim=True)[1]\n",
    "      correct += pred.eq(target.view_as(pred)).sum().item()\n",
    "\n",
    "    test_loss /= len(test_loader.dataset)\n",
    "    print('\\nTest set: Average loss: {:.4f}, Accuracy: {}/{} ({:.0f}%)\\n'\n",
    "          .format(test_loss, correct, len(test_loader.dataset),\n",
    "                  100. * correct / len(test_loader.dataset)))"
   ]
  },
  {
   "cell_type": "markdown",
   "metadata": {
    "execution": {}
   },
   "source": [
    "### Run Train and test the data "
   ]
  },
  {
   "cell_type": "code",
   "execution_count": null,
   "metadata": {
    "execution": {}
   },
   "outputs": [
    {
     "name": "stderr",
     "output_type": "stream",
     "text": [
      "/usr/local/lib/python3.7/dist-packages/torch/nn/functional.py:718: UserWarning: Named tensors and all their associated APIs are an experimental feature and subject to change. Please do not use them for anything important until they are released as stable. (Triggered internally at  /pytorch/c10/core/TensorImpl.h:1156.)\n",
      "  return torch.max_pool2d(input, kernel_size, stride, padding, dilation, ceil_mode)\n",
      "/usr/local/lib/python3.7/dist-packages/torch/nn/functional.py:4044: UserWarning: Default grid_sample and affine_grid behavior has changed to align_corners=False since 1.3.0. Please specify align_corners=True if the old behavior is desired. See the documentation of grid_sample for details.\n",
      "  \"Default grid_sample and affine_grid behavior has changed \"\n",
      "/usr/local/lib/python3.7/dist-packages/torch/nn/functional.py:3982: UserWarning: Default grid_sample and affine_grid behavior has changed to align_corners=False since 1.3.0. Please specify align_corners=True if the old behavior is desired. See the documentation of grid_sample for details.\n",
      "  \"Default grid_sample and affine_grid behavior has changed \"\n"
     ]
    },
    {
     "name": "stdout",
     "output_type": "stream",
     "text": [
      "Train Epoch: 1 [0/60000 (0%)]\tLoss: 2.283750\n",
      "Train Epoch: 1 [32000/60000 (53%)]\tLoss: 0.815321\n"
     ]
    },
    {
     "name": "stderr",
     "output_type": "stream",
     "text": [
      "/usr/local/lib/python3.7/dist-packages/torch/nn/_reduction.py:42: UserWarning: size_average and reduce args will be deprecated, please use reduction='sum' instead.\n",
      "  warnings.warn(warning.format(ret))\n"
     ]
    },
    {
     "name": "stdout",
     "output_type": "stream",
     "text": [
      "\n",
      "Test set: Average loss: 0.3277, Accuracy: 9028/10000 (90%)\n",
      "\n",
      "Train Epoch: 2 [0/60000 (0%)]\tLoss: 0.560269\n",
      "Train Epoch: 2 [32000/60000 (53%)]\tLoss: 0.419435\n",
      "\n",
      "Test set: Average loss: 0.1251, Accuracy: 9618/10000 (96%)\n",
      "\n",
      "Train Epoch: 3 [0/60000 (0%)]\tLoss: 0.182603\n",
      "Train Epoch: 3 [32000/60000 (53%)]\tLoss: 0.332343\n",
      "\n",
      "Test set: Average loss: 0.0900, Accuracy: 9729/10000 (97%)\n",
      "\n",
      "Train Epoch: 4 [0/60000 (0%)]\tLoss: 0.464175\n",
      "Train Epoch: 4 [32000/60000 (53%)]\tLoss: 0.170884\n",
      "\n",
      "Test set: Average loss: 0.0693, Accuracy: 9783/10000 (98%)\n",
      "\n",
      "Train Epoch: 5 [0/60000 (0%)]\tLoss: 0.176186\n",
      "Train Epoch: 5 [32000/60000 (53%)]\tLoss: 0.244473\n",
      "\n",
      "Test set: Average loss: 0.0679, Accuracy: 9785/10000 (98%)\n",
      "\n",
      "Train Epoch: 6 [0/60000 (0%)]\tLoss: 0.136274\n",
      "Train Epoch: 6 [32000/60000 (53%)]\tLoss: 0.341099\n",
      "\n",
      "Test set: Average loss: 0.0524, Accuracy: 9834/10000 (98%)\n",
      "\n",
      "Train Epoch: 7 [0/60000 (0%)]\tLoss: 0.157048\n",
      "Train Epoch: 7 [32000/60000 (53%)]\tLoss: 0.059608\n",
      "\n",
      "Test set: Average loss: 0.0505, Accuracy: 9842/10000 (98%)\n",
      "\n",
      "Train Epoch: 8 [0/60000 (0%)]\tLoss: 0.099384\n",
      "Train Epoch: 8 [32000/60000 (53%)]\tLoss: 0.076582\n",
      "\n",
      "Test set: Average loss: 0.0534, Accuracy: 9826/10000 (98%)\n",
      "\n",
      "Train Epoch: 9 [0/60000 (0%)]\tLoss: 0.037829\n",
      "Train Epoch: 9 [32000/60000 (53%)]\tLoss: 0.046212\n",
      "\n",
      "Test set: Average loss: 0.0516, Accuracy: 9837/10000 (98%)\n",
      "\n",
      "Train Epoch: 10 [0/60000 (0%)]\tLoss: 0.022345\n",
      "Train Epoch: 10 [32000/60000 (53%)]\tLoss: 0.163096\n",
      "\n",
      "Test set: Average loss: 0.0444, Accuracy: 9855/10000 (99%)\n",
      "\n",
      "Train Epoch: 11 [0/60000 (0%)]\tLoss: 0.151429\n",
      "Train Epoch: 11 [32000/60000 (53%)]\tLoss: 0.318495\n",
      "\n",
      "Test set: Average loss: 0.0459, Accuracy: 9845/10000 (98%)\n",
      "\n",
      "Train Epoch: 12 [0/60000 (0%)]\tLoss: 0.137617\n",
      "Train Epoch: 12 [32000/60000 (53%)]\tLoss: 0.071557\n",
      "\n",
      "Test set: Average loss: 0.0399, Accuracy: 9872/10000 (99%)\n",
      "\n",
      "Train Epoch: 13 [0/60000 (0%)]\tLoss: 0.074517\n",
      "Train Epoch: 13 [32000/60000 (53%)]\tLoss: 0.090459\n",
      "\n",
      "Test set: Average loss: 0.0455, Accuracy: 9853/10000 (99%)\n",
      "\n",
      "Train Epoch: 14 [0/60000 (0%)]\tLoss: 0.023993\n",
      "Train Epoch: 14 [32000/60000 (53%)]\tLoss: 0.072476\n",
      "\n",
      "Test set: Average loss: 0.0432, Accuracy: 9858/10000 (99%)\n",
      "\n",
      "Train Epoch: 15 [0/60000 (0%)]\tLoss: 0.094706\n",
      "Train Epoch: 15 [32000/60000 (53%)]\tLoss: 0.355291\n",
      "\n",
      "Test set: Average loss: 0.0467, Accuracy: 9860/10000 (99%)\n",
      "\n",
      "Train Epoch: 16 [0/60000 (0%)]\tLoss: 0.271667\n",
      "Train Epoch: 16 [32000/60000 (53%)]\tLoss: 0.041827\n",
      "\n",
      "Test set: Average loss: 0.0445, Accuracy: 9875/10000 (99%)\n",
      "\n",
      "Train Epoch: 17 [0/60000 (0%)]\tLoss: 0.182719\n",
      "Train Epoch: 17 [32000/60000 (53%)]\tLoss: 0.095597\n",
      "\n",
      "Test set: Average loss: 0.0408, Accuracy: 9869/10000 (99%)\n",
      "\n",
      "Train Epoch: 18 [0/60000 (0%)]\tLoss: 0.059102\n",
      "Train Epoch: 18 [32000/60000 (53%)]\tLoss: 0.136152\n",
      "\n",
      "Test set: Average loss: 0.0374, Accuracy: 9881/10000 (99%)\n",
      "\n",
      "Train Epoch: 19 [0/60000 (0%)]\tLoss: 0.042544\n",
      "Train Epoch: 19 [32000/60000 (53%)]\tLoss: 0.032425\n",
      "\n",
      "Test set: Average loss: 0.0328, Accuracy: 9897/10000 (99%)\n",
      "\n",
      "Train Epoch: 20 [0/60000 (0%)]\tLoss: 0.085060\n",
      "Train Epoch: 20 [32000/60000 (53%)]\tLoss: 0.210157\n",
      "\n",
      "Test set: Average loss: 0.0369, Accuracy: 9888/10000 (99%)\n",
      "\n"
     ]
    }
   ],
   "source": [
    "num_epochs = 20\n",
    "for epoch in range(1, num_epochs + 1):\n",
    "  train(train_loader, optimizer, epoch, device)\n",
    "  test(test_loader, device)"
   ]
  },
  {
   "cell_type": "markdown",
   "metadata": {
    "execution": {}
   },
   "source": [
    "### Visualize the results"
   ]
  },
  {
   "cell_type": "code",
   "execution_count": null,
   "metadata": {
    "execution": {}
   },
   "outputs": [
    {
     "name": "stderr",
     "output_type": "stream",
     "text": [
      "/usr/local/lib/python3.7/dist-packages/torch/nn/functional.py:4044: UserWarning: Default grid_sample and affine_grid behavior has changed to align_corners=False since 1.3.0. Please specify align_corners=True if the old behavior is desired. See the documentation of grid_sample for details.\n",
      "  \"Default grid_sample and affine_grid behavior has changed \"\n",
      "/usr/local/lib/python3.7/dist-packages/torch/nn/functional.py:3982: UserWarning: Default grid_sample and affine_grid behavior has changed to align_corners=False since 1.3.0. Please specify align_corners=True if the old behavior is desired. See the documentation of grid_sample for details.\n",
      "  \"Default grid_sample and affine_grid behavior has changed \"\n"
     ]
    },
    {
     "data": {
      "image/png": "[encoded data removed]",
      "text/plain": [
       "<Figure size 432x288 with 2 Axes>"
      ]
     },
     "metadata": {
      "needs_background": "light",
      "tags": []
     },
     "output_type": "display_data"
    }
   ],
   "source": [
    "def visualize_stn():\n",
    "  with torch.no_grad():\n",
    "    # Get a batch of training data\n",
    "    data = next(iter(test_loader))[0].to(device)\n",
    "\n",
    "    input_tensor = data.cpu()\n",
    "    transformed_input_tensor = model.stn(data).cpu()\n",
    "\n",
    "    in_grid = convert_image_np(\n",
    "        torchvision.utils.make_grid(input_tensor))\n",
    "\n",
    "    out_grid = convert_image_np(\n",
    "        torchvision.utils.make_grid(transformed_input_tensor))\n",
    "\n",
    "    # Plot the results side-by-side\n",
    "    f, axarr = plt.subplots(1, 2)\n",
    "    axarr[0].imshow(in_grid)\n",
    "    axarr[0].set_title('Dataset Images')\n",
    "\n",
    "    axarr[1].imshow(out_grid)\n",
    "    axarr[1].set_title('Transformed Images')\n",
    "  return in_grid, out_grid\n",
    "\n",
    "\n",
    "# Visualize the STN transformation on some input batch\n",
    "[in_grid, out_grid] = visualize_stn()\n",
    "plt.ioff()\n",
    "plt.show()"
   ]
  },
  {
   "cell_type": "markdown",
   "metadata": {
    "execution": {}
   },
   "source": [
    "Check out: https://aswali.github.io/WNet/ and this paper:https://arxiv.org/abs/1711.08506"
   ]
  },
  {
   "cell_type": "markdown",
   "metadata": {
    "execution": {}
   },
   "source": [
    "# Optional functions to use when examining effects of spatial transformer"
   ]
  },
  {
   "cell_type": "markdown",
   "metadata": {
    "execution": {}
   },
   "source": [
    "## Function for the Sørensen–Dice coefficient (DSC) to calculate the simularity of images"
   ]
  },
  {
   "cell_type": "markdown",
   "metadata": {
    "execution": {}
   },
   "source": [
    "Function to Compare similarity of images \n",
    "\n",
    "\n",
    "Compare the similarity of two images with the the Sørensen–Dice coefficient. See details here: https://en.wikipedia.org/wiki/S%C3%B8rensen%E2%80%93Dice_coefficient\n",
    "\n",
    "\n",
    "\n",
    "\n",
    "\n",
    "\n"
   ]
  },
  {
   "cell_type": "code",
   "execution_count": null,
   "metadata": {
    "execution": {}
   },
   "outputs": [],
   "source": [
    "def calc_dice(im1,im2):\n",
    "    \"\"\"\n",
    "   This calculates the DICE between two images. The maximum DICE is 1, the minimum is Zero.\n",
    "        Args:\n",
    "        -\tim1, im2: one of the imges to calcualte DICE coeffeicnet. Note image1.shape has to equal image2.shape\n",
    "        Returns:\n",
    "        -\tdice: the dice coeffeicent\n",
    "    \"\"\"\n",
    "    im1 = np.asarray(im1).astype(np.bool)\n",
    "    im2 = np.asarray(im2).astype(np.bool)\n",
    "\n",
    "    if im1.shape != im2.shape:\n",
    "        raise ValueError(\"Shape mismatch: im1 and im2 must have the same shape.\")\n",
    "\n",
    "    # Compute Dice coefficient\n",
    "    intersection = np.logical_and(im1, im2)\n",
    "\n",
    "    dice = 2. * intersection.sum() / (im1.sum() + im2.sum())\n",
    "\n",
    "    print(\"The Dice is {}\".format(dice))\n",
    "\n",
    "    return dice"
   ]
  },
  {
   "cell_type": "markdown",
   "metadata": {
    "execution": {}
   },
   "source": [
    "## Function to Add salt/pepper noise to the dataset"
   ]
  },
  {
   "cell_type": "markdown",
   "metadata": {
    "execution": {}
   },
   "source": [
    "add noise class"
   ]
  },
  {
   "cell_type": "code",
   "execution_count": null,
   "metadata": {
    "execution": {}
   },
   "outputs": [],
   "source": [
    "def salt_pepper_noise(trainloader):\n",
    "  for data in trainloader:\n",
    "    img, _ = data[0], data[1]\n",
    "    s_and_p = torch.tensor(random_noise(img, mode='s&p',\n",
    "                                        salt_vs_pepper=0.5, clip=True))\n",
    "  return s_and_p"
   ]
  },
  {
   "cell_type": "markdown",
   "metadata": {
    "execution": {}
   },
   "source": [
    "Question: Are there other types of noise you can add? What effect do different types of noise have? E.g., gasusian\n",
    "\n",
    "Add noise to both train and test datasets"
   ]
  },
  {
   "cell_type": "markdown",
   "metadata": {
    "execution": {}
   },
   "source": [
    "## Function to remove nosie with noise2void"
   ]
  },
  {
   "cell_type": "markdown",
   "metadata": {
    "execution": {}
   },
   "source": [
    "Import noise2void dependances, check out https://github.com/juglab/n2v for details"
   ]
  },
  {
   "cell_type": "code",
   "execution_count": null,
   "metadata": {
    "cellView": "form",
    "execution": {}
   },
   "outputs": [],
   "source": [
    "# @title Import `noise2void` dependances\n",
    "\n",
    "# @markdown check out https://github.com/juglab/n2v for details\n",
    "from n2v.models import N2VConfig, N2V\n",
    "from csbdeep.utils import plot_history\n",
    "from n2v.internals.N2V_DataGenerator import N2V_DataGenerator"
   ]
  },
  {
   "cell_type": "markdown",
   "metadata": {
    "execution": {}
   },
   "source": [
    "### Create a denoising fucntion"
   ]
  },
  {
   "cell_type": "code",
   "execution_count": null,
   "metadata": {
    "execution": {}
   },
   "outputs": [],
   "source": [
    "def noise2void(data, model_name, patch_size=64):\n",
    "  \"\"\"\n",
    "  Removes noise in 3d image using the noise 2 void method. Based on https://arxiv.org/abs/1811.10980 w/ this implementation: https://github.com/juglab/n2v\n",
    "      Args:\n",
    "      -\tdata: Numpy array  2d to be deionised\n",
    "      -   model: name of model to load, if provided this model is used to denoise instead of model made from data otherwise this is name given to model (ex:#model_name = 'n2v_3D_blk')\n",
    "      -patch_size: this is the size of patches in X and Y, default is 64\n",
    "      Returns:\n",
    "      -\tdata_denoise: Numpy array noise removed\n",
    "  \"\"\"\n",
    "  # We create our DataGenerator-object.\n",
    "  datagen = N2V_DataGenerator()\n",
    "  # In the 'dims' parameter we specify the order of dimensions in the image files we are reading.\n",
    "  if data.ndim == 2:\n",
    "    print('2D image found to denosie')\n",
    "    dataZYX = data\n",
    "    data_exp = np.expand_dims(dataZYX, axis=(0, 1, 4))  # expand dimensions One at the front is used to hold a potential stack of images such as a movie, One at the end could hold color channels such as RGB. #expand dimensions One at the front is used to hold a potential stack of images such as a movie, One at the end could hold color channels such as RGB.\n",
    "    patch_shape = (patch_size, patch_size)\n",
    "    model_axis = 'YX'\n",
    "  print('arrary with extra dimensions is size of {}'.format(data_exp.shape))\n",
    "  print('patches are {}'.format(patch_shape))\n",
    "  # the base directory in which our model will live\n",
    "  basedir = 'models'\n",
    "  path = basedir + '/' + model_name\n",
    "  if not os.path.exists(path):\n",
    "    print(path)\n",
    "    # create model\n",
    "    patches = datagen.generate_patches_from_list(data_exp, shape=patch_shape)\n",
    "    print('patches shape {}'.format(patches.shape))\n",
    "    # Patches are created so they do not overlap.\n",
    "    # (Note: this is not the case if you specify a number of patches. See the docstring for details!)\n",
    "    # Non-overlapping patches enable us to split them into a training and validation set.\n",
    "    # modify split so set as a %\n",
    "    perc_95 = int(patches.shape[0] * 0.95)\n",
    "    X = patches[:perc_95]  # this is 600/640\n",
    "    X_val = patches[perc_95:]  # this is 40/640\n",
    "\n",
    "    # train model\n",
    "    # You can increase \"train_steps_per_epoch\" to get even better results at the price of longer computation.\n",
    "    fast = 128  # default\n",
    "    slow = 50  # to get better results?  --> apply same model to Z plane\n",
    "    speed = fast\n",
    "    config = N2VConfig(X, unet_kern_size=3, train_steps_per_epoch=int(X.shape[0] / speed), train_epochs=20,\n",
    "                        train_loss='mse', batch_norm=True, train_batch_size=4, n2v_perc_pix=0.198,\n",
    "                        n2v_patch_shape=patch_shape, n2v_manipulator='uniform_withCP', n2v_neighborhood_radius=5)\n",
    "\n",
    "    # Let's look at the parameters stored in the config-object.\n",
    "    vars(config)\n",
    "    # We are now creating our network model.\n",
    "    model = N2V(config=config, name=model_name, basedir=basedir)\n",
    "    history = model.train(X, X_val)\n",
    "    print(sorted(list(history.history.keys())))\n",
    "    model.export_TF(name='Noise2Void - data',\n",
    "                    description='This is the 3D Noise2Void for  data.',\n",
    "                    authors=[\"Kaleb Vinehout\"],\n",
    "                    test_img=X_val[0, ..., 0], axes=model_axis,\n",
    "                    patch_shape=patch_shape)\n",
    "  # run prediction model on rest of data in 3D image\n",
    "  # A previously trained model is loaded by creating a new N2V-object without providing a 'config'.\n",
    "  model = N2V(config=None, name=model_name, basedir=basedir)\n",
    "  # Here we process the data.\n",
    "  # The 'n_tiles' parameter can be used if images are too big for the GPU memory.\n",
    "  # If we do not provide the 'n_tiles' parameter the system will automatically try to find an appropriate tiling.\n",
    "  data_denoise = model.predict(dataZYX, axes=model_axis)  # , n_tiles=(2, 4, 4))\n",
    "\n",
    "  return data_denoise"
   ]
  },
  {
   "cell_type": "markdown",
   "metadata": {
    "execution": {}
   },
   "source": [
    "## Function to Segment image with W-net"
   ]
  },
  {
   "cell_type": "markdown",
   "metadata": {
    "execution": {}
   },
   "source": [
    "Check out: https://aswali.github.io/WNet/ and this paper:https://arxiv.org/abs/1711.08506"
   ]
  },
  {
   "cell_type": "markdown",
   "metadata": {
    "execution": {}
   },
   "source": [
    "### The Wnet Class"
   ]
  },
  {
   "cell_type": "code",
   "execution_count": null,
   "metadata": {
    "execution": {}
   },
   "outputs": [],
   "source": [
    "class Block(nn.Module):\n",
    "  def __init__(self, in_filters, out_filters, seperable=True):\n",
    "    super(Block, self).__init__()\n",
    "\n",
    "    if seperable:\n",
    "      self.spatial1=nn.Conv2d(in_filters, in_filters, kernel_size=3, groups=in_filters, padding=1)\n",
    "      self.depth1=nn.Conv2d(in_filters, out_filters, kernel_size=1)\n",
    "\n",
    "      self.conv1=lambda x: self.depth1(self.spatial1(x))\n",
    "\n",
    "      self.spatial2=nn.Conv2d(out_filters, out_filters, kernel_size=3, padding=1, groups=out_filters)\n",
    "      self.depth2=nn.Conv2d(out_filters, out_filters, kernel_size=1)\n",
    "\n",
    "      self.conv2=lambda x: self.depth2(self.spatial2(x))\n",
    "\n",
    "    else:\n",
    "        self.conv1=nn.Conv2d(in_filters, out_filters, kernel_size=3, padding=1)\n",
    "        self.conv2=nn.Conv2d(out_filters, out_filters, kernel_size=3, padding=1)\n",
    "\n",
    "    self.relu1 = nn.ReLU()\n",
    "    self.dropout1 = nn.Dropout(0.65)\n",
    "    self.batchnorm1=nn.BatchNorm2d(out_filters)\n",
    "\n",
    "    self.relu2 = nn.ReLU()\n",
    "    self.dropout2 = nn.Dropout(0.65)\n",
    "    self.batchnorm2=nn.BatchNorm2d(out_filters)\n",
    "\n",
    "  def forward(self, x):\n",
    "    x = self.batchnorm1(self.conv1(x)).clamp(0)\n",
    "    x = self.relu1(x)\n",
    "    x = self.dropout1(x)\n",
    "    x = self.batchnorm2(self.conv2(x)).clamp(0)\n",
    "    x = self.relu2(x)\n",
    "    x = self.dropout2(x)\n",
    "\n",
    "    return x\n",
    "\n",
    "class UEnc(nn.Module):\n",
    "  def __init__(self, squeeze, ch_mul=64, in_chans=3):\n",
    "    super(UEnc, self).__init__()\n",
    "\n",
    "    self.enc1=Block(in_chans, ch_mul, seperable=False)\n",
    "    self.enc2=Block(ch_mul, 2*ch_mul)\n",
    "    self.enc3=Block(2*ch_mul, 4*ch_mul)\n",
    "    self.enc4=Block(4*ch_mul, 8*ch_mul)\n",
    "\n",
    "    self.middle=Block(8*ch_mul, 16*ch_mul)\n",
    "\n",
    "    self.up1=nn.ConvTranspose2d(16*ch_mul, 8*ch_mul, kernel_size=3,\n",
    "                                stride=2, padding=1, output_padding=1)\n",
    "    self.dec1=Block(16*ch_mul, 8*ch_mul)\n",
    "    self.up2=nn.ConvTranspose2d(8*ch_mul, 4*ch_mul, kernel_size=3,\n",
    "                                stride=2, padding=1, output_padding=1)\n",
    "    self.dec2=Block(8*ch_mul, 4*ch_mul)\n",
    "    self.up3=nn.ConvTranspose2d(4*ch_mul, 2*ch_mul, kernel_size=3,\n",
    "                                stride=2, padding=1, output_padding=1)\n",
    "    self.dec3=Block(4*ch_mul, 2*ch_mul)\n",
    "    self.up4=nn.ConvTranspose2d(2*ch_mul, ch_mul, kernel_size=3,\n",
    "                                stride=2, padding=1, output_padding=1)\n",
    "    self.dec4=Block(2*ch_mul, ch_mul, seperable=False)\n",
    "\n",
    "    self.final=nn.Conv2d(ch_mul, squeeze, kernel_size=(1, 1))\n",
    "    self.softmax = nn.Softmax2d()\n",
    "\n",
    "  def forward(self, x):\n",
    "\n",
    "    enc1=self.enc1(x)\n",
    "    enc2=self.enc2(F.max_pool2d(enc1, (2, 2)))\n",
    "    enc3=self.enc3(F.max_pool2d(enc2, (2, 2)))\n",
    "    enc4=self.enc4(F.max_pool2d(enc3, (2, 2)))\n",
    "\n",
    "    middle=self.middle(F.max_pool2d(enc4, (2, 2)))\n",
    "\n",
    "    up1=torch.cat([enc4, self.up1(middle)], 1)\n",
    "    dec1=self.dec1(up1)\n",
    "\n",
    "    up2=torch.cat([enc3, self.up2(dec1)], 1)\n",
    "    dec2=self.dec2(up2)\n",
    "\n",
    "    up3=torch.cat([enc2, self.up3(dec2)], 1)\n",
    "    dec3=self.dec3(up3)\n",
    "\n",
    "    up4=torch.cat([enc1, self.up4(dec3)], 1)\n",
    "    dec4=self.dec4(up4)\n",
    "\n",
    "    final=self.final(dec4)\n",
    "\n",
    "    return final\n",
    "\n",
    "\n",
    "class UDec(nn.Module):\n",
    "  def __init__(self, squeeze, ch_mul=64, in_chans=3):\n",
    "    super(UDec, self).__init__()\n",
    "\n",
    "    self.enc1=Block(squeeze, ch_mul, seperable=False)\n",
    "    self.enc2=Block(ch_mul, 2*ch_mul)\n",
    "    self.enc3=Block(2*ch_mul, 4*ch_mul)\n",
    "    self.enc4=Block(4*ch_mul, 8*ch_mul)\n",
    "\n",
    "    self.middle=Block(8*ch_mul, 16*ch_mul)\n",
    "\n",
    "    self.up1=nn.ConvTranspose2d(16*ch_mul, 8*ch_mul, kernel_size=3,\n",
    "                                stride=2, padding=1, output_padding=1)\n",
    "    self.dec1=Block(16*ch_mul, 8*ch_mul)\n",
    "\n",
    "    self.up2=nn.ConvTranspose2d(8*ch_mul, 4*ch_mul, kernel_size=3,\n",
    "                                stride=2, padding=1, output_padding=1)\n",
    "    self.dec2=Block(8*ch_mul, 4*ch_mul)\n",
    "\n",
    "    self.up3=nn.ConvTranspose2d(4*ch_mul, 2*ch_mul, kernel_size=3,\n",
    "                                stride=2, padding=1, output_padding=1)\n",
    "    self.dec3=Block(4*ch_mul, 2*ch_mul)\n",
    "\n",
    "    self.up4=nn.ConvTranspose2d(2*ch_mul, ch_mul, kernel_size=3,\n",
    "                                stride=2, padding=1, output_padding=1)\n",
    "    self.dec4=Block(2*ch_mul, ch_mul, seperable=False)\n",
    "\n",
    "    self.final=nn.Conv2d(ch_mul, in_chans, kernel_size=(1, 1))\n",
    "\n",
    "  def forward(self, x):\n",
    "\n",
    "      enc1 = self.enc1(x)\n",
    "      enc2 = self.enc2(F.max_pool2d(enc1, (2, 2)))\n",
    "      enc3 = self.enc3(F.max_pool2d(enc2, (2, 2)))\n",
    "      enc4 = self.enc4(F.max_pool2d(enc3, (2, 2)))\n",
    "\n",
    "      middle = self.middle(F.max_pool2d(enc4, (2, 2)))\n",
    "\n",
    "      up1 = torch.cat([enc4, self.up1(middle)], 1)\n",
    "      dec1 = self.dec1(up1)\n",
    "\n",
    "      up2 = torch.cat([enc3, self.up2(dec1)], 1)\n",
    "      dec2 = self.dec2(up2)\n",
    "\n",
    "      up3 = torch.cat([enc2, self.up3(dec2)], 1)\n",
    "      dec3 =self.dec3(up3)\n",
    "\n",
    "      up4 = torch.cat([enc1, self.up4(dec3)], 1)\n",
    "      dec4 = self.dec4(up4)\n",
    "\n",
    "      final=self.final(dec4)\n",
    "\n",
    "      return final\n",
    "\n",
    "\n",
    "class WNet(nn.Module):\n",
    "  def __init__(self, squeeze, ch_mul=64, in_chans=3, out_chans=1000):\n",
    "    super(WNet, self).__init__()\n",
    "\n",
    "    if out_chans==1000:\n",
    "      out_chans=in_chans\n",
    "    self.UEnc=UEnc(squeeze, ch_mul, in_chans)\n",
    "    self.UDec=UDec(squeeze, ch_mul, out_chans)\n",
    "\n",
    "  def forward(self, x, returns='both'):\n",
    "\n",
    "    enc = self.UEnc(x)\n",
    "    if returns=='enc':\n",
    "      return enc\n",
    "\n",
    "    dec=self.UDec(F.softmax(enc, 1))\n",
    "    if returns=='dec':\n",
    "      return dec\n",
    "\n",
    "    if returns=='both':\n",
    "      return enc, dec\n",
    "\n",
    "    else:\n",
    "      raise ValueError('Invalid returns, returns must be in [enc dec both]')"
   ]
  },
  {
   "cell_type": "markdown",
   "metadata": {
    "execution": {}
   },
   "source": [
    "### Wnet train/test/loss"
   ]
  },
  {
   "cell_type": "code",
   "execution_count": null,
   "metadata": {
    "execution": {}
   },
   "outputs": [],
   "source": [
    "softmax = nn.Softmax2d()\n",
    "criterionIdt = torch.nn.MSELoss()\n",
    "\n",
    "def train_op(model, optimizer, input, k, img_size, psi=0.5):\n",
    "  enc = model(input, returns='enc')\n",
    "  d = enc.clone().detach()\n",
    "  n_cut_loss=soft_n_cut_loss(input,  softmax(enc),  img_size)\n",
    "  n_cut_loss.backward()\n",
    "  optimizer.step()\n",
    "  optimizer.zero_grad()\n",
    "\n",
    "  dec = model(input, returns='dec')\n",
    "  rec_loss=reconstruction_loss(input, dec)\n",
    "  rec_loss.backward()\n",
    "  optimizer.step()\n",
    "  optimizer.zero_grad()\n",
    "\n",
    "  return (model, n_cut_loss, rec_loss)\n",
    "\n",
    "\n",
    "def reconstruction_loss(x, x_prime):\n",
    "  rec_loss = criterionIdt(x_prime, x)\n",
    "  return rec_loss\n",
    "\n",
    "\n",
    "def test(device):\n",
    "  wnet = WNet.WNet(4)\n",
    "  synthetic_data=torch.rand((1, 3, 128, 128))\n",
    "  optimizer=torch.optim.SGD(wnet.parameters(), 0.001).to(device)\n",
    "  train_op(wnet, optimizer, synthetic_data)\n",
    "\n",
    "\n",
    "def show_image(image):\n",
    "  img = image.numpy().transpose((1, 2, 0))\n",
    "  plt.imshow(img)\n",
    "  plt.show()"
   ]
  }
 ],
 "metadata": {
  "accelerator": "GPU",
  "colab": {
   "collapsed_sections": [
    "J3wRwkevo-Td",
    "s6iB4QvQihW-",
    "yWtbZfaGwoMI"
   ],
   "include_colab_link": true,
   "name": "image_alignment",
   "provenance": [],
   "toc_visible": true
  },
  "kernel": {
   "display_name": "Python 3",
   "language": "python",
   "name": "python3"
  },
  "kernelspec": {
   "display_name": "Python 3",
   "language": "python",
   "name": "python3"
  },
  "language_info": {
   "codemirror_mode": {
    "name": "ipython",
    "version": 3
   },
   "file_extension": ".py",
   "mimetype": "text/x-python",
   "name": "python",
   "nbconvert_exporter": "python",
   "pygments_lexer": "ipython3",
   "version": "3.6.4"
  }
 },
 "nbformat": 4,
 "nbformat_minor": 0
}
