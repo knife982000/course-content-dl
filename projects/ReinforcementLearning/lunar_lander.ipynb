{
 "cells": [
  {
   "cell_type": "markdown",
   "metadata": {
    "colab_type": "text",
    "execution": {},
    "id": "view-in-github"
   },
   "source": [
    "<a href=\"https://colab.research.google.com/github/NeuromatchAcademy/course-content-dl/blob/main/projects/ReinforcementLearning/lunar_lander.ipynb\" target=\"_parent\"><img src=\"https://colab.research.google.com/assets/colab-badge.svg\" alt=\"Open In Colab\"/></a>"
   ]
  },
  {
   "cell_type": "markdown",
   "metadata": {
    "execution": {}
   },
   "source": [
    "# Performance Analysis of DQN Algorithm on the Lunar Lander task\n",
    "\n",
    "**By Neuromatch Academy**\n",
    "\n",
    "__Content creators:__ Raghuram Bharadwaj Diddigi, Geraud Nangue Tasse, Yamil Vidal, Sanjukta Krishnagopal, Sara Rajaee\n",
    "\n",
    "__Content editors:__ Spiros Chavlis"
   ]
  },
  {
   "cell_type": "markdown",
   "metadata": {
    "execution": {}
   },
   "source": [
    "**Our 2021 Sponsors, including Presenting Sponsor Facebook Reality Labs**\n",
    "\n",
    "<p align='center'><img src='https://github.com/NeuromatchAcademy/widgets/blob/master/sponsors.png?raw=True'/></p>"
   ]
  },
  {
   "cell_type": "markdown",
   "metadata": {
    "execution": {}
   },
   "source": [
    "---\n",
    "# Objective\n",
    "\n",
    "In this project, the objective is to analyze the performance of the Deep Q-Learning algorithm on an exciting task- Lunar Lander. Before we describe the task, let us focus on two keywords here - analysis and performance. What exactly do we mean by these keywords in the context of Reinforcement Learning (RL)?"
   ]
  },
  {
   "cell_type": "markdown",
   "metadata": {
    "execution": {}
   },
   "source": [
    "---\n",
    "# Setup"
   ]
  },
  {
   "cell_type": "code",
   "execution_count": null,
   "metadata": {
    "cellView": "form",
    "execution": {}
   },
   "outputs": [],
   "source": [
    "# @title Install dependencies\n",
    "!pip install rarfile --quiet\n",
    "!pip install stable-baselines3 > /dev/null\n",
    "!pip install box2d-py > /dev/null\n",
    "!pip install gym pyvirtualdisplay > /dev/null 2>&1\n",
    "!sudo apt-get install -y xvfb python-opengl ffmpeg > /dev/null 2>&1"
   ]
  },
  {
   "cell_type": "code",
   "execution_count": null,
   "metadata": {
    "execution": {}
   },
   "outputs": [],
   "source": [
    "# Imports\n",
    "import io\n",
    "import os\n",
    "import glob\n",
    "import torch\n",
    "import base64\n",
    "import stable_baselines3\n",
    "\n",
    "import numpy as np\n",
    "import matplotlib.pyplot as plt\n",
    "\n",
    "from stable_baselines3 import DQN\n",
    "from stable_baselines3.common.results_plotter import ts2xy, load_results\n",
    "from stable_baselines3.common.callbacks import EvalCallback\n",
    "from stable_baselines3.common.env_util import make_atari_env\n",
    "\n",
    "import gym\n",
    "from gym import spaces\n",
    "from gym.wrappers import Monitor"
   ]
  },
  {
   "cell_type": "code",
   "execution_count": null,
   "metadata": {
    "cellView": "form",
    "execution": {}
   },
   "outputs": [],
   "source": [
    "# @title Plotting/Video functions\n",
    "from IPython.display import HTML\n",
    "from pyvirtualdisplay import Display\n",
    "from IPython import display as ipythondisplay\n",
    "\n",
    "display = Display(visible=0, size=(1400, 900))\n",
    "display.start()\n",
    "\n",
    "\"\"\"\n",
    "Utility functions to enable video recording of gym environment\n",
    "and displaying it.\n",
    "To enable video, just do \"env = wrap_env(env)\"\"\n",
    "\"\"\"\n",
    "\n",
    "def show_video():\n",
    "  mp4list = glob.glob('video/*.mp4')\n",
    "  if len(mp4list) > 0:\n",
    "    mp4 = mp4list[0]\n",
    "    video = io.open(mp4, 'r+b').read()\n",
    "    encoded = base64.b64encode(video)\n",
    "    ipythondisplay.display(HTML(data='''<video alt=\"test\" autoplay\n",
    "                loop controls style=\"height: 400px;\">\n",
    "                <source src=\"data:video/mp4;base64,{0}\" type=\"video/mp4\" />\n",
    "             </video>'''.format(encoded.decode('ascii'))))\n",
    "  else:\n",
    "    print(\"Could not find video\")\n",
    "\n",
    "\n",
    "def wrap_env(env):\n",
    "  env = Monitor(env, './video', force=True)\n",
    "  return env"
   ]
  },
  {
   "cell_type": "markdown",
   "metadata": {
    "execution": {}
   },
   "source": [
    "---\n",
    "# Introduction\n",
    "\n",
    "In a standard RL setting, an agent learns optimal behavior from an environment through a feedback mechanism to maximize a given objective. Many algorithms have been proposed in the RL literature that an agent can apply to learn the optimal behavior. One such popular algorithm is the Deep Q-Network (DQN). This algorithm makes use of deep neural networks to compute optimal actions. In this project, your goal is to understand the effect of the number of neural network layers on the algorithm's performance. The performance of the algorithm can be evaluated through two metrics - Speed and Stability. \n",
    "\n",
    "**Speed:** How fast the algorithm reaches the maximum possible reward. \n",
    "\n",
    "**Stability** In some applications (especially when online learning is involved), along with speed, stability of the algorithm, i.e., minimal fluctuations in performance, is equally important. \n",
    "\n",
    "In this project, you should investigate the following question:\n",
    "\n",
    "**What is the impact of number of neural network layers on speed and stability of the algorithm?**\n",
    "\n",
    "You do not have to write the DQN code from scratch. We have provided a basic implementation of the DQN algorithm. You only have to tune the hyperparameters (neural network size, learning rate, etc), observe the performance, and analyze. More details on this are provided below. \n",
    "\n",
    "Now, let us discuss the RL task we have chosen, i.e., Lunar Lander. This task consists of the lander and a landing pad marked by two flags. The episode starts with the lander moving downwards due to gravity. The objective is to land safely using different engines available on the lander with zero speed on the landing pad as quickly and fuel efficient as possible. Reward for moving from the top of the screen and landing on landing pad with zero speed is between 100 to 140 points. Each leg ground contact yields a reward of 10 points. Firing main engine leads to a reward of -0.3 points in each frame. Firing the side engine leads to a reward of -0.03 points in each frame. An additional reward of -100 or +100 points is received if the lander crashes or comes to rest respectively which also leads to end of the episode. \n",
    "\n",
    "The input state of the Lunar Lander consists of following components:\n",
    "\n",
    "  1. Horizontal Position\n",
    "  2. Vertical Position\n",
    "  3. Horizontal Velocity\n",
    "  4. Vertical Velocity\n",
    "  5. Angle\n",
    "  6. Angular Velocity\n",
    "  7. Left Leg Contact\n",
    "  8. Right Leg Contact\n",
    "\n",
    "The actions of the agents are:\n",
    "  1. Do Nothing\n",
    "  2. Fire Main Engine\n",
    "  3. Fire Left Engine\n",
    "  4. Fire Right Engine\n",
    "\n",
    "\n",
    "<img src=\"https://raw.githubusercontent.com/NeuromatchAcademy/course-content-dl/main/projects/static/lunar_lander.png\">"
   ]
  },
  {
   "cell_type": "markdown",
   "metadata": {
    "execution": {}
   },
   "source": [
    "---\n",
    "# Basic DQN Implementation\n",
    "\n",
    "We will now implement the DQN algorithm using the existing code base. We encourage you to understand this example and re-use it in an application/project of your choice! "
   ]
  },
  {
   "cell_type": "markdown",
   "metadata": {
    "execution": {}
   },
   "source": [
    "Now, let us set some hyperparameters for our algorithm. This is the only part you would play around with, to solve the first part of the project. "
   ]
  },
  {
   "cell_type": "code",
   "execution_count": null,
   "metadata": {
    "execution": {}
   },
   "outputs": [],
   "source": [
    "nn_layers = [64,64] #This is the configuration of your neural network. Currently, we have two layers, each consisting of 64 neurons.\n",
    "                    #If you want three layers with 64 neurons each, set the value to [64,64,64] and so on.\n",
    "\n",
    "learning_rate = 0.001 #This is the step-size with which the gradient descent is carried out.\n",
    "                      #Tip: Use smaller step-sizes for larger networks.\n"
   ]
  },
  {
   "cell_type": "markdown",
   "metadata": {
    "execution": {}
   },
   "source": [
    "Now, let us setup our model and the DQN algorithm. "
   ]
  },
  {
   "cell_type": "code",
   "execution_count": null,
   "metadata": {
    "execution": {}
   },
   "outputs": [],
   "source": [
    "log_dir = \"/tmp/gym/\"\n",
    "os.makedirs(log_dir, exist_ok=True)\n",
    "\n",
    "# Create environment\n",
    "env = gym.make('LunarLander-v2')\n",
    "#You can also load other environments like cartpole, MountainCar, Acrobot. Refer to https://gym.openai.com/docs/ for descriptions.\n",
    "#For example, if you would like to load Cartpole, just replace the above statement with \"env = gym.make('CartPole-v1')\".\n",
    "\n",
    "env = stable_baselines3.common.monitor.Monitor(env, log_dir )\n",
    "\n",
    "callback = EvalCallback(env,log_path = log_dir, deterministic=True) #For evaluating the performance of the agent periodically and logging the results.\n",
    "policy_kwargs = dict(activation_fn=torch.nn.ReLU,\n",
    "                     net_arch=nn_layers)\n",
    "model = DQN(\"MlpPolicy\", env,policy_kwargs = policy_kwargs,\n",
    "            learning_rate=learning_rate,\n",
    "            batch_size=1,  #for simplicity, we are not doing batch update.\n",
    "            buffer_size=1, #size of experience of replay buffer. Set to 1 as batch update is not done\n",
    "            learning_starts=1, #learning starts immediately!\n",
    "            gamma=0.99, #discount facto. range is between 0 and 1.\n",
    "            tau = 1,  #the soft update coefficient for updating the target network\n",
    "            target_update_interval=1, #update the target network immediately.\n",
    "            train_freq=(1,\"step\"), #train the network at every step.\n",
    "            max_grad_norm = 10, #the maximum value for the gradient clipping\n",
    "            exploration_initial_eps = 1, #initial value of random action probability\n",
    "            exploration_fraction = 0.5, #fraction of entire training period over which the exploration rate is reduced\n",
    "            gradient_steps = 1, #number of gradient steps\n",
    "            seed = 1, #seed for the pseudo random generators\n",
    "            verbose=0) #Set verbose to 1 to observe training logs. We encourage you to set the verbose to 1.\n",
    "\n",
    "# You can also experiment with other RL algorithms like A2C, PPO, DDPG etc. Refer to  https://stable-baselines3.readthedocs.io/en/master/guide/examples.html\n",
    "#for documentation. For example, if you would like to run DDPG, just replace \"DQN\" above with \"DDPG\"."
   ]
  },
  {
   "cell_type": "markdown",
   "metadata": {
    "execution": {}
   },
   "source": [
    "Before we train the model, let us look at an instance of Lunar Lander **before training**.  \n",
    "\n",
    "**Note:** The following code for rendering the video is taken from https://colab.research.google.com/github/jeffheaton/t81_558_deep_learning/blob/master/t81_558_class_12_01_ai_gym.ipynb#scrollTo=T9RpF49oOsZj"
   ]
  },
  {
   "cell_type": "code",
   "execution_count": null,
   "metadata": {
    "execution": {}
   },
   "outputs": [
    {
     "data": {
      "text/html": [
       "<video alt=\"test\" autoplay \n",
       "                loop controls style=\"height: 400px;\">\n",
       "                <source src=\"data:video/mp4;base64,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\" type=\"video/mp4\" />\n",
       "             </video>"
      ],
      "text/plain": [
       "<IPython.core.display.HTML object>"
      ]
     },
     "metadata": {
      "tags": []
     },
     "output_type": "display_data"
    }
   ],
   "source": [
    "test_env = wrap_env(gym.make(\"LunarLander-v2\"))\n",
    "observation = test_env.reset()\n",
    "total_reward = 0\n",
    "while True:\n",
    "  test_env.render()\n",
    "  action, states = model.predict(observation, deterministic=True)\n",
    "  observation, reward, done, info = test_env.step(action)\n",
    "  total_reward += reward\n",
    "  if done:\n",
    "    break;\n",
    "\n",
    "# print(total_reward)\n",
    "test_env.close()\n",
    "show_video()"
   ]
  },
  {
   "cell_type": "markdown",
   "metadata": {
    "execution": {}
   },
   "source": [
    "From the video above, we see that the lander has crashed! \n",
    "It is now the time for training! \n"
   ]
  },
  {
   "cell_type": "code",
   "execution_count": null,
   "metadata": {
    "execution": {}
   },
   "outputs": [
    {
     "name": "stdout",
     "output_type": "stream",
     "text": [
      "Eval num_timesteps=10000, episode_reward=-626.57 +/- 108.89\n",
      "Episode length: 96.80 +/- 19.65\n",
      "New best mean reward!\n",
      "Eval num_timesteps=20000, episode_reward=-565.73 +/- 53.94\n",
      "Episode length: 96.60 +/- 21.43\n",
      "New best mean reward!\n",
      "Eval num_timesteps=30000, episode_reward=-1248.76 +/- 1155.29\n",
      "Episode length: 179.20 +/- 94.89\n",
      "Eval num_timesteps=40000, episode_reward=-653.29 +/- 100.22\n",
      "Episode length: 205.80 +/- 44.69\n",
      "Eval num_timesteps=50000, episode_reward=-657.19 +/- 29.71\n",
      "Episode length: 885.00 +/- 85.80\n",
      "Eval num_timesteps=60000, episode_reward=120.18 +/- 92.77\n",
      "Episode length: 563.40 +/- 67.10\n",
      "New best mean reward!\n",
      "Eval num_timesteps=70000, episode_reward=114.92 +/- 106.17\n",
      "Episode length: 677.00 +/- 109.39\n",
      "Eval num_timesteps=80000, episode_reward=123.18 +/- 119.30\n",
      "Episode length: 334.60 +/- 93.25\n",
      "New best mean reward!\n",
      "Eval num_timesteps=90000, episode_reward=210.39 +/- 15.48\n",
      "Episode length: 467.80 +/- 55.01\n",
      "New best mean reward!\n",
      "Eval num_timesteps=100000, episode_reward=216.02 +/- 61.37\n",
      "Episode length: 491.40 +/- 254.75\n",
      "New best mean reward!\n"
     ]
    },
    {
     "data": {
      "text/plain": [
       "<stable_baselines3.dqn.dqn.DQN at 0x7f524f24cc10>"
      ]
     },
     "execution_count": 7,
     "metadata": {
      "tags": []
     },
     "output_type": "execute_result"
    }
   ],
   "source": [
    "model.learn(total_timesteps=100000, log_interval=10, callback=callback)\n",
    "# The performance of the training will be printed every 10 episodes. Change it to 1, if you wish to\n",
    "# view the performance at every training episode."
   ]
  },
  {
   "cell_type": "markdown",
   "metadata": {
    "execution": {}
   },
   "source": [
    "The training takes time. We encourage you to analyze the output logs (set verbose to 1 to print the output logs). The main component of the logs that you should track is \"ep_rew_mean\" (mean of episode rewards). As the training proceeds, the value of \"ep_rew_mean\" should increase. The improvement need not be monotonic, but the trend should be upwards! \n",
    "\n",
    "Along with training, we are also periodically evaluating the performance of the current model during the training. This was reported in logs as follows:\n",
    "\n",
    "*Eval num_timesteps=100000, episode_reward=63.41 +/- 130.02*\n",
    "\n",
    "*Episode length: 259.80 +/- 47.47* \n",
    "\n"
   ]
  },
  {
   "cell_type": "markdown",
   "metadata": {
    "execution": {}
   },
   "source": [
    "Now, let us look at the visual performance of the lander. \n",
    "\n",
    "**Note:** The performance varies across different seeds and runs. This code is not optimized to be stable across all runs and seeds. We hope you will be able to find an optimal configuration! "
   ]
  },
  {
   "cell_type": "code",
   "execution_count": null,
   "metadata": {
    "execution": {}
   },
   "outputs": [
    {
     "data": {
      "text/html": [
       "<video alt=\"test\" autoplay \n",
       "                loop controls style=\"height: 400px;\">\n",
       "                <source src=\"data:video/mp4;base64,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\" type=\"video/mp4\" />\n",
       "             </video>"
      ],
      "text/plain": [
       "<IPython.core.display.HTML object>"
      ]
     },
     "metadata": {
      "tags": []
     },
     "output_type": "display_data"
    }
   ],
   "source": [
    "env = wrap_env(gym.make(\"LunarLander-v2\"))\n",
    "observation = env.reset()\n",
    "while True:\n",
    "  env.render()\n",
    "  action, _states = model.predict(observation, deterministic=True)\n",
    "  observation, reward, done, info = env.step(action)\n",
    "  if done:\n",
    "    break;\n",
    "\n",
    "env.close()\n",
    "show_video()"
   ]
  },
  {
   "cell_type": "markdown",
   "metadata": {
    "execution": {}
   },
   "source": [
    "The lander has landed safely!!\n",
    "\n",
    "Let us analyze its performance (speed and stability). For this purpose, we plot the number of time steps on the X-axis and the episodic reward given by the trained model on the Y-axis. "
   ]
  },
  {
   "cell_type": "code",
   "execution_count": null,
   "metadata": {
    "execution": {}
   },
   "outputs": [
    {
     "data": {
      "text/plain": [
       "Text(0, 0.5, 'Episode Rewards')"
      ]
     },
     "execution_count": 9,
     "metadata": {
      "tags": []
     },
     "output_type": "execute_result"
    },
    {
     "data": {
      "image/png": "[encoded data removed]",
      "text/plain": [
       "<Figure size 432x288 with 1 Axes>"
      ]
     },
     "metadata": {
      "needs_background": "light",
      "tags": []
     },
     "output_type": "display_data"
    }
   ],
   "source": [
    "x, y = ts2xy(load_results(log_dir), 'timesteps')  # Organising the logged results in to a clean format for plotting.\n",
    "plt.plot(x,y)\n",
    "plt.ylim([-300, 300])\n",
    "plt.xlabel('Timesteps')\n",
    "plt.ylabel('Episode Rewards')"
   ]
  },
  {
   "cell_type": "markdown",
   "metadata": {
    "execution": {}
   },
   "source": [
    "From the above plot, we observe that, although the maximum reward is achieved quickly. Achieving an episodic reward of > 200 is good. We see that the agent has achieved it in less than 50000 timesteps (speed is good!). However, there are a lot of fluctuations in the performance (stability is not good!). \n",
    "\n",
    "Your objective now is to modify the model parameters (nn_layers, learning_rate in the code cell #2 above), run all the cells following it and investigate the stability and speed of the chosen configuration.   \n"
   ]
  },
  {
   "cell_type": "markdown",
   "metadata": {
    "execution": {}
   },
   "source": [
    "---\n",
    "# Additional Project Ideas"
   ]
  },
  {
   "cell_type": "markdown",
   "metadata": {
    "execution": {}
   },
   "source": [
    "## 1 Play with exploration-exploitation trade-off\n",
    "\n",
    "Exploration (selecting random actions) and exploitation (selecting greedy action) is a crucial component of the DQN algorithm. Explore random actions for a long time will slow down the training process. At the same time, if all actions are not explored enough, it might lead to a sub-optimal performance. In the DQN code above, we have used the following parameters:"
   ]
  },
  {
   "cell_type": "code",
   "execution_count": null,
   "metadata": {
    "execution": {}
   },
   "outputs": [],
   "source": [
    "exploration_initial_eps = 1  # initial value of random action probability. Range is between 0 and 1.\n",
    "exploration_fraction = 0.5  # fraction of entire training period over which the exploration rate is reduced. Range is between 0 and 1.\n",
    "exploration_final_eps = 0.05  # (set by defualt) final value of random action probability. Range is between 0 and 1."
   ]
  },
  {
   "cell_type": "markdown",
   "metadata": {
    "execution": {}
   },
   "source": [
    "Your objective is to play around with these parameters and analyze their performance (speed and stability). You can modify these parameters and set them as arguments in DQN(...,exploration_initial_eps = 1, exploration_fraction = 0.5, exploration_final_eps = 0.05,...). "
   ]
  },
  {
   "cell_type": "markdown",
   "metadata": {
    "execution": {}
   },
   "source": [
    "## 2 Reward Shaping\n",
    "\n",
    "Your objective here is to construct a modified reward function that improves the performance of the Lunar Lander. To this end, you would have to create your own custom environment. An example of a custom environment is given below:"
   ]
  },
  {
   "cell_type": "code",
   "execution_count": null,
   "metadata": {
    "execution": {}
   },
   "outputs": [],
   "source": [
    "# Taken from https://stable-baselines3.readthedocs.io/en/master/guide/custom_env.html\n",
    "class CustomEnv(gym.Env):\n",
    "  \"\"\"Custom Environment that follows gym interface\"\"\"\n",
    "  metadata = {'render.modes': ['human']}\n",
    "\n",
    "  def __init__(self, arg1, arg2):\n",
    "    super(CustomEnv, self).__init__()\n",
    "    # Define action and observation space\n",
    "    # They must be gym.spaces objects\n",
    "    # Example when using discrete actions:\n",
    "    self.action_space = spaces.Discrete(N_DISCRETE_ACTIONS)\n",
    "    # Example for using image as input (channel-first; channel-last also works):\n",
    "    self.observation_space = spaces.Box(low=0, high=255,\n",
    "                                        shape=(N_CHANNELS, HEIGHT, WIDTH), dtype=np.uint8)\n",
    "\n",
    "  def step(self, action):\n",
    "    ...\n",
    "    return observation, reward, done, info\n",
    "  def reset(self):\n",
    "    ...\n",
    "    return observation  # reward, done, info can't be included\n",
    "  def render(self, mode='human'):\n",
    "    ...\n",
    "  def close (self):\n",
    "    ..."
   ]
  },
  {
   "cell_type": "markdown",
   "metadata": {
    "execution": {}
   },
   "source": [
    "As you are only changing the reward structure, you can inherit the original Lunar Lander environment from https://github.com/openai/gym/blob/master/gym/envs/box2d/lunar_lander.py and modify just the \"step\" function. Focus on modifying the following part of the code in the \"step\" function\n"
   ]
  },
  {
   "cell_type": "code",
   "execution_count": null,
   "metadata": {
    "execution": {}
   },
   "outputs": [],
   "source": [
    "def step(self, actions):\n",
    "  ...\n",
    "  ...\n",
    "  ...\n",
    "  reward = 0\n",
    "  shaping = (\n",
    "      -100 * np.sqrt(state[0] * state[0] + state[1] * state[1])\n",
    "      - 100 * np.sqrt(state[2] * state[2] + state[3] * state[3])\n",
    "      - 100 * abs(state[4])\n",
    "      + 10 * state[6]\n",
    "      + 10 * state[7]\n",
    "  )  # And ten points for legs contact, the idea is if you\n",
    "  # lose contact again after landing, you get negative reward\n",
    "  if self.prev_shaping is not None:\n",
    "      reward = shaping - self.prev_shaping\n",
    "  self.prev_shaping = shaping\n",
    "\n",
    "  reward -= (\n",
    "      m_power * 0.30\n",
    "  )  # less fuel spent is better, about -30 for heuristic landing. You should modify these values.\n",
    "  reward -= s_power * 0.03\n",
    "\n",
    "  done = False\n",
    "  if self.game_over or abs(state[0]) >= 1.0:\n",
    "      done = True\n",
    "      reward = -100\n",
    "  if not self.lander.awake:\n",
    "      done = True\n",
    "      reward = +100\n",
    "  return np.array(state, dtype=np.float32), reward, done, {}"
   ]
  },
  {
   "cell_type": "markdown",
   "metadata": {
    "execution": {}
   },
   "source": [
    "Once you have cutomized your own environment, you can execute that environment by just calling:"
   ]
  },
  {
   "cell_type": "code",
   "execution_count": null,
   "metadata": {
    "execution": {}
   },
   "outputs": [],
   "source": [
    "#Enter the name of the custome environment you created and uncomment the line below.\n",
    "#env = Custom_LunarLander()\n",
    "# Refer to https://stable-baselines3.readthedocs.io/en/master/guide/custom_env.html, if you would like to create more complex environments."
   ]
  },
  {
   "cell_type": "markdown",
   "metadata": {
    "execution": {}
   },
   "source": [
    "## 3 Identify the state information crucial to its performance.\n",
    "\n",
    "Your objective here is to alter the input state information and analyze the performance. The input state of the Lunar Lander consists of following components:\n",
    "\n",
    "  1. Horizontal Position\n",
    "  2. Vertical Position\n",
    "  3. Horizontal Velocity\n",
    "  4. Vertical Velocity\n",
    "  5. Angle\n",
    "  6. Angular Velocity\n",
    "  7. Left Leg Contact\n",
    "  8. Right Leg Contact\n",
    "\n",
    "You can train the algorithm by masking one of the eight components at a time and understand how that affects the performance of the algorithm. Similar to the reward shaping task, you would have to create a custom environment and modify the state space. Again, you can inherit all the necessary functions and modify the following portion of the \"Step\" function:"
   ]
  },
  {
   "cell_type": "code",
   "execution_count": null,
   "metadata": {
    "execution": {}
   },
   "outputs": [],
   "source": [
    "def step(self, actions):\n",
    "  ...\n",
    "  ...\n",
    "  ...\n",
    "  state = [ # Remove one component at a time to investigate the effect on performance!\n",
    "            (pos.x - VIEWPORT_W / SCALE / 2) / (VIEWPORT_W / SCALE / 2),\n",
    "            (pos.y - (self.helipad_y + LEG_DOWN / SCALE)) / (VIEWPORT_H / SCALE / 2),\n",
    "            vel.x * (VIEWPORT_W / SCALE / 2) / FPS,\n",
    "            vel.y * (VIEWPORT_H / SCALE / 2) / FPS,\n",
    "            self.lander.angle,\n",
    "            20.0 * self.lander.angularVelocity / FPS,\n",
    "            1.0 if self.legs[0].ground_contact else 0.0,\n",
    "            1.0 if self.legs[1].ground_contact else 0.0,\n",
    "        ]"
   ]
  },
  {
   "cell_type": "markdown",
   "metadata": {
    "execution": {}
   },
   "source": [
    "## 4 Extension to Atari Games\n",
    "\n",
    "In the Lunar Lander task, the input to the algorithm is a vector of state information. Deep RL algorithms can also be applied when the input to the training is image frames, which is the case in the Atari games. For example, consider an Atari game - Pong. In this environment, the observation is an RGB image of the screen, which is an array of shape (210, 160, 3). To train the Pong game, you can start with the following sample code:"
   ]
  },
  {
   "cell_type": "code",
   "execution_count": null,
   "metadata": {
    "cellView": "form",
    "execution": {}
   },
   "outputs": [],
   "source": [
    "# @title Necessary components required for running Atari games.\n",
    "\n",
    "# Taken from https://github.com/openai/atari-py/issues/83#issuecomment-864356148\n",
    "import requests, os, rarfile, zipfile, shutil\n",
    "\n",
    "dirname = 'tmp/'\n",
    "fname = 'Roms.rar'\n",
    "fname2 = 'ROMS.zip'\n",
    "if not os.path.exists('ROMS/'):\n",
    "  os.mkdir(dirname)\n",
    "\n",
    "  url = 'http://www.atarimania.com/roms/Roms.rar'\n",
    "  r = requests.get(url, allow_redirects=True)\n",
    "  with open(fname, 'wb') as fd:\n",
    "    fd.write(r.content)\n",
    "\n",
    "  with rarfile.RarFile(fname) as f:\n",
    "    f.extractall(dirname)\n",
    "\n",
    "  with zipfile.ZipFile(dirname + fname2, 'r') as fz:\n",
    "    # extracting all the files\n",
    "    print('Extracting all the files now...')\n",
    "    fz.extractall()\n",
    "    print('Done!')\n",
    "\n",
    "  shutil.rmtree(dirname)\n",
    "  os.remove(fname)\n",
    "\n",
    "!python -m atari_py.import_roms /content/ROM/ > /dev/null"
   ]
  },
  {
   "cell_type": "code",
   "execution_count": null,
   "metadata": {
    "execution": {}
   },
   "outputs": [],
   "source": [
    "## Taken from: https://colab.research.google.com/github/Stable-Baselines-Team/rl-colab-notebooks/blob/sb3/atari_games.ipynb#scrollTo=f3K4rMXwimBO\n",
    "env = make_atari_env('PongNoFrameskip-v4', n_envs=1, seed=0)\n",
    "\n",
    "##Atari Games take a lot of memory. Following commands crash on Coalb. Run the following code on Colab Pro or your local Jupyter notebook!\n",
    "# env = VecFrameStack(env, n_stack=4)\n",
    "# model = DQN('CnnPolicy', env, verbose=1)  # Note the difference here! We use 'CnnPolicy\" here instead of 'MlpPolicy' as the input is frames.\n",
    "# model.learn(total_timesteps=1) #change the number of timesteps as desired and run this command!"
   ]
  },
  {
   "cell_type": "markdown",
   "metadata": {
    "execution": {}
   },
   "source": [
    "## 5 Obstacle Avoidance and Transfer Learning\n",
    "\n",
    "Your obstacle here is to add an obstacle in the path of the lunar lander (by creating a custom environment as described in point 2 above) and train the model such that the lander lands safely, avoiding collisions. \n",
    "\n",
    "You would first want to devise a mechansim for adding obstacles. For example, you could have an imaginary obstacle at some horizantal and vertical position cooridnates and modify the reward function such that a penalty is levied if the lander comes close to it. \n",
    "\n",
    "An interesting approach to solve this problem is to apply the techniques of transfer learning. For example, you could initialise the neural network model with the weights of the trained model on the original problem to improve the sample effeciency. This can be done using the following code:"
   ]
  },
  {
   "cell_type": "code",
   "execution_count": null,
   "metadata": {
    "execution": {}
   },
   "outputs": [],
   "source": [
    "## Specify the load path and uncomment below:\n",
    "\n",
    "# model = load(load_path,\n",
    "#              env=gym.make('LunarLander-v2'),\n",
    "#              custom_objects=None, **kwargs)"
   ]
  },
  {
   "cell_type": "markdown",
   "metadata": {
    "execution": {}
   },
   "source": [
    "Following are some of the resources on transfer learning that you would want to start with. \n",
    "\n",
    "**Research Papers**\n",
    "\n",
    "Surveys:\n",
    "1. (Long, Old, Highly cited) Taylor, M. E.,  et al. (2009). Transfer learning for reinforcement learning domains. https://www.jmlr.org/papers/volume10/taylor09a/taylor09a.pdf\n",
    "\n",
    "2. (Medium, Old, Good for a quick read) Lazaric, A. (2012). Transfer in reinforcement learning: a framework and a survey. https://hal.inria.fr/docs/00/77/26/26/PDF/transfer.pdf\n",
    "\n",
    "3. (Medium, Recent, Good for a quick read) Zhu, Z., Lin, K., & Zhou, J. (2020). Transfer learning in deep reinforcement learning. https://arxiv.org/pdf/2009.07888.pdf\n",
    "\n",
    "4. Specific example:\n",
    "Barreto, A., et al. (2016).  Successor features for transfer in reinforcement learning. https://arxiv.org/pdf/1606.05312"
   ]
  },
  {
   "cell_type": "markdown",
   "metadata": {
    "execution": {}
   },
   "source": [
    "## 5(b) Transfer Learning in minigrid environment\n",
    "\n",
    "These are some simple gridworld gym environments designed to be particularly simple, lightweight and fast. Refer to https://github.com/maximecb/gym-minigrid for description of the environments. An example to load a minigrid environment is given below:"
   ]
  },
  {
   "cell_type": "code",
   "execution_count": null,
   "metadata": {
    "execution": {}
   },
   "outputs": [],
   "source": [
    "!pip install gym-minigrid > /dev/null\n",
    "import gym_minigrid\n",
    "env = gym.make('MiniGrid-Empty-5x5-v0')"
   ]
  },
  {
   "cell_type": "markdown",
   "metadata": {
    "execution": {}
   },
   "source": [
    "You can train a standard DQN agent in this env by wrapping the env with full image observation wrappers:\n"
   ]
  },
  {
   "cell_type": "code",
   "execution_count": null,
   "metadata": {
    "execution": {}
   },
   "outputs": [],
   "source": [
    "env = gym_minigrid.wrappers.ImgObsWrapper(gym_minigrid.wrappers.RGBImgObsWrapper(env))"
   ]
  },
  {
   "cell_type": "markdown",
   "metadata": {
    "execution": {}
   },
   "source": [
    "Note that with full image observations, the shape of the image observations may differ between envs. For e.g., MiniGrid-Empty-5x5-v0 is (40,40,3) while MiniGrid-Empty-8x8-v0 is (64,64,3). So you may need to resize the observations for transfer learning to work with the same DQN architecture.\n",
    "\n",
    "Now try training a DQN (or another method) in one (or multiple) minigrid env(s),and see if that knowledge transfers to another (or multiple other) minigrid env(s).\n"
   ]
  },
  {
   "cell_type": "markdown",
   "metadata": {
    "execution": {}
   },
   "source": [
    "## 6 Preference-Based RL (PBRL)\n",
    "\n",
    "PBRL is an exciting sub-area in RL where the traditional reward structure is replaced with human preferences. This setting is very useful in applications where it is difficult to construct a reward function. \n",
    "\n",
    "In the earlier section, we have successfully trained the lunar lander to land safely. Here, the path that the lander follows to land safely can be arbitrary. In this project, using the techniques of PBRL, you will solve the lunar lander problem with an additional requirement that the lander should follow a specially curated path (for example, a straight line path). Following are some of the resources that will help you to get started with this project. \n",
    "\n",
    "**Research papers:**\n",
    "1. Deep Reinforcement Learning\n",
    "from Human Preferences https://papers.nips.cc/paper/2017/file/d5e2c0adad503c91f91df240d0cd4e49-Paper.pdf\n",
    "2. Deep Q-learning from Demonstrations https://arxiv.org/pdf/1704.03732.pdf\n",
    "3. Reward learning from human preferences https://arxiv.org/pdf/1811.06521.pdf\n",
    "4. T-REX https://arxiv.org/pdf/1904.06387.pdf\n",
    "\n",
    "**Code Bases:**\n",
    "1. https://github.com/nottombrown/rl-teacher\n",
    "2. https://github.com/hiwonjoon/ICML2019-TREX\n"
   ]
  },
  {
   "cell_type": "markdown",
   "metadata": {
    "execution": {}
   },
   "source": [
    "---\n",
    "# References\n",
    "\n",
    "1. Stable Baselines Framework: https://stable-baselines3.readthedocs.io/en/master/guide/examples.html\n",
    "\n",
    "2. Lunar Lander Environment: https://gym.openai.com/envs/LunarLander-v2/\n",
    "\n",
    "3. OpenAI gym environments: https://gym.openai.com/docs/\n",
    "\n",
    "4. A good reference for introduction to RL: http://incompleteideas.net/book/the-book-2nd.html\n"
   ]
  }
 ],
 "metadata": {
  "colab": {
   "collapsed_sections": [],
   "include_colab_link": true,
   "name": "lunar_lander",
   "provenance": [],
   "toc_visible": true
  },
  "kernel": {
   "display_name": "Python 3",
   "language": "python",
   "name": "python3"
  },
  "kernelspec": {
   "display_name": "Python 3",
   "name": "python3"
  },
  "language_info": {
   "name": "python"
  }
 },
 "nbformat": 4,
 "nbformat_minor": 0
}
