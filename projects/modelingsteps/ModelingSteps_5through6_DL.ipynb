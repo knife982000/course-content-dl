{
 "cells": [
  {
   "cell_type": "markdown",
   "metadata": {
    "colab_type": "text",
    "execution": {},
    "id": "view-in-github"
   },
   "source": [
    "<a href=\"https://colab.research.google.com/github/NeuromatchAcademy/course-content-dl/blob/main/projects/modelingsteps/ModelingSteps_5through6_DL.ipynb\" target=\"_parent\"><img src=\"https://colab.research.google.com/assets/colab-badge.svg\" alt=\"Open In Colab\"/></a> &nbsp; <a href=\"https://kaggle.com/kernels/welcome?src=https://raw.githubusercontent.com/NeuromatchAcademy/course-content-dl/main/projects/modelingsteps/ModelingSteps_5through6_DL.ipynb\" target=\"_parent\"><img src=\"https://kaggle.com/static/images/open-in-kaggle.svg\" alt=\"Open in Kaggle\"/></a>"
   ]
  },
  {
   "cell_type": "markdown",
   "metadata": {
    "execution": {}
   },
   "source": [
    "# Modeling Steps 5 - 6\n",
    "\n",
    "**By Neuromatch Academy**\n",
    "\n",
    "__Content creators:__ Marius 't Hart, Megan Peters, Paul Schrater,  Jean Laurens, Gunnar Blohm\n",
    "\n",
    "__Production editor:__ Spiros Chavlis"
   ]
  },
  {
   "cell_type": "markdown",
   "metadata": {
    "execution": {}
   },
   "source": [
    "**Our 2021 Sponsors, including Presenting Sponsor Facebook Reality Labs**\n",
    "\n",
    "<p align='center'><img src='https://github.com/NeuromatchAcademy/widgets/blob/master/sponsors.png?raw=True'/></p>"
   ]
  },
  {
   "cell_type": "markdown",
   "metadata": {
    "execution": {}
   },
   "source": [
    "----\n",
    "# Step 5: Selecting the toolkit\n",
    "\n",
    "\n",
    "\n",
    "\n"
   ]
  },
  {
   "cell_type": "code",
   "execution_count": null,
   "metadata": {
    "cellView": "form",
    "execution": {}
   },
   "outputs": [
    {
     "data": {
      "application/vnd.jupyter.widget-view+json": {
       "model_id": "9bd3394871534eb3a1cc15a5391f1dac",
       "version_major": 2,
       "version_minor": 0
      },
      "text/plain": [
       "Tab(children=(Output(), Output()), _titles={'0': 'Youtube', '1': 'Bilibili'})"
      ]
     },
     "metadata": {
      "tags": []
     },
     "output_type": "display_data"
    }
   ],
   "source": [
    "# @title Video 6: Selecting the toolkit\n",
    "from ipywidgets import widgets\n",
    "\n",
    "out2 = widgets.Output()\n",
    "with out2:\n",
    "  from IPython.display import IFrame\n",
    "  class BiliVideo(IFrame):\n",
    "    def __init__(self, id, page=1, width=400, height=300, **kwargs):\n",
    "      self.id=id\n",
    "      src = 'https://player.bilibili.com/player.html?bvid={0}&page={1}'.format(id, page)\n",
    "      super(BiliVideo, self).__init__(src, width, height, **kwargs)\n",
    "\n",
    "  video = BiliVideo(id=\"BV1CB4y1T7Uv\", width=854, height=480, fs=1)\n",
    "  print('Video available at https://www.bilibili.com/video/{0}'.format(video.id))\n",
    "  display(video)\n",
    "\n",
    "out1 = widgets.Output()\n",
    "with out1:\n",
    "  from IPython.display import YouTubeVideo\n",
    "  video = YouTubeVideo(id=\"q5_c18Kxx0k\", width=854, height=480, fs=1, rel=0)\n",
    "  print('Video available at https://youtube.com/watch?v=' + video.id)\n",
    "  display(video)\n",
    "\n",
    "out = widgets.Tab([out1, out2])\n",
    "out.set_title(0, 'Youtube')\n",
    "out.set_title(1, 'Bilibili')\n",
    "\n",
    "display(out)"
   ]
  },
  {
   "cell_type": "markdown",
   "metadata": {
    "execution": {}
   },
   "source": [
    "Once you have completed Steps 1-4 to your satisfaction, you are now ready to model. You have a specific question, a goal in mind, and precise hypotheses expressed in mathematical language. All these components will empower you to chose an appropriate modeling approach. \n",
    "\n",
    "In selecting the right toolkit, i.e. the right mathematics, computer science, engineering, or physics, etc approaches, you should consider the following important rules:\n",
    "1. Determine the level of abstraction\n",
    "2. Select the toolkit that best represents the ingredients and hypotheses\n",
    "3. Toolkit should express all needed relationships, mechanisms and concepts\n",
    "4. Keep it as simple as possible!\n",
    "\n",
    "**Guiding questions**:\n",
    "* What is the most appropriate approach to answer your question?\n",
    "  * What level of abstraction is needed?\n",
    "  * Determine granularity / scale based on hypotheses & goals\n",
    "  * Stay as high-level as possible, but be as detailed as needed!!!\n",
    "* Select the toolkit\n",
    "  * Requires prior knowledge about flexibility / limitations of toolkit\n",
    "  * Often more than one option possible\n",
    "  * Some toolkits are more flexible, span a wider range of behaviour and/or are lumpable\n",
    "  * Also determines how the model will be solved, i.e., simulated\n",
    "    * Analytical? Numerical?\n",
    "    * E.g., spatial, temporal resolution?\n",
    "  * Don't forget to estimate the data and/or compute resources your toolkit will need...\n",
    "      * make sure this is available to you!\n",
    "\n",
    "Viewing [modeling as a decision process](https://doi.org/10.1523/ENEURO.0352-19.2019) might help providing clarity regarding different model types, and how framing the problem and stating your goals influences the toolkit selection. Don't be afraid to pursue goals that no one else pursues; [diversity of models should be encouraged](https://nbdt.scholasticahq.com/article/16723-appreciating-the-variety-of-goals-in-computational-neuroscience) because it results in complementary model considerations. "
   ]
  },
  {
   "cell_type": "markdown",
   "metadata": {
    "execution": {}
   },
   "source": [
    "**Make sure to avoid the pitfalls!**\n",
    "<details>\n",
    "<summary>Click here for a recap on pitfalls</summary>\n",
    "\n",
    "Choosing a toolkit for the toolkit's sake (e.g. DL because it's cool to do deep learning)\n",
    "<ul>\n",
    "  <li>this will prevent you to really answer your research question and/or speak to your hypotheses</li>\n",
    "  </ul>\n",
    "\n",
    "Being at the wrong level of abstraction (see W1D1 intro)\n",
    "<ul>\n",
    "  <li>too complex toolkits will have too many parameters you can't meaningfully constrain, and/or that add needless complexity</li>\n",
    "  <li>too simple toolkits will lack means to implement the details you care about</li>\n",
    "  </ul>\n",
    "  \n",
    "Not knowing any toolkits\n",
    "<ul>\n",
    "  <li>this highlights a lack of literature review and/or background work to learn about the tools used by the field</li>\n",
    "  </ul>"
   ]
  },
  {
   "cell_type": "markdown",
   "metadata": {
    "execution": {}
   },
   "source": [
    "----\n",
    "# Step 6: Planning / drafting the model\n",
    "\n",
    "\n",
    "\n",
    "\n",
    "\n",
    "\n"
   ]
  },
  {
   "cell_type": "code",
   "execution_count": null,
   "metadata": {
    "cellView": "form",
    "execution": {}
   },
   "outputs": [
    {
     "data": {
      "application/vnd.jupyter.widget-view+json": {
       "model_id": "9eb3adfb32354c818e663fda57d49c4c",
       "version_major": 2,
       "version_minor": 0
      },
      "text/plain": [
       "Tab(children=(Output(), Output()), _titles={'0': 'Youtube', '1': 'Bilibili'})"
      ]
     },
     "metadata": {
      "tags": []
     },
     "output_type": "display_data"
    }
   ],
   "source": [
    "# @title Video 7: Drafting the modeling\n",
    "\n",
    "from ipywidgets import widgets\n",
    "\n",
    "out2 = widgets.Output()\n",
    "with out2:\n",
    "  from IPython.display import IFrame\n",
    "  class BiliVideo(IFrame):\n",
    "    def __init__(self, id, page=1, width=400, height=300, **kwargs):\n",
    "      self.id=id\n",
    "      src = 'https://player.bilibili.com/player.html?bvid={0}&page={1}'.format(id, page)\n",
    "      super(BiliVideo, self).__init__(src, width, height, **kwargs)\n",
    "\n",
    "  video = BiliVideo(id=\"BV1R44y1q7RH\", width=854, height=480, fs=1)\n",
    "  print('Video available at https://www.bilibili.com/video/{0}'.format(video.id))\n",
    "  display(video)\n",
    "\n",
    "out1 = widgets.Output()\n",
    "with out1:\n",
    "  from IPython.display import YouTubeVideo\n",
    "  video = YouTubeVideo(id=\"KrbKjzURlQA\", width=854, height=480, fs=1, rel=0)\n",
    "  print('Video available at https://youtube.com/watch?v=' + video.id)\n",
    "  display(video)\n",
    "\n",
    "out = widgets.Tab([out1, out2])\n",
    "out.set_title(0, 'Youtube')\n",
    "out.set_title(1, 'Bilibili')\n",
    "\n",
    "display(out)"
   ]
  },
  {
   "cell_type": "markdown",
   "metadata": {
    "execution": {}
   },
   "source": [
    "Planning the model involves thinking about the general outline of the model, its components and how they might fit together. You want to draw a model diagram, make some sketches and formalize necessary equations. This step will thus outline a plan of implementation. Once you have that plan, this will hugely facilitate the actual implementation of the model in computer code. \n",
    "\n",
    "Your model will have:\n",
    "* **inputs**: the values the system has available - this can be broken down into _data_, and _parameters_ \n",
    "* **outputs**: these are the predictions our model will make that you could portentially measure (e.g. in your idealized experiment)\n",
    "* **model functions**: A set of functions that perform the hypothesized computations.\n",
    "\n",
    "You will thus need to define a set of functions that take your data and some parameters as input, can run your model, and output a prediction for a hypothetical measurment.\n",
    "\n",
    "**Guiding principles**:\n",
    "* Keep it as simple as possible!\n",
    "* Don't get lost in details\n",
    "* Draft on paper: start with a flow diagram\n",
    "  * Draw out model components (boxes)\n",
    "  * What influences what? (arrows)\n",
    "* Then consider each model box separately\n",
    "  * Draft internal workings in terms of equations\n",
    "  * This might require a lot of work…\n",
    "  * Relate box inputs to box outputs!\n",
    "  * Keep in mind that the model should include a way to relate model variables to measurements\n",
    "  * Use the question, ingredients, and hypotheses to ensure you have all required components\n",
    "\n",
    "**Goal**: Put in place all the components of the hypothesized relationships and explanations. \n"
   ]
  },
  {
   "cell_type": "markdown",
   "metadata": {
    "execution": {}
   },
   "source": [
    "**Make sure to avoid the pitfalls!**\n",
    "<details>\n",
    "<summary>Click here for a recap on pitfalls</summary>\n",
    "\n",
    "I don't need to draft the model, I have it clearly in my mind\n",
    "<ul>\n",
    "  <li>you might think you do, but experience shows you're likely missing many important aspects</li>\n",
    "  </ul>\n",
    "\n",
    "I can just make a rough draft\n",
    "<ul>\n",
    "  <li>the more detailed the draft, the easier it will be to implement the model in computer code</li>\n",
    "  <li>rough drafts tend to forget important details that you need to think about, e.g. signals needed (where do they come from?), parameters to specify (how to constrain them?), etc.</li>\n",
    "  </ul>\n",
    "\n",
    "Draft is too detailed or not detailed enough\n",
    "<ul>\n",
    "  <li>too detailed: you're writing our recursions, etc</li>\n",
    "  <li>not detailed enough: you have no idea what's inside \"boxes\"</li>\n",
    "  </ul>"
   ]
  }
 ],
 "metadata": {
  "colab": {
   "collapsed_sections": [],
   "include_colab_link": true,
   "name": "ModelingSteps_5through6_DL",
   "provenance": [],
   "toc_visible": true
  },
  "kernel": {
   "display_name": "Python 3",
   "language": "python",
   "name": "python3"
  },
  "kernelspec": {
   "display_name": "Python 3",
   "language": "python",
   "name": "python3"
  },
  "language_info": {
   "codemirror_mode": {
    "name": "ipython",
    "version": 3
   },
   "file_extension": ".py",
   "mimetype": "text/x-python",
   "name": "python",
   "nbconvert_exporter": "python",
   "pygments_lexer": "ipython3",
   "version": "3.6.8"
  }
 },
 "nbformat": 4,
 "nbformat_minor": 0
}
