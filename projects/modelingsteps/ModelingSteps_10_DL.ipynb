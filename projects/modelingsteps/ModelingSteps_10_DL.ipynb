{
 "cells": [
  {
   "cell_type": "markdown",
   "metadata": {
    "colab_type": "text",
    "execution": {},
    "id": "view-in-github"
   },
   "source": [
    "<a href=\"https://colab.research.google.com/github/NeuromatchAcademy/course-content-dl/blob/main/projects/modelingsteps/ModelingSteps_10_DL.ipynb\" target=\"_parent\"><img src=\"https://colab.research.google.com/assets/colab-badge.svg\" alt=\"Open In Colab\"/></a> &nbsp; <a href=\"https://kaggle.com/kernels/welcome?src=https://raw.githubusercontent.com/NeuromatchAcademy/course-content-dl/main/projects/modelingsteps/ModelingSteps_10_DL.ipynb\" target=\"_parent\"><img src=\"https://kaggle.com/static/images/open-in-kaggle.svg\" alt=\"Open in Kaggle\"/></a>"
   ]
  },
  {
   "cell_type": "markdown",
   "metadata": {
    "execution": {}
   },
   "source": [
    "# Modeling Steps 10\n",
    "\n",
    "**Project guidance**\n",
    "\n",
    "__Content creators:__ Marius 't Hart, Megan Peters, Paul Schrater,  Jean Laurens, Gunnar Blohm\n",
    "\n",
    "__Production editors:__ Spiros Chavlis"
   ]
  },
  {
   "cell_type": "markdown",
   "metadata": {
    "execution": {}
   },
   "source": [
    "**Our 2021 Sponsors, including Presenting Sponsor Facebook Reality Labs**\n",
    "\n",
    "<p align='center'><img src='https://github.com/NeuromatchAcademy/widgets/blob/master/sponsors.png?raw=True'/></p>"
   ]
  },
  {
   "cell_type": "markdown",
   "metadata": {
    "execution": {}
   },
   "source": [
    "----\n",
    "# Step 10: publishing the model\n",
    "\n"
   ]
  },
  {
   "cell_type": "code",
   "execution_count": null,
   "metadata": {
    "cellView": "form",
    "execution": {}
   },
   "outputs": [
    {
     "data": {
      "application/vnd.jupyter.widget-view+json": {
       "model_id": "008aaa8ed6074c4697b05c818e242b4c",
       "version_major": 2,
       "version_minor": 0
      },
      "text/plain": [
       "Tab(children=(Output(), Output()), _titles={'0': 'Youtube', '1': 'Bilibili'})"
      ]
     },
     "metadata": {
      "tags": []
     },
     "output_type": "display_data"
    }
   ],
   "source": [
    "# @title Video 11: Publishing the modeling\n",
    "\n",
    "from ipywidgets import widgets\n",
    "\n",
    "out2 = widgets.Output()\n",
    "with out2:\n",
    "  from IPython.display import IFrame\n",
    "  class BiliVideo(IFrame):\n",
    "    def __init__(self, id, page=1, width=400, height=300, **kwargs):\n",
    "      self.id=id\n",
    "      src = 'https://player.bilibili.com/player.html?bvid={0}&page={1}'.format(id, page)\n",
    "      super(BiliVideo, self).__init__(src, width, height, **kwargs)\n",
    "\n",
    "  video = BiliVideo(id=\"BV11b4y1r7Eu\", width=854, height=480, fs=1)\n",
    "  print('Video available at https://www.bilibili.com/video/{0}'.format(video.id))\n",
    "  display(video)\n",
    "\n",
    "out1 = widgets.Output()\n",
    "with out1:\n",
    "  from IPython.display import YouTubeVideo\n",
    "  video = YouTubeVideo(id=\"z7QIdREXmf8\", width=854, height=480, fs=1, rel=0)\n",
    "  print('Video available at https://youtube.com/watch?v=' + video.id)\n",
    "  display(video)\n",
    "\n",
    "out = widgets.Tab([out1, out2])\n",
    "out.set_title(0, 'Youtube')\n",
    "out.set_title(1, 'Bilibili')\n",
    "\n",
    "display(out)"
   ]
  },
  {
   "cell_type": "markdown",
   "metadata": {
    "execution": {}
   },
   "source": [
    "**Guiding principles**:\n",
    "* Know your target audience!\n",
    "  * How much math details? How much explanation of math?\n",
    "  * What’s the message?\n",
    "  * Should be experimentalists in most cases!!!\n",
    "    * Provide intuitive explanations, analogies, etc.\n",
    "    * Famous researcher: “a good modeller knows how to relate to experimentalists”\n",
    "* Clearly describe what the goals, hypotheses and performance criteria were\n",
    "  * Prevents from false expectation of what the model should be doing\n",
    "* A graphical representation is worth 1000 words (or more)\n",
    "* Show model simulations in parallel to data\n",
    "  * Much more convincing!\n",
    "* Publish enough implementation details\n",
    "  * A good model has to be reproducible! \n",
    "\n",
    "**Goal**: Make sure your model is well received **AND USED** by the community. In order for our model to impact the field, it needs to be accepted by our peers, and order for that to happen it matters how the model is published."
   ]
  },
  {
   "cell_type": "markdown",
   "metadata": {
    "execution": {}
   },
   "source": [
    "**Make sure to avoid the pitfalls!**\n",
    "<details>\n",
    "<summary>Click here for a recap on pitfalls</summary>\n",
    "\n",
    "\n",
    "not thinking of your target audience\n",
    "<ul>\n",
    "  <li>no one will understand you if you write for yourself because only you know what you know...</li>\n",
    "  </ul>\n",
    "\n",
    "forgetting about Steps 1-4\n",
    "<ul>\n",
    "  <li>clearly spelling out steps 1-4 allows the reader to appreciate your goals and sets limits on model criticism\n",
    "    <ul>\n",
    "      <li>no one can tell you your model didn't do something you never set out to do</li>\n",
    "      <li>prevents unreasonable claims / rejection of paper</li>\n",
    "  </ul>\n",
    "</ul>\n",
    "\n",
    "thinking you don't need figures to explain your model\n",
    "<ul>\n",
    "  <li>your model draft is a great starting point!</li>\n",
    "  <li>make figures that provide intuition about model behavior (just like you would create figures to provide intuition about expeimental data)</li>\n",
    "  </ul>\n",
    "\n",
    "my code is too mesy to be published\n",
    "<ul>\n",
    "  <li>not an option (many journal now rightfully require it)</li>\n",
    "  <li>code cleanly right from the start</li>\n",
    "    <ul>\n",
    "      <li>model drafting should help with that</li>\n",
    "      <li>comment your code! Then comment more...</li>\n",
    "  </ul>\n",
    "</ul>"
   ]
  },
  {
   "cell_type": "markdown",
   "metadata": {
    "execution": {}
   },
   "source": [
    "### Writing the abstract of a modeling paper\n",
    "Abstracts are very stereotyped pieces of writing that contain highly condensed information. To write a summary (= abstract) of your modeling, you can use these questions as a guide: \n",
    "* **What is the phenomena**?  Here summarize the part of the phenomena which your modeling addresses.\n",
    "* **What is the key scientific question?**:  Clearly articulate the question which your modeling tries to answer.\n",
    "* **What was our hypothesis?**:  Explain the key relationships which we relied on to simulate the phenomena.\n",
    "* **How did your modeling work?** Give an overview of the model, it's main components, and how the modeling works.  ''Here we ... ''\n",
    "* **What did you find? Did the modeling work?** Explain the key outcomes of your modeling evaluation. \n",
    "* **What can you conclude?** Conclude as much as you can _with reference to the hypothesis_, within the limits of the modeling.  \n",
    "* **What are the limitations and future directions?** What is left to be learned? Briefly argue the plausibility of the approach and/or what you think is essential that may have been left out.\n",
    "\n",
    "\n",
    "**Instructions**: write down your answer to each of those questions (1-2 sentences each, max!). When you're done, stick the sentences together... Now you have an abstract!\n",
    "\n",
    "### Guidance for paper writing\n",
    "There are good guidelines for structuring and writing an effective paper (e.g., [Mensh & Kording, 2017](https://doi.org/10.1371/journal.pcbi.1005619)), all of which apply to papers about models. There are some extra considerations when publishing a model. In general, you should explain each of the steps in the paper:\n",
    "\n",
    "**Introduction:** Steps 1 & 2 (maybe 3)\n",
    "\n",
    "**Methods:** Steps 3-7, 9\n",
    "\n",
    "**Results:** Steps 8 & 9, going back to 1, 2 & 4\n",
    "\n",
    "Here are some great materials to help you with paper writing:\n",
    "* [Ten Simple Rules for Better Figures](https://journals.plos.org/ploscompbiol/article?id=10.1371/journal.pcbi.1003833)\n",
    "* [How to Write Strong and Effective Figure Legends](https://wordvice.com/how-to-write-effective-figure-titles-and-legends/)\n",
    "* [How to Create a Consistent Writing Schedule: 10 Tips for Writers](https://www.masterclass.com/articles/how-to-create-a-consistent-writing-schedule)\n",
    "\n",
    "In addition, you should provide a visualization of the model, and upload the code implementing the model and the data it was trained and tested on to a repository (e.g. GitHub and OSF).\n",
    "\n",
    "### Suggestion\n",
    "\n",
    "For every modeling project, a very good exercise is to _**first**_ write a short, 100-word abstract of the project plan and expected impact. This forces focussing on the main points: describing the relevance, question, model, answer and what it all means very succinctly. This allows you to decide to do this project or not **before you commit time writing code for no good purpose**. Notice that this is really what we've walked you through carefully in this guide! 😀\n"
   ]
  },
  {
   "cell_type": "markdown",
   "metadata": {
    "execution": {}
   },
   "source": [
    "---\n",
    "# Reading\n",
    "\n",
    "Blohm G, Kording KP, Schrater PR (2020). _A How-to-Model Guide for Neuroscience_. eNeuro, 7(1) ENEURO.0352-19.2019. https://doi.org/10.1523/ENEURO.0352-19.2019 \n",
    "\n",
    "Kording KP, Blohm G, Schrater P, Kay K (2020). _Appreciating the variety of goals in computational neuroscience_. Neurons, Behavior, Data Analysis, and Theory 3(6). https://nbdt.scholasticahq.com/article/16723-appreciating-the-variety-of-goals-in-computational-neuroscience\n",
    "\n",
    "Mensh B, Kording K (2017). _Ten simple rules for structuring papers._ PLOS Comput Biol 13(9): e1005619. https://doi.org/10.1371/journal.pcbi.1005619\n",
    "\n",
    "Schrater PR, Peters MK, Kording KP, Blohm G (2019). _Modeling in Neuroscience as a Decision Process_. OSF pre-print. https://osf.io/w56vt/"
   ]
  }
 ],
 "metadata": {
  "colab": {
   "collapsed_sections": [],
   "include_colab_link": true,
   "name": "ModelingSteps_10_DL",
   "provenance": [],
   "toc_visible": true
  },
  "kernel": {
   "display_name": "Python 3",
   "language": "python",
   "name": "python3"
  },
  "kernelspec": {
   "display_name": "Python 3",
   "language": "python",
   "name": "python3"
  },
  "language_info": {
   "codemirror_mode": {
    "name": "ipython",
    "version": 3
   },
   "file_extension": ".py",
   "mimetype": "text/x-python",
   "name": "python",
   "nbconvert_exporter": "python",
   "pygments_lexer": "ipython3",
   "version": "3.6.8"
  }
 },
 "nbformat": 4,
 "nbformat_minor": 0
}
