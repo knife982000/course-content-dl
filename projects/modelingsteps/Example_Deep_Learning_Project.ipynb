{
 "cells": [
  {
   "cell_type": "markdown",
   "id": "fe784ffb",
   "metadata": {
    "colab_type": "text",
    "execution": {},
    "id": "view-in-github"
   },
   "source": [
    "<a href=\"https://colab.research.google.com/github/NeuromatchAcademy/course-content-dl/blob/main/projects/modelingsteps/Example_Deep_Learning_Project.ipynb\" target=\"_parent\"><img src=\"https://colab.research.google.com/assets/colab-badge.svg\" alt=\"Open In Colab\"/></a> &nbsp; <a href=\"https://kaggle.com/kernels/welcome?src=https://raw.githubusercontent.com/NeuromatchAcademy/course-content-dl/main/projects/modelingsteps/Example_Deep_Learning_Project.ipynb\" target=\"_parent\"><img src=\"https://kaggle.com/static/images/open-in-kaggle.svg\" alt=\"Open in Kaggle\"/></a>"
   ]
  },
  {
   "cell_type": "markdown",
   "id": "ranging-burst",
   "metadata": {
    "execution": {}
   },
   "source": [
    "# Example Deep Learning Project\n",
    "\n",
    "**By Neuromatch Academy**\n",
    "\n",
    "__Content creators:__ Marius 't Hart, Megan Peters, Vladimir Haltakov, Paul Schrater, Gunnar Blohm\n",
    "\n",
    "__Production editor:__ Spiros Chavlis"
   ]
  },
  {
   "cell_type": "markdown",
   "id": "0-8OEIH3-LpT",
   "metadata": {
    "execution": {}
   },
   "source": [
    "**Our 2021 Sponsors, including Presenting Sponsor Facebook Reality Labs**\n",
    "\n",
    "<p align='center'><img src='https://github.com/NeuromatchAcademy/widgets/blob/master/sponsors.png?raw=True'/></p>"
   ]
  },
  {
   "cell_type": "markdown",
   "id": "lfthSM088QdJ",
   "metadata": {
    "execution": {}
   },
   "source": [
    "---\n",
    "# Objectives\n",
    "\n",
    "We're interested in automatically classifying movement. There is a great dataset (MoVi) with different modalities of movement recordings (videos, visual markers, accelerometers, skeletal motion reconstructions, etc). We will use a sub-set of this data, i.e. estimated skeletal motion, to perform a pilot study investigating whether we can classify different movements from the skeletal motion. And if so, which skeletal motions (if not all) are neccessary for good decoding performance?\n",
    "\n",
    "Please check out the different resources below to better understand the MoVi dataset and learn more about the movements.\n",
    "\n",
    "**Resources**:\n",
    "* [see MoVi paper here](https://journals.plos.org/plosone/article?id=10.1371/journal.pone.0253157)\n",
    "* [GitHub page of MoVi](https://github.com/saeed1262/MoVi-Toolbox)\n",
    "* [MoVi website and description](https://www.biomotionlab.ca/movi/)\n",
    "* [full MoVi dataset (not needed for this demo)](https://dataverse.scholarsportal.info/dataset.xhtml?persistentId=doi:10.5683/SP2/JRHDRN)"
   ]
  },
  {
   "cell_type": "markdown",
   "id": "YLvELJIDJiW8",
   "metadata": {
    "execution": {}
   },
   "source": [
    "---\n",
    "# Setup\n",
    "\n",
    "For your own project, you can put together a colab notebook by copy-pasting bits of code from the tutorials. We still recommend keeping the 4 setup cells at the top, like here; Imports, Figure Settings, Plotting functions, and Data retrieval."
   ]
  },
  {
   "cell_type": "code",
   "execution_count": null,
   "id": "bPkNdonuJpIL",
   "metadata": {
    "execution": {}
   },
   "outputs": [],
   "source": [
    "# Imports\n",
    "# get some matrices and plotting:\n",
    "import numpy as np\n",
    "import matplotlib.pyplot as plt\n",
    "\n",
    "# get some pytorch:\n",
    "import torch\n",
    "import torch.nn as nn\n",
    "from torch.nn import MaxPool1d\n",
    "from torch.utils.data import Dataset\n",
    "from torch.utils.data import DataLoader\n",
    "\n",
    "# confusion matrix from sklearn\n",
    "from sklearn.metrics import confusion_matrix\n",
    "\n",
    "# to get some idea of how long stuff will take to complete:\n",
    "import time\n",
    "\n",
    "# to see how unbalanced the data is:\n",
    "from collections import Counter"
   ]
  },
  {
   "cell_type": "code",
   "execution_count": null,
   "id": "Fn81OPRAJxS1",
   "metadata": {
    "cellView": "form",
    "execution": {}
   },
   "outputs": [],
   "source": [
    "# @title Figure settings\n",
    "import ipywidgets as widgets #interactive display\n",
    "\n",
    "%config InlineBackend.figure_format = 'retina'\n",
    "plt.style.use(\"https://raw.githubusercontent.com/NeuromatchAcademy/content-creation/main/nma.mplstyle\")"
   ]
  },
  {
   "cell_type": "code",
   "execution_count": null,
   "id": "ieSP3d3Z8dOl",
   "metadata": {
    "cellView": "form",
    "execution": {}
   },
   "outputs": [],
   "source": [
    "# @title Plotting functions\n",
    "\n",
    "def plotConfusionMatrix(real_labels, predicted_labels, label_names):\n",
    "\n",
    "  # conver the labels to integers:\n",
    "  real_labels = [int(x) for x in real_labels]\n",
    "  predicted_labels = [int(x) for x in predicted_labels]\n",
    "  tick_names = [a.replace(\"_\", \" \") for a in label_names]\n",
    "\n",
    "  cm = confusion_matrix(real_labels, predicted_labels, normalize='true')\n",
    "\n",
    "  fig = plt.figure(figsize=(8,6))\n",
    "  plt.imshow(cm)\n",
    "  plt.xticks(range(len(tick_names)),tick_names, rotation=90)\n",
    "  plt.yticks(range(len(tick_names)),tick_names)\n",
    "  plt.xlabel('predicted move')\n",
    "  plt.ylabel('real move')\n",
    "  plt.show()"
   ]
  },
  {
   "cell_type": "code",
   "execution_count": null,
   "id": "vN9AoEDiJ7jp",
   "metadata": {
    "cellView": "form",
    "execution": {}
   },
   "outputs": [],
   "source": [
    "# @title Data retrieval\n",
    "# @markdown Run this cell to download the data for this example project.\n",
    "import io\n",
    "import requests\n",
    "r = requests.get('https://osf.io/mnqb7/download')\n",
    "if r.status_code != 200:\n",
    "  print('Failed to download data')\n",
    "else:\n",
    "  train_moves=np.load(io.BytesIO(r.content), allow_pickle=True)['train_moves']\n",
    "  train_labels=np.load(io.BytesIO(r.content), allow_pickle=True)['train_labels']\n",
    "  test_moves=np.load(io.BytesIO(r.content), allow_pickle=True)['test_moves']\n",
    "  test_labels=np.load(io.BytesIO(r.content), allow_pickle=True)['test_labels']\n",
    "  label_names=np.load(io.BytesIO(r.content), allow_pickle=True)['label_names']\n",
    "  joint_names=np.load(io.BytesIO(r.content), allow_pickle=True)['joint_names']"
   ]
  },
  {
   "cell_type": "markdown",
   "id": "auburn-demonstration",
   "metadata": {
    "execution": {}
   },
   "source": [
    "---\n",
    "# Step 1: Question\n",
    "There are many different questions we could ask with the MoVi dataset. We will start with a simple question: **\"Can we classify movements from skeletal motion data, and if so, which body parts are the most informative ones?\"**\n",
    "\n",
    "Our goal is to perform a *pilot* study to see if this is possible in principle. We will therefore use \"ground truth\" skeletal motion data that has been computed using an inference algorithm (see [MoVi paper](https://journals.plos.org/plosone/article?id=10.1371/journal.pone.0253157)). If this works out, then as a next step we might want to use the raw sensor data or even videos...\n",
    "\n",
    "The ultimate goal could for example be to figure out which body parts to record movements from (e.g. is just a wristband enough?) to classify movement."
   ]
  },
  {
   "cell_type": "markdown",
   "id": "meaningful-oracle",
   "metadata": {
    "execution": {}
   },
   "source": [
    "---\n",
    "# Step 2: literature review\n",
    "Most importantly, our literature review needs to address the following:\n",
    "* what modeling approaches make it possible to classify time series data?\n",
    "* how is human motion captured?\n",
    "* what exactly is in the MoVi dataset?\n",
    "* what is known regarding classification of human movement based on different measurements?\n",
    "\n",
    "What we learn from the literature review is too long to write out here... But we would like to point out that human motion classification has been done; we're not proposing a very novel project here. But that's ok for an NMA project!"
   ]
  },
  {
   "cell_type": "markdown",
   "id": "capable-retirement",
   "metadata": {
    "execution": {}
   },
   "source": [
    "---\n",
    "# Step 3: ingredients\n",
    "\n",
    "## Data ingredients\n",
    "\n",
    "After downloading the data, we should have 6 numpy arrays:\n",
    "\n",
    "- `train_moves`: the training set of 1032 movements\n",
    "- `train_labels`: the class labels for each of the 1032 training movements\n",
    "- `test_moves`: the test set of 172 movements\n",
    "- `test_labels`: the class labels for each of the 172 test movements\n",
    "- `label_names`: text labels for the values in the two arrays of class labels\n",
    "- `joint_names`: the names of the 24 joints used in each movement\n",
    "\n",
    "We'll take a closer look at the data below. *Note*: data is split into training and test sets. If you don't know what that means, NMA-DL will teach you!\n",
    "\n",
    "**Inputs**:\n",
    "\n",
    "For simplicity, we take the first 24 joints of the whole MoVi dataset including all major limbs. The data was in an exponential map format, which has 3 rotations/angles for each joint (pitch, yaw, roll). The advantage of this type of data is that it is (mostly) agnostic about body size or shape. And since we care about movements only, we choose this representation of the data (there are other representations in the full data set).\n",
    "\n",
    "Since the joints are simply points, the 3rd angle (i.e. roll) contained no information, and that is already dropped from the data that we pre-formatted for this demo project. That is, the movements of each joint are described by 2 angles, that change over time. Furthermore, we normalized all the angles/rotations to fall between 0 and 1 so they are good input for PyTorch.\n",
    "\n",
    "Finally, the movements originally took various amounts of time, but we need the same input for each movement, so we sub-sampled and (linearly) interpolated the data to have 75 timepoints.\n",
    "\n",
    "Our training data is supposed to have 1032 movements, 2 x 24 joints = 48 channels and 75 timepoints. Let's check and make sure:"
   ]
  },
  {
   "cell_type": "code",
   "execution_count": null,
   "id": "mV3UL0-fNFsq",
   "metadata": {
    "execution": {}
   },
   "outputs": [
    {
     "name": "stdout",
     "output_type": "stream",
     "text": [
      "(1032, 48, 75)\n"
     ]
    }
   ],
   "source": [
    "print(train_moves.shape)"
   ]
  },
  {
   "cell_type": "markdown",
   "id": "aGNWHN4gT8qW",
   "metadata": {
    "execution": {}
   },
   "source": [
    "Cool!\n",
    "\n",
    "**Joints**:\n",
    "\n",
    "For each movement we have 2 angles from 24 joints. Which joints are these?"
   ]
  },
  {
   "cell_type": "code",
   "execution_count": null,
   "id": "XseMCJ_JUGpv",
   "metadata": {
    "execution": {}
   },
   "outputs": [
    {
     "name": "stdout",
     "output_type": "stream",
     "text": [
      "0: Pelvis\n",
      "1: LeftHip\n",
      "2: RightHip\n",
      "3: Spine1\n",
      "4: LeftKnee\n",
      "5: RightKnee\n",
      "6: Spine2\n",
      "7: LeftAnkle\n",
      "8: RightAnkle\n",
      "9: Spine3\n",
      "10: LeftFoot\n",
      "11: RightFoot\n",
      "12: Neck\n",
      "13: LeftCollar\n",
      "14: RightCollar\n",
      "15: Head\n",
      "16: LeftShoulder\n",
      "17: RightShoulder\n",
      "18: LeftElbow\n",
      "19: RightElbow\n",
      "20: LeftWrist\n",
      "21: RightWrist\n",
      "22: LeftHand\n",
      "23: RightHand\n"
     ]
    }
   ],
   "source": [
    "for joint_no in range(24):\n",
    "  print(f\"{joint_no}: {joint_names[joint_no]}\")"
   ]
  },
  {
   "cell_type": "markdown",
   "id": "73fNoLe3Nyui",
   "metadata": {
    "execution": {}
   },
   "source": [
    "**Labels**:\n",
    "\n",
    "Let's have a look at the `train_labels` array too:"
   ]
  },
  {
   "cell_type": "code",
   "execution_count": null,
   "id": "wbfDO9YcN8IK",
   "metadata": {
    "execution": {}
   },
   "outputs": [
    {
     "name": "stdout",
     "output_type": "stream",
     "text": [
      "[ 0  1  4 ...  6  2 11]\n",
      "(1032,)\n"
     ]
    }
   ],
   "source": [
    "print(train_labels)\n",
    "print(train_labels.shape)"
   ]
  },
  {
   "cell_type": "markdown",
   "id": "PuIGf6WdNHAn",
   "metadata": {
    "execution": {}
   },
   "source": [
    "The labels are numbers, and there are 1032 of them, so that matches the number of movements in the data set. There are text versions too in the array called `label_names`. Let's have a look. There are supposed to be 14 movement classes.\n",
    "\n"
   ]
  },
  {
   "cell_type": "code",
   "execution_count": null,
   "id": "1z9OibQROznT",
   "metadata": {
    "execution": {}
   },
   "outputs": [
    {
     "name": "stdout",
     "output_type": "stream",
     "text": [
      "[ 0  1  2  3  4  5  6  7  8  9 10 11 12 13]\n",
      "0: crawling\n",
      "1: throw/catch\n",
      "2: walking\n",
      "3: running_in_spot\n",
      "4: cross_legged_sitting\n",
      "5: hand_clapping\n",
      "6: scratching_head\n",
      "7: kicking\n",
      "8: phone_talking\n",
      "9: sitting_down\n",
      "10: checking_watch\n",
      "11: pointing\n",
      "12: hand_waving\n",
      "13: taking_photo\n"
     ]
    }
   ],
   "source": [
    "# let's check the values of the train_labels array:\n",
    "label_numbers = np.unique(train_labels)\n",
    "print(label_numbers)\n",
    "\n",
    "# and use them as indices into the label_names array:\n",
    "for label_no in label_numbers:\n",
    "  print(f\"{label_no}: {label_names[label_no]}\")"
   ]
  },
  {
   "cell_type": "markdown",
   "id": "z3fCrClWP85Z",
   "metadata": {
    "execution": {}
   },
   "source": [
    "The test data set has similar data, but fewer movements. That's ok. What's important is that both the training and test datasets have an even spread of movement types, i.e. we want them to be balanced. Let's see how balanced the data is:"
   ]
  },
  {
   "cell_type": "code",
   "execution_count": null,
   "id": "barhwy9EQ5uI",
   "metadata": {
    "execution": {}
   },
   "outputs": [
    {
     "data": {
      "text/plain": [
       "Counter({0: 74,\n",
       "         1: 74,\n",
       "         2: 73,\n",
       "         3: 73,\n",
       "         4: 73,\n",
       "         5: 73,\n",
       "         6: 74,\n",
       "         7: 74,\n",
       "         8: 74,\n",
       "         9: 74,\n",
       "         10: 74,\n",
       "         11: 74,\n",
       "         12: 74,\n",
       "         13: 74})"
      ]
     },
     "execution_count": 9,
     "metadata": {
      "tags": []
     },
     "output_type": "execute_result"
    }
   ],
   "source": [
    "Counter(train_labels)"
   ]
  },
  {
   "cell_type": "code",
   "execution_count": null,
   "id": "CCJystGFRO3H",
   "metadata": {
    "execution": {}
   },
   "outputs": [
    {
     "data": {
      "text/plain": [
       "Counter({0: 12,\n",
       "         1: 12,\n",
       "         2: 13,\n",
       "         3: 13,\n",
       "         4: 13,\n",
       "         5: 13,\n",
       "         6: 12,\n",
       "         7: 12,\n",
       "         8: 12,\n",
       "         9: 12,\n",
       "         10: 12,\n",
       "         11: 12,\n",
       "         12: 12,\n",
       "         13: 12})"
      ]
     },
     "execution_count": 10,
     "metadata": {
      "tags": []
     },
     "output_type": "execute_result"
    }
   ],
   "source": [
    "Counter(test_labels)"
   ]
  },
  {
   "cell_type": "markdown",
   "id": "uGHra3KuRlBh",
   "metadata": {
    "execution": {}
   },
   "source": [
    "So that looks more or less OK. Movements 2, 3, 4 and 5 occur once more in the training data than the other movements, and one time fewer in the test data. Not perfect, but probably doesn't matter that much."
   ]
  },
  {
   "cell_type": "markdown",
   "id": "rHpiIl1eOupO",
   "metadata": {
    "execution": {}
   },
   "source": [
    "## Model ingredients\n",
    "\n",
    "**\"Mechanisms\"**:\n",
    "\n",
    "* Feature engineering? --> Do we need anything else aside from angular time courses? For now we choose to only use the angular time courses (exponential maps), as our ultimate goal is to see how many joints we need for accurate movement classification so that we can decrease the number of measurements or devices for later work.\n",
    "\n",
    "* Feature selection? --> Which joint movements are most informative? These are related to our research questions and hypotheses, so this project will explicitly investigate which joints are most informative.\n",
    "\n",
    "* Feature grouping? --> Instead of trying all possible combinations of joints (very many) we could focus on limbs, by grouping joints. We could also try the model on individual joints.\n",
    "\n",
    "* Classifier? --> For our classifier we would like to keep it as simple as possible, but we will decide later.\n",
    "\n",
    "* Input? --> The training data (movements and labels) will be used to train the classifier.\n",
    "\n",
    "* Output? --> The test data will be used as input for the trained model and we will see if the predicted labels are the same as the actual labels."
   ]
  },
  {
   "cell_type": "markdown",
   "id": "single-server",
   "metadata": {
    "execution": {}
   },
   "source": [
    "---\n",
    "# Step 4: hypotheses\n",
    "Since humans can easily distinguish different movement types from video data and also more abstract \"stick figures\", a DL model should also be able to do so. Therefore, our hypotheses are more detailed with respect to parameters influencing model performance (and not just whether it will work or not). \n",
    "\n",
    "Remember, we're interested in seeing how many joints are needed for classification. So we could hypothezise (Hypothesis 1) that arm and leg motions are sufficient for classification (meaning: head and torso data is not needed).\n",
    "\n",
    "* Hypothesis 1: The performance of a model with four limbs plus torso and head is not higher than the performance of a model with only limbs.\n",
    "\n",
    "We could also hypothesize that data from only one side of the body is sufficient (Hypothesis 2), e.g. the right side, since our participants are right handed.\n",
    "\n",
    "* Hypothesis 2: A model using only joints in the right arm will outperform a model using only the joints in the left arm.\n",
    "\n",
    "Writing those in mathematical terms:\n",
    "* Hypothesis 1: $\\mathbb{E}(perf_{limbs})>\\mathbb{E}(perf_{torso})$\n",
    "* Hypothesis 2: $\\mathbb{E}(perf_{right arm})>\\mathbb{E}(perf_{left arm})$"
   ]
  },
  {
   "cell_type": "markdown",
   "id": "fantastic-egypt",
   "metadata": {
    "execution": {}
   },
   "source": [
    "---\n",
    "# Step 5: toolkit selection\n",
    "We need a toolkit that can deal with time-varying data as input (e.g. 1d convnet, LSTM, transformer...). We want to keep it as simple as possible to start with. So let's run with a 1d convnet. It allows us to answer our question, it will be able to speak to our hypotheses, and hopefully we can achieve our goal to see if automatic movement classification based on (sparse) body movement data is possible."
   ]
  },
  {
   "cell_type": "markdown",
   "id": "parental-compensation",
   "metadata": {
    "execution": {}
   },
   "source": [
    "---\n",
    "# Step 6: model drafting\n",
    "Here is our sketch of the model we wanted to build...\n",
    "\n",
    "<p align='center'><img src='https://github.com/NeuromatchAcademy/course-content-dl/blob/main/projects/static/DL_model_schematic.jpg?raw=True'/></p>"
   ]
  },
  {
   "cell_type": "markdown",
   "id": "animated-string",
   "metadata": {
    "execution": {}
   },
   "source": [
    "---\n",
    "# Step 7: model implementation\n",
    "\n",
    "It's finally time to write some deep learning code... so here we go!"
   ]
  },
  {
   "cell_type": "markdown",
   "id": "pharmaceutical-heater",
   "metadata": {
    "execution": {}
   },
   "source": [
    "The cell below creates an object class, and is based on https://pytorch.org/tutorials/beginner/basics/data_tutorial.html on the PyTorch website, adapted to work with our data.\n",
    "\n",
    "It is based on the `Dataset` object class in PyTorch and this is needed to set up a `Dataloader` object that will be used in the model.\n",
    "\n",
    "We can tell our dataset object to use the training or test data. We can also tell it which joints to return, so that we can build models that classify movements based on different sets of joints:"
   ]
  },
  {
   "cell_type": "code",
   "execution_count": null,
   "id": "gDhgbCPKV31p",
   "metadata": {
    "execution": {}
   },
   "outputs": [],
   "source": [
    "class MoViJointDataset(Dataset):\n",
    "  \"\"\"MoVi dataset.\"\"\"\n",
    "\n",
    "  def __init__(self, train=True, joints=list(range(24))):\n",
    "    \"\"\"\n",
    "    Args:\n",
    "      train (boolean): Use the training data, or otherwise the test data.\n",
    "      joints (list): Indices of joints to return.\n",
    "    \"\"\"\n",
    "\n",
    "    # select the training or test data:\n",
    "    if train:\n",
    "      self.moves = train_moves\n",
    "      self.labels = train_labels\n",
    "    else:\n",
    "      self.moves = test_moves\n",
    "      self.labels = test_labels\n",
    "\n",
    "    # convert joint indices to channel indices:\n",
    "    joints = np.array(joints)\n",
    "    self.channels = np.sort(list(joints*2)+ list((joints*2)+1)) # 2 channels per joint\n",
    "\n",
    "  def __len__(self):\n",
    "    return self.labels.size\n",
    "\n",
    "  def __getitem__(self, idx):\n",
    "    if torch.is_tensor(idx):\n",
    "      idx = idx.tolist()\n",
    "\n",
    "    sample = (np.float32(np.squeeze(self.moves[idx,self.channels,:])), self.labels[idx])\n",
    "\n",
    "    return sample"
   ]
  },
  {
   "cell_type": "markdown",
   "id": "u5yQ7DlWWWYw",
   "metadata": {
    "execution": {}
   },
   "source": [
    "We want to make sure that this object works the way we intended, so we try it out:"
   ]
  },
  {
   "cell_type": "code",
   "execution_count": null,
   "id": "RO2gen1kW7Nk",
   "metadata": {
    "execution": {}
   },
   "outputs": [
    {
     "name": "stdout",
     "output_type": "stream",
     "text": [
      "TRAINING:\n",
      "1031\n",
      "(48, 75) pointing\n",
      "\n",
      "TESTING:\n",
      "171\n",
      "(6, 75) cross_legged_sitting\n"
     ]
    }
   ],
   "source": [
    "# Create training and test datasets\n",
    "movi_train = MoViJointDataset(train=True)\n",
    "movi_test = MoViJointDataset(train=False, joints=[0,1,2])\n",
    "\n",
    "print('TRAINING:')\n",
    "for idx in range(len(movi_train)):\n",
    "  pass\n",
    "print(idx)\n",
    "print(movi_train[idx][0].shape, label_names[movi_train[idx][1]])\n",
    "print('\\nTESTING:')\n",
    "for idx in range(len(movi_test)):\n",
    "  pass\n",
    "print(idx)\n",
    "print(movi_test[idx][0].shape, label_names[movi_test[idx][1]])"
   ]
  },
  {
   "cell_type": "markdown",
   "id": "DAjuDR1wY_mI",
   "metadata": {
    "execution": {}
   },
   "source": [
    "So we see the movement number (minus 1), the shape of the dataset (e.g. 48 channels and 75 time points for the training set), and the name of the movement."
   ]
  },
  {
   "cell_type": "markdown",
   "id": "engaged-equality",
   "metadata": {
    "execution": {}
   },
   "source": [
    "## Build model\n",
    "pytorch expects as input not a single sample, but rather a minibatch of B samples stacked together along the \"minibatch dimension\".\n",
    "So a \"1D\" CNN in pytorch expects a 3D tensor as input: BxCxT\n",
    "\n",
    "- **B:** batch size (however many examples are used in batch training)\n",
    "- **C:** channels (up to 24 joints x 2 coordinates)\n",
    "- **T:** timepoints (75 in our case)\n",
    "\n",
    "We need `Dataloader` objects that use our `MoViJointDataset` objects to do this. For this we can simply use PyTorch `Dataloader` objects, but it also needs one of our hyperparameters (batch size) to be set:"
   ]
  },
  {
   "cell_type": "code",
   "execution_count": null,
   "id": "-FhReTdFXzob",
   "metadata": {
    "execution": {}
   },
   "outputs": [],
   "source": [
    "# Hyperparameters\n",
    "num_epochs = 500\n",
    "num_classes = 14 # is this ever used?\n",
    "batch_size = 516\n",
    "learning_rate = 0.001\n",
    "\n",
    "# Create training and test datasets\n",
    "movi_train = MoViJointDataset(train = True)\n",
    "movi_test  = MoViJointDataset(train = False)\n",
    "\n",
    "# Data loader\n",
    "train_loader = DataLoader(dataset=movi_train, batch_size=batch_size, shuffle=True)\n",
    "test_loader  = DataLoader(dataset=movi_test, batch_size=batch_size, shuffle=False)"
   ]
  },
  {
   "cell_type": "markdown",
   "id": "SyQERH4vXz5w",
   "metadata": {
    "execution": {}
   },
   "source": [
    "And we decided to use a simple 1D convnet. We want to specify the number of joints used and then use 2 input channels for every joint (2 dimensions of rotation). At the end of the convnet there are 14 probabilities, 1 for each class of movement, but we convert it to give the index of the highest probability."
   ]
  },
  {
   "cell_type": "code",
   "execution_count": null,
   "id": "MxwaPvBtX0QZ",
   "metadata": {
    "execution": {}
   },
   "outputs": [],
   "source": [
    "class Mov1DCNN(nn.Module):\n",
    "  def __init__(self, njoints=24):\n",
    "\n",
    "    super(Mov1DCNN, self).__init__()\n",
    "\n",
    "    self.layer1 = nn.Sequential(\n",
    "      nn.Conv1d(in_channels=njoints*2, out_channels=56, kernel_size=5, stride=2),\n",
    "      nn.ReLU(),\n",
    "      nn.MaxPool1d(kernel_size=2, stride=2))\n",
    "\n",
    "    self.layer2 = nn.Sequential(\n",
    "      nn.Conv1d(in_channels=56, out_channels=14, kernel_size=1),\n",
    "      nn.ReLU(),\n",
    "      nn.MaxPool1d(kernel_size=2, stride=2))\n",
    "\n",
    "    self.dropout1 = nn.Dropout(p=0.2)\n",
    "    self.fc1 = nn.Linear(126, 2200)  # fix dimensions\n",
    "    self.nl = nn.ReLU()\n",
    "    self.dropout2 = nn.Dropout(p=0.2)\n",
    "    self.fc2 = nn.Linear(2200, 14)\n",
    "\n",
    "  def forward(self, x):\n",
    "    out = self.layer1(x)\n",
    "    out = self.layer2(out)\n",
    "\n",
    "    out = out.reshape(out.size(0), -1)\n",
    "    out = self.dropout1(out)\n",
    "    out = self.fc1(out)\n",
    "    out = self.nl(out)\n",
    "    out = self.dropout2(out)\n",
    "    out = self.fc2(out)\n",
    "    # pick the most likely class:\n",
    "    out = nn.functional.log_softmax(out, dim=1)\n",
    "\n",
    "    return out"
   ]
  },
  {
   "cell_type": "markdown",
   "id": "EVbl_vZhZiNE",
   "metadata": {
    "execution": {}
   },
   "source": [
    "We can now instantiate the model object, with _all_ joints, and set a criterion and optimizer: "
   ]
  },
  {
   "cell_type": "code",
   "execution_count": null,
   "id": "A9bjZkdFZm2c",
   "metadata": {
    "execution": {}
   },
   "outputs": [],
   "source": [
    "### ADDING GPU ###\n",
    "device = \"cuda\" if torch.cuda.is_available() else \"cpu\"\n",
    "\n",
    "# create the model object:\n",
    "model = Mov1DCNN(njoints=24).to(device)\n",
    "\n",
    "# loss and optimizer:\n",
    "criterion = nn.CrossEntropyLoss()\n",
    "optimizer = torch.optim.Adam(model.parameters(), lr=learning_rate)"
   ]
  },
  {
   "cell_type": "markdown",
   "id": "OqNJJOcyaNUr",
   "metadata": {
    "execution": {}
   },
   "source": [
    "And now we are ready to train this model.\n",
    "\n",
    "**This takes up to ~20 seconds!**"
   ]
  },
  {
   "cell_type": "code",
   "execution_count": null,
   "id": "icuFDR1naP_P",
   "metadata": {
    "execution": {}
   },
   "outputs": [
    {
     "name": "stderr",
     "output_type": "stream",
     "text": [
      "/usr/local/lib/python3.7/dist-packages/torch/nn/functional.py:652: UserWarning: Named tensors and all their associated APIs are an experimental feature and subject to change. Please do not use them for anything important until they are released as stable. (Triggered internally at  /pytorch/c10/core/TensorImpl.h:1156.)\n",
      "  return torch.max_pool1d(input, kernel_size, stride, padding, dilation, ceil_mode)\n"
     ]
    },
    {
     "name": "stdout",
     "output_type": "stream",
     "text": [
      "Epoch [1/500], Step [2/2], Loss: 2.6505, Accuracy: 4.46%\n",
      "Epoch [2/500], Step [2/2], Loss: 2.6382, Accuracy: 8.91%\n",
      "Epoch [3/500], Step [2/2], Loss: 2.6396, Accuracy: 7.36%\n",
      "Epoch [4/500], Step [2/2], Loss: 2.6363, Accuracy: 8.14%\n",
      "Epoch [5/500], Step [2/2], Loss: 2.6351, Accuracy: 5.43%\n",
      "Epoch [6/500], Step [2/2], Loss: 2.6329, Accuracy: 10.47%\n",
      "Epoch [7/500], Step [2/2], Loss: 2.6274, Accuracy: 13.76%\n",
      "Epoch [8/500], Step [2/2], Loss: 2.6245, Accuracy: 12.60%\n",
      "Epoch [9/500], Step [2/2], Loss: 2.6130, Accuracy: 16.47%\n",
      "Epoch [10/500], Step [2/2], Loss: 2.6062, Accuracy: 17.25%\n",
      "Epoch [11/500], Step [2/2], Loss: 2.5922, Accuracy: 15.31%\n",
      "Epoch [12/500], Step [2/2], Loss: 2.5787, Accuracy: 21.90%\n",
      "Epoch [13/500], Step [2/2], Loss: 2.5623, Accuracy: 11.05%\n",
      "Epoch [14/500], Step [2/2], Loss: 2.5480, Accuracy: 11.82%\n",
      "Epoch [15/500], Step [2/2], Loss: 2.5060, Accuracy: 19.57%\n",
      "Epoch [16/500], Step [2/2], Loss: 2.4501, Accuracy: 28.29%\n",
      "Epoch [17/500], Step [2/2], Loss: 2.4089, Accuracy: 37.98%\n",
      "Epoch [18/500], Step [2/2], Loss: 2.3845, Accuracy: 25.00%\n",
      "Epoch [19/500], Step [2/2], Loss: 2.3122, Accuracy: 29.65%\n",
      "Epoch [20/500], Step [2/2], Loss: 2.2422, Accuracy: 32.95%\n",
      "Epoch [21/500], Step [2/2], Loss: 2.1780, Accuracy: 33.33%\n",
      "Epoch [22/500], Step [2/2], Loss: 2.1709, Accuracy: 31.01%\n",
      "Epoch [23/500], Step [2/2], Loss: 2.1368, Accuracy: 27.33%\n",
      "Epoch [24/500], Step [2/2], Loss: 2.0263, Accuracy: 39.15%\n",
      "Epoch [25/500], Step [2/2], Loss: 1.9624, Accuracy: 43.99%\n",
      "Epoch [26/500], Step [2/2], Loss: 1.9263, Accuracy: 40.70%\n",
      "Epoch [27/500], Step [2/2], Loss: 1.9015, Accuracy: 43.80%\n",
      "Epoch [28/500], Step [2/2], Loss: 1.8351, Accuracy: 41.86%\n",
      "Epoch [29/500], Step [2/2], Loss: 1.8429, Accuracy: 44.19%\n",
      "Epoch [30/500], Step [2/2], Loss: 1.7547, Accuracy: 44.19%\n",
      "Epoch [31/500], Step [2/2], Loss: 1.6685, Accuracy: 54.65%\n",
      "Epoch [32/500], Step [2/2], Loss: 1.6926, Accuracy: 47.29%\n",
      "Epoch [33/500], Step [2/2], Loss: 1.6715, Accuracy: 50.39%\n",
      "Epoch [34/500], Step [2/2], Loss: 1.7366, Accuracy: 38.57%\n",
      "Epoch [35/500], Step [2/2], Loss: 1.5902, Accuracy: 48.64%\n",
      "Epoch [36/500], Step [2/2], Loss: 1.6019, Accuracy: 46.12%\n",
      "Epoch [37/500], Step [2/2], Loss: 1.5913, Accuracy: 44.38%\n",
      "Epoch [38/500], Step [2/2], Loss: 1.5781, Accuracy: 47.09%\n",
      "Epoch [39/500], Step [2/2], Loss: 1.5969, Accuracy: 46.71%\n",
      "Epoch [40/500], Step [2/2], Loss: 1.5159, Accuracy: 50.78%\n",
      "Epoch [41/500], Step [2/2], Loss: 1.4991, Accuracy: 47.29%\n",
      "Epoch [42/500], Step [2/2], Loss: 1.4794, Accuracy: 48.45%\n",
      "Epoch [43/500], Step [2/2], Loss: 1.4362, Accuracy: 55.23%\n",
      "Epoch [44/500], Step [2/2], Loss: 1.4122, Accuracy: 53.68%\n",
      "Epoch [45/500], Step [2/2], Loss: 1.4627, Accuracy: 51.36%\n",
      "Epoch [46/500], Step [2/2], Loss: 1.3716, Accuracy: 57.95%\n",
      "Epoch [47/500], Step [2/2], Loss: 1.3499, Accuracy: 57.95%\n",
      "Epoch [48/500], Step [2/2], Loss: 1.3325, Accuracy: 57.36%\n",
      "Epoch [49/500], Step [2/2], Loss: 1.3495, Accuracy: 56.78%\n",
      "Epoch [50/500], Step [2/2], Loss: 1.3302, Accuracy: 58.53%\n",
      "Epoch [51/500], Step [2/2], Loss: 1.3170, Accuracy: 58.53%\n",
      "Epoch [52/500], Step [2/2], Loss: 1.2270, Accuracy: 62.60%\n",
      "Epoch [53/500], Step [2/2], Loss: 1.2996, Accuracy: 53.88%\n",
      "Epoch [54/500], Step [2/2], Loss: 1.2623, Accuracy: 58.33%\n",
      "Epoch [55/500], Step [2/2], Loss: 1.3063, Accuracy: 55.43%\n",
      "Epoch [56/500], Step [2/2], Loss: 1.2633, Accuracy: 57.95%\n",
      "Epoch [57/500], Step [2/2], Loss: 1.2133, Accuracy: 58.14%\n",
      "Epoch [58/500], Step [2/2], Loss: 1.2348, Accuracy: 62.21%\n",
      "Epoch [59/500], Step [2/2], Loss: 1.2033, Accuracy: 60.27%\n",
      "Epoch [60/500], Step [2/2], Loss: 1.2292, Accuracy: 59.50%\n",
      "Epoch [61/500], Step [2/2], Loss: 1.1610, Accuracy: 63.18%\n",
      "Epoch [62/500], Step [2/2], Loss: 1.1353, Accuracy: 63.76%\n",
      "Epoch [63/500], Step [2/2], Loss: 1.1440, Accuracy: 61.24%\n",
      "Epoch [64/500], Step [2/2], Loss: 1.1031, Accuracy: 65.50%\n",
      "Epoch [65/500], Step [2/2], Loss: 1.1210, Accuracy: 61.63%\n",
      "Epoch [66/500], Step [2/2], Loss: 1.1432, Accuracy: 58.53%\n",
      "Epoch [67/500], Step [2/2], Loss: 1.1696, Accuracy: 59.50%\n",
      "Epoch [68/500], Step [2/2], Loss: 1.1360, Accuracy: 64.53%\n",
      "Epoch [69/500], Step [2/2], Loss: 1.0570, Accuracy: 67.83%\n",
      "Epoch [70/500], Step [2/2], Loss: 1.0806, Accuracy: 66.09%\n",
      "Epoch [71/500], Step [2/2], Loss: 1.1244, Accuracy: 63.18%\n",
      "Epoch [72/500], Step [2/2], Loss: 1.0474, Accuracy: 63.37%\n",
      "Epoch [73/500], Step [2/2], Loss: 1.0555, Accuracy: 65.70%\n",
      "Epoch [74/500], Step [2/2], Loss: 1.1086, Accuracy: 59.69%\n",
      "Epoch [75/500], Step [2/2], Loss: 1.0268, Accuracy: 64.92%\n",
      "Epoch [76/500], Step [2/2], Loss: 1.1003, Accuracy: 61.24%\n",
      "Epoch [77/500], Step [2/2], Loss: 1.0152, Accuracy: 65.89%\n",
      "Epoch [78/500], Step [2/2], Loss: 1.0681, Accuracy: 59.69%\n",
      "Epoch [79/500], Step [2/2], Loss: 1.0519, Accuracy: 65.31%\n",
      "Epoch [80/500], Step [2/2], Loss: 1.1390, Accuracy: 57.36%\n",
      "Epoch [81/500], Step [2/2], Loss: 1.0731, Accuracy: 63.37%\n",
      "Epoch [82/500], Step [2/2], Loss: 0.9827, Accuracy: 66.09%\n",
      "Epoch [83/500], Step [2/2], Loss: 1.0034, Accuracy: 65.89%\n",
      "Epoch [84/500], Step [2/2], Loss: 1.0193, Accuracy: 67.44%\n",
      "Epoch [85/500], Step [2/2], Loss: 1.0295, Accuracy: 65.31%\n",
      "Epoch [86/500], Step [2/2], Loss: 1.0997, Accuracy: 60.08%\n",
      "Epoch [87/500], Step [2/2], Loss: 1.0480, Accuracy: 65.89%\n",
      "Epoch [88/500], Step [2/2], Loss: 1.0819, Accuracy: 63.37%\n",
      "Epoch [89/500], Step [2/2], Loss: 1.0514, Accuracy: 62.40%\n",
      "Epoch [90/500], Step [2/2], Loss: 0.9856, Accuracy: 64.92%\n",
      "Epoch [91/500], Step [2/2], Loss: 0.9854, Accuracy: 66.28%\n",
      "Epoch [92/500], Step [2/2], Loss: 0.9413, Accuracy: 65.50%\n",
      "Epoch [93/500], Step [2/2], Loss: 0.8963, Accuracy: 69.38%\n",
      "Epoch [94/500], Step [2/2], Loss: 0.9861, Accuracy: 67.83%\n",
      "Epoch [95/500], Step [2/2], Loss: 0.8729, Accuracy: 69.77%\n",
      "Epoch [96/500], Step [2/2], Loss: 0.9679, Accuracy: 67.05%\n",
      "Epoch [97/500], Step [2/2], Loss: 0.9952, Accuracy: 65.50%\n",
      "Epoch [98/500], Step [2/2], Loss: 0.8866, Accuracy: 70.54%\n",
      "Epoch [99/500], Step [2/2], Loss: 0.9428, Accuracy: 68.02%\n",
      "Epoch [100/500], Step [2/2], Loss: 0.9191, Accuracy: 66.28%\n",
      "Epoch [101/500], Step [2/2], Loss: 0.9253, Accuracy: 70.93%\n",
      "Epoch [102/500], Step [2/2], Loss: 0.9408, Accuracy: 67.25%\n",
      "Epoch [103/500], Step [2/2], Loss: 0.9200, Accuracy: 66.47%\n",
      "Epoch [104/500], Step [2/2], Loss: 0.8726, Accuracy: 67.05%\n",
      "Epoch [105/500], Step [2/2], Loss: 0.9042, Accuracy: 67.25%\n",
      "Epoch [106/500], Step [2/2], Loss: 0.9425, Accuracy: 67.83%\n",
      "Epoch [107/500], Step [2/2], Loss: 0.9291, Accuracy: 68.22%\n",
      "Epoch [108/500], Step [2/2], Loss: 0.8744, Accuracy: 67.25%\n",
      "Epoch [109/500], Step [2/2], Loss: 0.9338, Accuracy: 65.31%\n",
      "Epoch [110/500], Step [2/2], Loss: 0.9152, Accuracy: 69.19%\n",
      "Epoch [111/500], Step [2/2], Loss: 0.9031, Accuracy: 67.05%\n",
      "Epoch [112/500], Step [2/2], Loss: 0.8539, Accuracy: 69.57%\n",
      "Epoch [113/500], Step [2/2], Loss: 0.8460, Accuracy: 70.16%\n",
      "Epoch [114/500], Step [2/2], Loss: 0.8462, Accuracy: 70.74%\n",
      "Epoch [115/500], Step [2/2], Loss: 0.8421, Accuracy: 70.35%\n",
      "Epoch [116/500], Step [2/2], Loss: 0.8717, Accuracy: 70.35%\n",
      "Epoch [117/500], Step [2/2], Loss: 0.8656, Accuracy: 69.77%\n",
      "Epoch [118/500], Step [2/2], Loss: 0.8454, Accuracy: 73.84%\n",
      "Epoch [119/500], Step [2/2], Loss: 0.8246, Accuracy: 71.12%\n",
      "Epoch [120/500], Step [2/2], Loss: 0.8323, Accuracy: 70.16%\n",
      "Epoch [121/500], Step [2/2], Loss: 0.8472, Accuracy: 70.93%\n",
      "Epoch [122/500], Step [2/2], Loss: 0.7900, Accuracy: 72.87%\n",
      "Epoch [123/500], Step [2/2], Loss: 0.7826, Accuracy: 72.09%\n",
      "Epoch [124/500], Step [2/2], Loss: 0.7482, Accuracy: 75.19%\n",
      "Epoch [125/500], Step [2/2], Loss: 0.8078, Accuracy: 71.32%\n",
      "Epoch [126/500], Step [2/2], Loss: 0.7659, Accuracy: 73.84%\n",
      "Epoch [127/500], Step [2/2], Loss: 0.8385, Accuracy: 72.48%\n",
      "Epoch [128/500], Step [2/2], Loss: 0.7594, Accuracy: 71.90%\n",
      "Epoch [129/500], Step [2/2], Loss: 0.9145, Accuracy: 66.09%\n",
      "Epoch [130/500], Step [2/2], Loss: 0.8725, Accuracy: 69.96%\n",
      "Epoch [131/500], Step [2/2], Loss: 0.7671, Accuracy: 74.81%\n",
      "Epoch [132/500], Step [2/2], Loss: 0.8716, Accuracy: 68.99%\n",
      "Epoch [133/500], Step [2/2], Loss: 0.8510, Accuracy: 69.57%\n",
      "Epoch [134/500], Step [2/2], Loss: 0.7862, Accuracy: 72.09%\n",
      "Epoch [135/500], Step [2/2], Loss: 0.8241, Accuracy: 70.54%\n",
      "Epoch [136/500], Step [2/2], Loss: 0.7756, Accuracy: 74.22%\n",
      "Epoch [137/500], Step [2/2], Loss: 0.8241, Accuracy: 74.22%\n",
      "Epoch [138/500], Step [2/2], Loss: 0.7745, Accuracy: 73.45%\n",
      "Epoch [139/500], Step [2/2], Loss: 0.8051, Accuracy: 73.06%\n",
      "Epoch [140/500], Step [2/2], Loss: 0.7551, Accuracy: 71.51%\n",
      "Epoch [141/500], Step [2/2], Loss: 0.8062, Accuracy: 71.51%\n",
      "Epoch [142/500], Step [2/2], Loss: 0.7697, Accuracy: 74.22%\n",
      "Epoch [143/500], Step [2/2], Loss: 0.7907, Accuracy: 72.87%\n",
      "Epoch [144/500], Step [2/2], Loss: 0.8201, Accuracy: 69.57%\n",
      "Epoch [145/500], Step [2/2], Loss: 0.7915, Accuracy: 74.61%\n",
      "Epoch [146/500], Step [2/2], Loss: 0.7723, Accuracy: 75.58%\n",
      "Epoch [147/500], Step [2/2], Loss: 0.7939, Accuracy: 70.74%\n",
      "Epoch [148/500], Step [2/2], Loss: 0.8370, Accuracy: 69.77%\n",
      "Epoch [149/500], Step [2/2], Loss: 0.7910, Accuracy: 75.39%\n",
      "Epoch [150/500], Step [2/2], Loss: 0.7835, Accuracy: 71.90%\n",
      "Epoch [151/500], Step [2/2], Loss: 0.7450, Accuracy: 73.84%\n",
      "Epoch [152/500], Step [2/2], Loss: 0.7685, Accuracy: 72.87%\n",
      "Epoch [153/500], Step [2/2], Loss: 0.8764, Accuracy: 67.25%\n",
      "Epoch [154/500], Step [2/2], Loss: 0.7746, Accuracy: 70.54%\n",
      "Epoch [155/500], Step [2/2], Loss: 0.7817, Accuracy: 74.03%\n",
      "Epoch [156/500], Step [2/2], Loss: 0.7983, Accuracy: 69.77%\n",
      "Epoch [157/500], Step [2/2], Loss: 0.7641, Accuracy: 75.78%\n",
      "Epoch [158/500], Step [2/2], Loss: 0.7312, Accuracy: 74.81%\n",
      "Epoch [159/500], Step [2/2], Loss: 0.7360, Accuracy: 75.78%\n",
      "Epoch [160/500], Step [2/2], Loss: 0.8804, Accuracy: 68.41%\n",
      "Epoch [161/500], Step [2/2], Loss: 0.7431, Accuracy: 72.48%\n",
      "Epoch [162/500], Step [2/2], Loss: 0.7376, Accuracy: 73.84%\n",
      "Epoch [163/500], Step [2/2], Loss: 0.7181, Accuracy: 73.26%\n",
      "Epoch [164/500], Step [2/2], Loss: 0.7279, Accuracy: 74.03%\n",
      "Epoch [165/500], Step [2/2], Loss: 0.6866, Accuracy: 75.97%\n",
      "Epoch [166/500], Step [2/2], Loss: 0.7054, Accuracy: 75.97%\n",
      "Epoch [167/500], Step [2/2], Loss: 0.7461, Accuracy: 74.81%\n",
      "Epoch [168/500], Step [2/2], Loss: 0.7438, Accuracy: 74.42%\n",
      "Epoch [169/500], Step [2/2], Loss: 0.7675, Accuracy: 74.22%\n",
      "Epoch [170/500], Step [2/2], Loss: 0.7743, Accuracy: 73.45%\n",
      "Epoch [171/500], Step [2/2], Loss: 0.7784, Accuracy: 70.35%\n",
      "Epoch [172/500], Step [2/2], Loss: 0.7990, Accuracy: 70.74%\n",
      "Epoch [173/500], Step [2/2], Loss: 0.7856, Accuracy: 73.84%\n",
      "Epoch [174/500], Step [2/2], Loss: 0.7568, Accuracy: 74.03%\n",
      "Epoch [175/500], Step [2/2], Loss: 0.7004, Accuracy: 78.88%\n",
      "Epoch [176/500], Step [2/2], Loss: 0.6932, Accuracy: 76.16%\n",
      "Epoch [177/500], Step [2/2], Loss: 0.6621, Accuracy: 75.97%\n",
      "Epoch [178/500], Step [2/2], Loss: 0.7178, Accuracy: 73.84%\n",
      "Epoch [179/500], Step [2/2], Loss: 0.6719, Accuracy: 76.74%\n",
      "Epoch [180/500], Step [2/2], Loss: 0.7380, Accuracy: 73.45%\n",
      "Epoch [181/500], Step [2/2], Loss: 0.6830, Accuracy: 75.19%\n",
      "Epoch [182/500], Step [2/2], Loss: 0.8023, Accuracy: 70.16%\n",
      "Epoch [183/500], Step [2/2], Loss: 0.8535, Accuracy: 69.38%\n",
      "Epoch [184/500], Step [2/2], Loss: 0.7482, Accuracy: 73.84%\n",
      "Epoch [185/500], Step [2/2], Loss: 0.7013, Accuracy: 76.94%\n",
      "Epoch [186/500], Step [2/2], Loss: 0.7223, Accuracy: 73.84%\n",
      "Epoch [187/500], Step [2/2], Loss: 0.7054, Accuracy: 75.78%\n",
      "Epoch [188/500], Step [2/2], Loss: 0.6824, Accuracy: 78.29%\n",
      "Epoch [189/500], Step [2/2], Loss: 0.6994, Accuracy: 73.84%\n",
      "Epoch [190/500], Step [2/2], Loss: 0.6666, Accuracy: 77.13%\n",
      "Epoch [191/500], Step [2/2], Loss: 0.7521, Accuracy: 73.26%\n",
      "Epoch [192/500], Step [2/2], Loss: 0.7644, Accuracy: 73.64%\n",
      "Epoch [193/500], Step [2/2], Loss: 0.7373, Accuracy: 74.22%\n",
      "Epoch [194/500], Step [2/2], Loss: 0.6731, Accuracy: 77.52%\n",
      "Epoch [195/500], Step [2/2], Loss: 0.7925, Accuracy: 69.77%\n",
      "Epoch [196/500], Step [2/2], Loss: 0.6802, Accuracy: 78.49%\n",
      "Epoch [197/500], Step [2/2], Loss: 0.6860, Accuracy: 76.36%\n",
      "Epoch [198/500], Step [2/2], Loss: 0.6043, Accuracy: 80.81%\n",
      "Epoch [199/500], Step [2/2], Loss: 0.6087, Accuracy: 80.43%\n",
      "Epoch [200/500], Step [2/2], Loss: 0.7031, Accuracy: 76.36%\n",
      "Epoch [201/500], Step [2/2], Loss: 0.6409, Accuracy: 77.52%\n",
      "Epoch [202/500], Step [2/2], Loss: 0.6500, Accuracy: 78.29%\n",
      "Epoch [203/500], Step [2/2], Loss: 0.6546, Accuracy: 79.07%\n",
      "Epoch [204/500], Step [2/2], Loss: 0.6510, Accuracy: 76.94%\n",
      "Epoch [205/500], Step [2/2], Loss: 0.7203, Accuracy: 74.81%\n",
      "Epoch [206/500], Step [2/2], Loss: 0.6956, Accuracy: 75.19%\n",
      "Epoch [207/500], Step [2/2], Loss: 0.7094, Accuracy: 75.39%\n",
      "Epoch [208/500], Step [2/2], Loss: 0.6579, Accuracy: 78.68%\n",
      "Epoch [209/500], Step [2/2], Loss: 0.6359, Accuracy: 78.49%\n",
      "Epoch [210/500], Step [2/2], Loss: 0.6334, Accuracy: 78.49%\n",
      "Epoch [211/500], Step [2/2], Loss: 0.6268, Accuracy: 80.04%\n",
      "Epoch [212/500], Step [2/2], Loss: 0.6140, Accuracy: 78.49%\n",
      "Epoch [213/500], Step [2/2], Loss: 0.6496, Accuracy: 76.74%\n",
      "Epoch [214/500], Step [2/2], Loss: 0.6869, Accuracy: 78.88%\n",
      "Epoch [215/500], Step [2/2], Loss: 0.6559, Accuracy: 77.52%\n",
      "Epoch [216/500], Step [2/2], Loss: 0.6742, Accuracy: 77.13%\n",
      "Epoch [217/500], Step [2/2], Loss: 0.6712, Accuracy: 79.07%\n",
      "Epoch [218/500], Step [2/2], Loss: 0.6940, Accuracy: 76.36%\n",
      "Epoch [219/500], Step [2/2], Loss: 0.6358, Accuracy: 78.68%\n",
      "Epoch [220/500], Step [2/2], Loss: 0.6774, Accuracy: 78.10%\n",
      "Epoch [221/500], Step [2/2], Loss: 0.6558, Accuracy: 76.74%\n",
      "Epoch [222/500], Step [2/2], Loss: 0.6440, Accuracy: 78.10%\n",
      "Epoch [223/500], Step [2/2], Loss: 0.6599, Accuracy: 78.68%\n",
      "Epoch [224/500], Step [2/2], Loss: 0.6544, Accuracy: 78.10%\n",
      "Epoch [225/500], Step [2/2], Loss: 0.6538, Accuracy: 77.33%\n",
      "Epoch [226/500], Step [2/2], Loss: 0.6300, Accuracy: 77.13%\n",
      "Epoch [227/500], Step [2/2], Loss: 0.6212, Accuracy: 80.23%\n",
      "Epoch [228/500], Step [2/2], Loss: 0.6214, Accuracy: 80.43%\n",
      "Epoch [229/500], Step [2/2], Loss: 0.5885, Accuracy: 79.07%\n",
      "Epoch [230/500], Step [2/2], Loss: 0.6265, Accuracy: 79.84%\n",
      "Epoch [231/500], Step [2/2], Loss: 0.5582, Accuracy: 79.26%\n",
      "Epoch [232/500], Step [2/2], Loss: 0.6478, Accuracy: 77.71%\n",
      "Epoch [233/500], Step [2/2], Loss: 0.6430, Accuracy: 76.36%\n",
      "Epoch [234/500], Step [2/2], Loss: 0.6565, Accuracy: 75.78%\n",
      "Epoch [235/500], Step [2/2], Loss: 0.6343, Accuracy: 76.94%\n",
      "Epoch [236/500], Step [2/2], Loss: 0.6065, Accuracy: 78.49%\n",
      "Epoch [237/500], Step [2/2], Loss: 0.5915, Accuracy: 80.62%\n",
      "Epoch [238/500], Step [2/2], Loss: 0.5722, Accuracy: 81.20%\n",
      "Epoch [239/500], Step [2/2], Loss: 0.6055, Accuracy: 78.10%\n",
      "Epoch [240/500], Step [2/2], Loss: 0.6258, Accuracy: 80.43%\n",
      "Epoch [241/500], Step [2/2], Loss: 0.5908, Accuracy: 81.01%\n",
      "Epoch [242/500], Step [2/2], Loss: 0.5818, Accuracy: 79.84%\n",
      "Epoch [243/500], Step [2/2], Loss: 0.5791, Accuracy: 81.78%\n",
      "Epoch [244/500], Step [2/2], Loss: 0.6068, Accuracy: 79.46%\n",
      "Epoch [245/500], Step [2/2], Loss: 0.5975, Accuracy: 79.65%\n",
      "Epoch [246/500], Step [2/2], Loss: 0.5791, Accuracy: 81.40%\n",
      "Epoch [247/500], Step [2/2], Loss: 0.6048, Accuracy: 79.26%\n",
      "Epoch [248/500], Step [2/2], Loss: 0.6237, Accuracy: 80.04%\n",
      "Epoch [249/500], Step [2/2], Loss: 0.6329, Accuracy: 77.71%\n",
      "Epoch [250/500], Step [2/2], Loss: 0.6198, Accuracy: 78.68%\n",
      "Epoch [251/500], Step [2/2], Loss: 0.5615, Accuracy: 80.62%\n",
      "Epoch [252/500], Step [2/2], Loss: 0.5569, Accuracy: 81.40%\n",
      "Epoch [253/500], Step [2/2], Loss: 0.5906, Accuracy: 78.68%\n",
      "Epoch [254/500], Step [2/2], Loss: 0.6202, Accuracy: 77.71%\n",
      "Epoch [255/500], Step [2/2], Loss: 0.6255, Accuracy: 79.07%\n",
      "Epoch [256/500], Step [2/2], Loss: 0.5924, Accuracy: 79.84%\n",
      "Epoch [257/500], Step [2/2], Loss: 0.6132, Accuracy: 77.71%\n",
      "Epoch [258/500], Step [2/2], Loss: 0.6271, Accuracy: 79.84%\n",
      "Epoch [259/500], Step [2/2], Loss: 0.5682, Accuracy: 80.62%\n",
      "Epoch [260/500], Step [2/2], Loss: 0.5691, Accuracy: 80.81%\n",
      "Epoch [261/500], Step [2/2], Loss: 0.5741, Accuracy: 81.59%\n",
      "Epoch [262/500], Step [2/2], Loss: 0.6069, Accuracy: 79.07%\n",
      "Epoch [263/500], Step [2/2], Loss: 0.5493, Accuracy: 79.65%\n",
      "Epoch [264/500], Step [2/2], Loss: 0.5592, Accuracy: 80.62%\n",
      "Epoch [265/500], Step [2/2], Loss: 0.6030, Accuracy: 80.81%\n",
      "Epoch [266/500], Step [2/2], Loss: 0.5582, Accuracy: 80.81%\n",
      "Epoch [267/500], Step [2/2], Loss: 0.5759, Accuracy: 79.84%\n",
      "Epoch [268/500], Step [2/2], Loss: 0.5864, Accuracy: 79.65%\n",
      "Epoch [269/500], Step [2/2], Loss: 0.6161, Accuracy: 77.91%\n",
      "Epoch [270/500], Step [2/2], Loss: 0.6109, Accuracy: 80.62%\n",
      "Epoch [271/500], Step [2/2], Loss: 0.6071, Accuracy: 80.81%\n",
      "Epoch [272/500], Step [2/2], Loss: 0.6838, Accuracy: 74.03%\n",
      "Epoch [273/500], Step [2/2], Loss: 0.6292, Accuracy: 78.49%\n",
      "Epoch [274/500], Step [2/2], Loss: 0.5947, Accuracy: 78.68%\n",
      "Epoch [275/500], Step [2/2], Loss: 0.6005, Accuracy: 78.88%\n",
      "Epoch [276/500], Step [2/2], Loss: 0.5737, Accuracy: 79.84%\n",
      "Epoch [277/500], Step [2/2], Loss: 0.5603, Accuracy: 80.04%\n",
      "Epoch [278/500], Step [2/2], Loss: 0.6649, Accuracy: 77.52%\n",
      "Epoch [279/500], Step [2/2], Loss: 0.5667, Accuracy: 80.81%\n",
      "Epoch [280/500], Step [2/2], Loss: 0.5826, Accuracy: 81.01%\n",
      "Epoch [281/500], Step [2/2], Loss: 0.6249, Accuracy: 78.10%\n",
      "Epoch [282/500], Step [2/2], Loss: 0.5065, Accuracy: 82.17%\n",
      "Epoch [283/500], Step [2/2], Loss: 0.5492, Accuracy: 82.75%\n",
      "Epoch [284/500], Step [2/2], Loss: 0.5711, Accuracy: 80.04%\n",
      "Epoch [285/500], Step [2/2], Loss: 0.5786, Accuracy: 80.23%\n",
      "Epoch [286/500], Step [2/2], Loss: 0.5522, Accuracy: 81.40%\n",
      "Epoch [287/500], Step [2/2], Loss: 0.5978, Accuracy: 80.04%\n",
      "Epoch [288/500], Step [2/2], Loss: 0.5700, Accuracy: 80.23%\n",
      "Epoch [289/500], Step [2/2], Loss: 0.5852, Accuracy: 78.88%\n",
      "Epoch [290/500], Step [2/2], Loss: 0.6025, Accuracy: 80.04%\n",
      "Epoch [291/500], Step [2/2], Loss: 0.6114, Accuracy: 78.29%\n",
      "Epoch [292/500], Step [2/2], Loss: 0.5701, Accuracy: 80.81%\n",
      "Epoch [293/500], Step [2/2], Loss: 0.5789, Accuracy: 79.84%\n",
      "Epoch [294/500], Step [2/2], Loss: 0.5438, Accuracy: 81.98%\n",
      "Epoch [295/500], Step [2/2], Loss: 0.5283, Accuracy: 81.01%\n",
      "Epoch [296/500], Step [2/2], Loss: 0.6115, Accuracy: 75.19%\n",
      "Epoch [297/500], Step [2/2], Loss: 0.5771, Accuracy: 80.81%\n",
      "Epoch [298/500], Step [2/2], Loss: 0.5045, Accuracy: 82.17%\n",
      "Epoch [299/500], Step [2/2], Loss: 0.5518, Accuracy: 81.01%\n",
      "Epoch [300/500], Step [2/2], Loss: 0.5262, Accuracy: 81.01%\n",
      "Epoch [301/500], Step [2/2], Loss: 0.5012, Accuracy: 83.91%\n",
      "Epoch [302/500], Step [2/2], Loss: 0.5300, Accuracy: 82.56%\n",
      "Epoch [303/500], Step [2/2], Loss: 0.5951, Accuracy: 79.07%\n",
      "Epoch [304/500], Step [2/2], Loss: 0.5877, Accuracy: 79.07%\n",
      "Epoch [305/500], Step [2/2], Loss: 0.6010, Accuracy: 78.88%\n",
      "Epoch [306/500], Step [2/2], Loss: 0.5674, Accuracy: 80.62%\n",
      "Epoch [307/500], Step [2/2], Loss: 0.5321, Accuracy: 82.95%\n",
      "Epoch [308/500], Step [2/2], Loss: 0.6043, Accuracy: 77.13%\n",
      "Epoch [309/500], Step [2/2], Loss: 0.5933, Accuracy: 77.71%\n",
      "Epoch [310/500], Step [2/2], Loss: 0.5061, Accuracy: 82.36%\n",
      "Epoch [311/500], Step [2/2], Loss: 0.5699, Accuracy: 80.43%\n",
      "Epoch [312/500], Step [2/2], Loss: 0.4670, Accuracy: 85.08%\n",
      "Epoch [313/500], Step [2/2], Loss: 0.5053, Accuracy: 82.17%\n",
      "Epoch [314/500], Step [2/2], Loss: 0.4995, Accuracy: 83.14%\n",
      "Epoch [315/500], Step [2/2], Loss: 0.5343, Accuracy: 83.14%\n",
      "Epoch [316/500], Step [2/2], Loss: 0.5165, Accuracy: 82.17%\n",
      "Epoch [317/500], Step [2/2], Loss: 0.4954, Accuracy: 82.95%\n",
      "Epoch [318/500], Step [2/2], Loss: 0.5371, Accuracy: 82.17%\n",
      "Epoch [319/500], Step [2/2], Loss: 0.4735, Accuracy: 85.66%\n",
      "Epoch [320/500], Step [2/2], Loss: 0.5327, Accuracy: 80.43%\n",
      "Epoch [321/500], Step [2/2], Loss: 0.5318, Accuracy: 81.01%\n",
      "Epoch [322/500], Step [2/2], Loss: 0.4977, Accuracy: 81.78%\n",
      "Epoch [323/500], Step [2/2], Loss: 0.5139, Accuracy: 81.98%\n",
      "Epoch [324/500], Step [2/2], Loss: 0.5061, Accuracy: 82.75%\n",
      "Epoch [325/500], Step [2/2], Loss: 0.5077, Accuracy: 83.72%\n",
      "Epoch [326/500], Step [2/2], Loss: 0.6116, Accuracy: 76.74%\n",
      "Epoch [327/500], Step [2/2], Loss: 0.5546, Accuracy: 82.95%\n",
      "Epoch [328/500], Step [2/2], Loss: 0.5317, Accuracy: 82.17%\n",
      "Epoch [329/500], Step [2/2], Loss: 0.5000, Accuracy: 82.75%\n",
      "Epoch [330/500], Step [2/2], Loss: 0.4796, Accuracy: 84.11%\n",
      "Epoch [331/500], Step [2/2], Loss: 0.4986, Accuracy: 84.50%\n",
      "Epoch [332/500], Step [2/2], Loss: 0.4630, Accuracy: 84.88%\n",
      "Epoch [333/500], Step [2/2], Loss: 0.5600, Accuracy: 80.81%\n",
      "Epoch [334/500], Step [2/2], Loss: 0.5031, Accuracy: 82.95%\n",
      "Epoch [335/500], Step [2/2], Loss: 0.5126, Accuracy: 81.01%\n",
      "Epoch [336/500], Step [2/2], Loss: 0.4734, Accuracy: 83.14%\n",
      "Epoch [337/500], Step [2/2], Loss: 0.4854, Accuracy: 83.72%\n",
      "Epoch [338/500], Step [2/2], Loss: 0.5090, Accuracy: 81.98%\n",
      "Epoch [339/500], Step [2/2], Loss: 0.5137, Accuracy: 82.17%\n",
      "Epoch [340/500], Step [2/2], Loss: 0.5667, Accuracy: 81.01%\n",
      "Epoch [341/500], Step [2/2], Loss: 0.4874, Accuracy: 82.56%\n",
      "Epoch [342/500], Step [2/2], Loss: 0.4995, Accuracy: 83.53%\n",
      "Epoch [343/500], Step [2/2], Loss: 0.4965, Accuracy: 82.56%\n",
      "Epoch [344/500], Step [2/2], Loss: 0.5164, Accuracy: 83.33%\n",
      "Epoch [345/500], Step [2/2], Loss: 0.5173, Accuracy: 84.11%\n",
      "Epoch [346/500], Step [2/2], Loss: 0.5207, Accuracy: 82.17%\n",
      "Epoch [347/500], Step [2/2], Loss: 0.5001, Accuracy: 82.36%\n",
      "Epoch [348/500], Step [2/2], Loss: 0.5082, Accuracy: 82.17%\n",
      "Epoch [349/500], Step [2/2], Loss: 0.4847, Accuracy: 84.50%\n",
      "Epoch [350/500], Step [2/2], Loss: 0.4913, Accuracy: 81.98%\n",
      "Epoch [351/500], Step [2/2], Loss: 0.5271, Accuracy: 83.53%\n",
      "Epoch [352/500], Step [2/2], Loss: 0.5118, Accuracy: 81.78%\n",
      "Epoch [353/500], Step [2/2], Loss: 0.5141, Accuracy: 81.20%\n",
      "Epoch [354/500], Step [2/2], Loss: 0.4506, Accuracy: 86.63%\n",
      "Epoch [355/500], Step [2/2], Loss: 0.5529, Accuracy: 80.81%\n",
      "Epoch [356/500], Step [2/2], Loss: 0.5051, Accuracy: 83.33%\n",
      "Epoch [357/500], Step [2/2], Loss: 0.5742, Accuracy: 79.84%\n",
      "Epoch [358/500], Step [2/2], Loss: 0.5481, Accuracy: 78.68%\n",
      "Epoch [359/500], Step [2/2], Loss: 0.4495, Accuracy: 86.05%\n",
      "Epoch [360/500], Step [2/2], Loss: 0.5744, Accuracy: 80.62%\n",
      "Epoch [361/500], Step [2/2], Loss: 0.4744, Accuracy: 82.95%\n",
      "Epoch [362/500], Step [2/2], Loss: 0.5340, Accuracy: 80.04%\n",
      "Epoch [363/500], Step [2/2], Loss: 0.5851, Accuracy: 78.49%\n",
      "Epoch [364/500], Step [2/2], Loss: 0.6161, Accuracy: 79.26%\n",
      "Epoch [365/500], Step [2/2], Loss: 0.5399, Accuracy: 81.01%\n",
      "Epoch [366/500], Step [2/2], Loss: 0.4557, Accuracy: 83.72%\n",
      "Epoch [367/500], Step [2/2], Loss: 0.4685, Accuracy: 83.33%\n",
      "Epoch [368/500], Step [2/2], Loss: 0.4835, Accuracy: 83.33%\n",
      "Epoch [369/500], Step [2/2], Loss: 0.5494, Accuracy: 79.65%\n",
      "Epoch [370/500], Step [2/2], Loss: 0.4547, Accuracy: 84.88%\n",
      "Epoch [371/500], Step [2/2], Loss: 0.4883, Accuracy: 82.75%\n",
      "Epoch [372/500], Step [2/2], Loss: 0.4724, Accuracy: 83.72%\n",
      "Epoch [373/500], Step [2/2], Loss: 0.4995, Accuracy: 83.91%\n",
      "Epoch [374/500], Step [2/2], Loss: 0.5062, Accuracy: 82.17%\n",
      "Epoch [375/500], Step [2/2], Loss: 0.5101, Accuracy: 82.56%\n",
      "Epoch [376/500], Step [2/2], Loss: 0.4690, Accuracy: 84.11%\n",
      "Epoch [377/500], Step [2/2], Loss: 0.4374, Accuracy: 86.05%\n",
      "Epoch [378/500], Step [2/2], Loss: 0.4425, Accuracy: 86.05%\n",
      "Epoch [379/500], Step [2/2], Loss: 0.4823, Accuracy: 82.36%\n",
      "Epoch [380/500], Step [2/2], Loss: 0.4525, Accuracy: 85.08%\n",
      "Epoch [381/500], Step [2/2], Loss: 0.4953, Accuracy: 83.14%\n",
      "Epoch [382/500], Step [2/2], Loss: 0.4228, Accuracy: 84.50%\n",
      "Epoch [383/500], Step [2/2], Loss: 0.4604, Accuracy: 84.88%\n",
      "Epoch [384/500], Step [2/2], Loss: 0.4953, Accuracy: 82.56%\n",
      "Epoch [385/500], Step [2/2], Loss: 0.4700, Accuracy: 84.30%\n",
      "Epoch [386/500], Step [2/2], Loss: 0.4596, Accuracy: 84.88%\n",
      "Epoch [387/500], Step [2/2], Loss: 0.4345, Accuracy: 86.24%\n",
      "Epoch [388/500], Step [2/2], Loss: 0.4421, Accuracy: 84.88%\n",
      "Epoch [389/500], Step [2/2], Loss: 0.4383, Accuracy: 85.27%\n",
      "Epoch [390/500], Step [2/2], Loss: 0.4666, Accuracy: 82.75%\n",
      "Epoch [391/500], Step [2/2], Loss: 0.4621, Accuracy: 85.47%\n",
      "Epoch [392/500], Step [2/2], Loss: 0.5089, Accuracy: 81.78%\n",
      "Epoch [393/500], Step [2/2], Loss: 0.5083, Accuracy: 83.91%\n",
      "Epoch [394/500], Step [2/2], Loss: 0.4678, Accuracy: 85.47%\n",
      "Epoch [395/500], Step [2/2], Loss: 0.4539, Accuracy: 83.91%\n",
      "Epoch [396/500], Step [2/2], Loss: 0.4634, Accuracy: 83.53%\n",
      "Epoch [397/500], Step [2/2], Loss: 0.4645, Accuracy: 84.88%\n",
      "Epoch [398/500], Step [2/2], Loss: 0.4191, Accuracy: 85.66%\n",
      "Epoch [399/500], Step [2/2], Loss: 0.4146, Accuracy: 86.05%\n",
      "Epoch [400/500], Step [2/2], Loss: 0.4175, Accuracy: 85.85%\n",
      "Epoch [401/500], Step [2/2], Loss: 0.4592, Accuracy: 84.50%\n",
      "Epoch [402/500], Step [2/2], Loss: 0.4597, Accuracy: 85.08%\n",
      "Epoch [403/500], Step [2/2], Loss: 0.4700, Accuracy: 84.50%\n",
      "Epoch [404/500], Step [2/2], Loss: 0.4683, Accuracy: 84.69%\n",
      "Epoch [405/500], Step [2/2], Loss: 0.5037, Accuracy: 83.91%\n",
      "Epoch [406/500], Step [2/2], Loss: 0.4428, Accuracy: 85.47%\n",
      "Epoch [407/500], Step [2/2], Loss: 0.4746, Accuracy: 83.91%\n",
      "Epoch [408/500], Step [2/2], Loss: 0.4563, Accuracy: 84.30%\n",
      "Epoch [409/500], Step [2/2], Loss: 0.4118, Accuracy: 84.88%\n",
      "Epoch [410/500], Step [2/2], Loss: 0.4328, Accuracy: 86.24%\n",
      "Epoch [411/500], Step [2/2], Loss: 0.4638, Accuracy: 83.91%\n",
      "Epoch [412/500], Step [2/2], Loss: 0.4844, Accuracy: 84.11%\n",
      "Epoch [413/500], Step [2/2], Loss: 0.4293, Accuracy: 85.47%\n",
      "Epoch [414/500], Step [2/2], Loss: 0.4607, Accuracy: 83.91%\n",
      "Epoch [415/500], Step [2/2], Loss: 0.4411, Accuracy: 84.88%\n",
      "Epoch [416/500], Step [2/2], Loss: 0.4758, Accuracy: 82.56%\n",
      "Epoch [417/500], Step [2/2], Loss: 0.4480, Accuracy: 84.30%\n",
      "Epoch [418/500], Step [2/2], Loss: 0.3999, Accuracy: 85.85%\n",
      "Epoch [419/500], Step [2/2], Loss: 0.4488, Accuracy: 84.11%\n",
      "Epoch [420/500], Step [2/2], Loss: 0.4466, Accuracy: 85.47%\n",
      "Epoch [421/500], Step [2/2], Loss: 0.4480, Accuracy: 85.66%\n",
      "Epoch [422/500], Step [2/2], Loss: 0.5085, Accuracy: 80.43%\n",
      "Epoch [423/500], Step [2/2], Loss: 0.4306, Accuracy: 86.82%\n",
      "Epoch [424/500], Step [2/2], Loss: 0.4280, Accuracy: 84.30%\n",
      "Epoch [425/500], Step [2/2], Loss: 0.4481, Accuracy: 84.50%\n",
      "Epoch [426/500], Step [2/2], Loss: 0.4240, Accuracy: 84.50%\n",
      "Epoch [427/500], Step [2/2], Loss: 0.4904, Accuracy: 80.81%\n",
      "Epoch [428/500], Step [2/2], Loss: 0.4888, Accuracy: 81.20%\n",
      "Epoch [429/500], Step [2/2], Loss: 0.4395, Accuracy: 85.27%\n",
      "Epoch [430/500], Step [2/2], Loss: 0.3888, Accuracy: 88.18%\n",
      "Epoch [431/500], Step [2/2], Loss: 0.3979, Accuracy: 86.24%\n",
      "Epoch [432/500], Step [2/2], Loss: 0.4147, Accuracy: 86.43%\n",
      "Epoch [433/500], Step [2/2], Loss: 0.4525, Accuracy: 83.14%\n",
      "Epoch [434/500], Step [2/2], Loss: 0.4943, Accuracy: 82.95%\n",
      "Epoch [435/500], Step [2/2], Loss: 0.4620, Accuracy: 83.72%\n",
      "Epoch [436/500], Step [2/2], Loss: 0.4386, Accuracy: 83.53%\n",
      "Epoch [437/500], Step [2/2], Loss: 0.4907, Accuracy: 82.17%\n",
      "Epoch [438/500], Step [2/2], Loss: 0.4313, Accuracy: 83.91%\n",
      "Epoch [439/500], Step [2/2], Loss: 0.4491, Accuracy: 84.30%\n",
      "Epoch [440/500], Step [2/2], Loss: 0.4597, Accuracy: 84.69%\n",
      "Epoch [441/500], Step [2/2], Loss: 0.4264, Accuracy: 84.11%\n",
      "Epoch [442/500], Step [2/2], Loss: 0.4128, Accuracy: 87.40%\n",
      "Epoch [443/500], Step [2/2], Loss: 0.5407, Accuracy: 77.52%\n",
      "Epoch [444/500], Step [2/2], Loss: 0.4865, Accuracy: 82.36%\n",
      "Epoch [445/500], Step [2/2], Loss: 0.3901, Accuracy: 88.18%\n",
      "Epoch [446/500], Step [2/2], Loss: 0.4404, Accuracy: 84.69%\n",
      "Epoch [447/500], Step [2/2], Loss: 0.3911, Accuracy: 85.85%\n",
      "Epoch [448/500], Step [2/2], Loss: 0.4158, Accuracy: 85.47%\n",
      "Epoch [449/500], Step [2/2], Loss: 0.4878, Accuracy: 84.30%\n",
      "Epoch [450/500], Step [2/2], Loss: 0.4188, Accuracy: 84.69%\n",
      "Epoch [451/500], Step [2/2], Loss: 0.3890, Accuracy: 86.82%\n",
      "Epoch [452/500], Step [2/2], Loss: 0.3986, Accuracy: 84.88%\n",
      "Epoch [453/500], Step [2/2], Loss: 0.4338, Accuracy: 85.27%\n",
      "Epoch [454/500], Step [2/2], Loss: 0.4306, Accuracy: 84.88%\n",
      "Epoch [455/500], Step [2/2], Loss: 0.4310, Accuracy: 85.08%\n",
      "Epoch [456/500], Step [2/2], Loss: 0.3737, Accuracy: 87.60%\n",
      "Epoch [457/500], Step [2/2], Loss: 0.3956, Accuracy: 85.27%\n",
      "Epoch [458/500], Step [2/2], Loss: 0.4145, Accuracy: 85.66%\n",
      "Epoch [459/500], Step [2/2], Loss: 0.4613, Accuracy: 83.33%\n",
      "Epoch [460/500], Step [2/2], Loss: 0.4299, Accuracy: 85.66%\n",
      "Epoch [461/500], Step [2/2], Loss: 0.3722, Accuracy: 88.37%\n",
      "Epoch [462/500], Step [2/2], Loss: 0.3868, Accuracy: 88.18%\n",
      "Epoch [463/500], Step [2/2], Loss: 0.3450, Accuracy: 88.76%\n",
      "Epoch [464/500], Step [2/2], Loss: 0.3834, Accuracy: 87.40%\n",
      "Epoch [465/500], Step [2/2], Loss: 0.4098, Accuracy: 86.63%\n",
      "Epoch [466/500], Step [2/2], Loss: 0.4251, Accuracy: 85.66%\n",
      "Epoch [467/500], Step [2/2], Loss: 0.3884, Accuracy: 87.40%\n",
      "Epoch [468/500], Step [2/2], Loss: 0.3572, Accuracy: 87.79%\n",
      "Epoch [469/500], Step [2/2], Loss: 0.3481, Accuracy: 88.37%\n",
      "Epoch [470/500], Step [2/2], Loss: 0.4420, Accuracy: 85.66%\n",
      "Epoch [471/500], Step [2/2], Loss: 0.3982, Accuracy: 88.95%\n",
      "Epoch [472/500], Step [2/2], Loss: 0.4304, Accuracy: 85.27%\n",
      "Epoch [473/500], Step [2/2], Loss: 0.3672, Accuracy: 87.98%\n",
      "Epoch [474/500], Step [2/2], Loss: 0.3665, Accuracy: 87.79%\n",
      "Epoch [475/500], Step [2/2], Loss: 0.3687, Accuracy: 87.98%\n",
      "Epoch [476/500], Step [2/2], Loss: 0.3716, Accuracy: 86.63%\n",
      "Epoch [477/500], Step [2/2], Loss: 0.3652, Accuracy: 88.18%\n",
      "Epoch [478/500], Step [2/2], Loss: 0.3495, Accuracy: 88.57%\n",
      "Epoch [479/500], Step [2/2], Loss: 0.3949, Accuracy: 87.98%\n",
      "Epoch [480/500], Step [2/2], Loss: 0.3987, Accuracy: 87.60%\n",
      "Epoch [481/500], Step [2/2], Loss: 0.3972, Accuracy: 87.40%\n",
      "Epoch [482/500], Step [2/2], Loss: 0.3752, Accuracy: 87.21%\n",
      "Epoch [483/500], Step [2/2], Loss: 0.3653, Accuracy: 87.98%\n",
      "Epoch [484/500], Step [2/2], Loss: 0.3885, Accuracy: 86.24%\n",
      "Epoch [485/500], Step [2/2], Loss: 0.3680, Accuracy: 87.60%\n",
      "Epoch [486/500], Step [2/2], Loss: 0.3693, Accuracy: 87.79%\n",
      "Epoch [487/500], Step [2/2], Loss: 0.4621, Accuracy: 83.72%\n",
      "Epoch [488/500], Step [2/2], Loss: 0.3905, Accuracy: 86.43%\n",
      "Epoch [489/500], Step [2/2], Loss: 0.4028, Accuracy: 85.08%\n",
      "Epoch [490/500], Step [2/2], Loss: 0.4141, Accuracy: 85.47%\n",
      "Epoch [491/500], Step [2/2], Loss: 0.4009, Accuracy: 87.02%\n",
      "Epoch [492/500], Step [2/2], Loss: 0.4702, Accuracy: 84.11%\n",
      "Epoch [493/500], Step [2/2], Loss: 0.4465, Accuracy: 84.88%\n",
      "Epoch [494/500], Step [2/2], Loss: 0.3830, Accuracy: 86.24%\n",
      "Epoch [495/500], Step [2/2], Loss: 0.4055, Accuracy: 86.24%\n",
      "Epoch [496/500], Step [2/2], Loss: 0.3635, Accuracy: 87.79%\n",
      "Epoch [497/500], Step [2/2], Loss: 0.4061, Accuracy: 85.47%\n",
      "Epoch [498/500], Step [2/2], Loss: 0.3927, Accuracy: 87.21%\n",
      "Epoch [499/500], Step [2/2], Loss: 0.3978, Accuracy: 85.66%\n",
      "Epoch [500/500], Step [2/2], Loss: 0.4132, Accuracy: 86.82%\n"
     ]
    }
   ],
   "source": [
    "# Train the model\n",
    "total_step = len(train_loader)\n",
    "loss_list = []\n",
    "acc_list = []\n",
    "for epoch in range(num_epochs):\n",
    "  for i, (motions, labels) in enumerate(train_loader):\n",
    "    motions, labels = motions.to(device), labels.to(device)\n",
    "\n",
    "    # Run the forward pass\n",
    "    outputs = model(motions)\n",
    "    loss = criterion(outputs, labels)\n",
    "    loss_list.append(loss.item())\n",
    "\n",
    "    # Backprop and perform Adam optimisation\n",
    "    optimizer.zero_grad()\n",
    "    loss.backward()\n",
    "    optimizer.step()\n",
    "\n",
    "    # Track the accuracy\n",
    "    total = labels.size(0)\n",
    "    _, predicted = torch.max(outputs.data, 1)\n",
    "    correct = (predicted == labels).sum().item()\n",
    "    acc_list.append(correct / total)\n",
    "\n",
    "    if (i + 1) % 2 == 0:\n",
    "        print(f\"Epoch [{epoch+1}/{num_epochs}], Step [{i+1}/{total_step}], \"\n",
    "              f\"Loss: {loss.item():.4f}, \"\n",
    "              f\"Accuracy: {((correct / total) * 100):.2f}%\")"
   ]
  },
  {
   "cell_type": "markdown",
   "id": "Y2MNr2Egg1z_",
   "metadata": {
    "execution": {}
   },
   "source": [
    "The training accuracy usually starts out below $10\\%$, which makes sense as chance $100/14 \\approx 7\\%$. It usually quickly goes up to around $80\\%$. The model can get better if you run more epochs, but this is sufficient for now. "
   ]
  },
  {
   "cell_type": "markdown",
   "id": "tIejNowNa2H_",
   "metadata": {
    "execution": {}
   },
   "source": [
    " Now we want to see performance on the test data set:"
   ]
  },
  {
   "cell_type": "code",
   "execution_count": null,
   "id": "NaIREOIeec-1",
   "metadata": {
    "execution": {}
   },
   "outputs": [
    {
     "name": "stdout",
     "output_type": "stream",
     "text": [
      "Test Accuracy of the model on the 172 test moves: 84.302%\n"
     ]
    }
   ],
   "source": [
    "# Test the model\n",
    "model.eval()\n",
    "real_labels, predicted_labels = [], []\n",
    "with torch.no_grad():\n",
    "  correct = 0\n",
    "  total = 0\n",
    "  for motions, labels in test_loader:\n",
    "    motions, labels = motions.to(device), labels.to(device)\n",
    "    real_labels += list(labels)\n",
    "    outputs = model(motions)\n",
    "    _, predicted = torch.max(outputs.data, 1)\n",
    "    predicted_labels += list(predicted)\n",
    "    total += labels.size(0)\n",
    "    correct += (predicted == labels).sum().item()\n",
    "\n",
    "  print(f\"Test Accuracy of the model on the 172 test moves: {(correct / total)*100:.3f}%\")"
   ]
  },
  {
   "cell_type": "markdown",
   "id": "wbu_cAU5emsh",
   "metadata": {
    "execution": {}
   },
   "source": [
    "Considering that we have a relatively small data set, and a fairly simple model that didn't really converge, this is decent performance (chance is ~7%). Let's look at where the errors are:"
   ]
  },
  {
   "cell_type": "code",
   "execution_count": null,
   "id": "5Z-cA1FXe0Sl",
   "metadata": {
    "execution": {}
   },
   "outputs": [
    {
     "data": {
      "image/png": "[encoded data removed]",
      "text/plain": [
       "<Figure size 576x432 with 1 Axes>"
      ]
     },
     "metadata": {
      "image/png": {
       "height": 414,
       "width": 414
      },
      "needs_background": "light",
      "tags": []
     },
     "output_type": "display_data"
    }
   ],
   "source": [
    "# plt.style.use('dark_background')  # uncomment if you're using dark mode...\n",
    "plotConfusionMatrix(real_labels, predicted_labels, label_names)"
   ]
  },
  {
   "cell_type": "markdown",
   "id": "BHhhRjL2e5q_",
   "metadata": {
    "execution": {}
   },
   "source": [
    "The errors vary each time the model is run, but a common error seems to be that head scratching is predicted from some other movements that also involve arms a lot: throw/catch, hand clapping, phone talking, checking watch, hand waving, taking photo. If we train the model longer, these errors tend to go away as well. For some reason, crossed legged sitting is sometimes misclassified for crawling, but this doesn't always happen."
   ]
  },
  {
   "cell_type": "markdown",
   "id": "compliant-session",
   "metadata": {
    "execution": {}
   },
   "source": [
    "---\n",
    "# Step 8: Modeling completion\n",
    "\n",
    "Are we done yet? In order to answer our questions, reach our goals and evaluate our hypotheses we need to be able to get test performance from the model, and might want to investigate any errors that the model makes. We will first make a function that fits the model on a specified set of joints\n"
   ]
  },
  {
   "cell_type": "code",
   "execution_count": null,
   "id": "L58_BD8pkJF5",
   "metadata": {
    "execution": {}
   },
   "outputs": [],
   "source": [
    "def testJointModel(joints=list(range(24)),\n",
    "                   num_epochs = 500,\n",
    "                   batch_size=516,\n",
    "                   learning_rate = 0.001):\n",
    "\n",
    "  # Hyperparameters\n",
    "  num_classes = 14\n",
    "\n",
    "  # Create training and test datasets\n",
    "  movi_train = MoViJointDataset(train  = True, joints = joints)\n",
    "  movi_test  = MoViJointDataset(train  = False, joints = joints)\n",
    "\n",
    "  # Data loaders\n",
    "  train_loader = DataLoader(dataset=movi_train, batch_size=batch_size, shuffle=True)\n",
    "  test_loader  = DataLoader(dataset=movi_test, batch_size=batch_size,  shuffle=False)\n",
    "\n",
    "  # create the model object:\n",
    "  model = Mov1DCNN(njoints=len(joints)).to(device)\n",
    "\n",
    "  # loss and optimizer:\n",
    "  criterion = nn.CrossEntropyLoss()\n",
    "  optimizer = torch.optim.Adam(model.parameters(), lr=learning_rate)\n",
    "\n",
    "  # Train the model\n",
    "  for epoch in range(num_epochs):\n",
    "    for i, (motions, labels) in enumerate(train_loader):\n",
    "      motions, labels = motions.to(device), labels.to(device)\n",
    "\n",
    "      # Run the forward pass\n",
    "      outputs = model(motions)\n",
    "      loss = criterion(outputs, labels)\n",
    "      loss_list.append(loss.item())\n",
    "\n",
    "      # Backprop and perform Adam optimisation\n",
    "      optimizer.zero_grad()\n",
    "      loss.backward()\n",
    "      optimizer.step()\n",
    "\n",
    "      # Track the accuracy\n",
    "      total = labels.size(0)\n",
    "\n",
    "  # Test the model\n",
    "  model.eval()\n",
    "  real_labels, predicted_labels = [], []\n",
    "  with torch.no_grad():\n",
    "    correct = 0\n",
    "    total = 0\n",
    "    for motions, labels in test_loader:\n",
    "      motions, labels = motions.to(device), labels.to(device)\n",
    "      real_labels += list(labels)\n",
    "      outputs = model(motions)\n",
    "      _, predicted = torch.max(outputs.data, 1)\n",
    "      predicted_labels += list(predicted)\n",
    "      total += labels.size(0)\n",
    "      correct += (predicted == labels).sum().item()\n",
    "\n",
    "  performance = (correct / total) * 100\n",
    "\n",
    "  return {'performance': performance,\n",
    "          'real_labels': real_labels,\n",
    "          'predicted_labels': predicted_labels}"
   ]
  },
  {
   "cell_type": "markdown",
   "id": "wwuF1ioak3Ug",
   "metadata": {
    "execution": {}
   },
   "source": [
    "Let's test this on a few select joints:\n",
    "\n",
    "**This takes up to ~10 seconds:**"
   ]
  },
  {
   "cell_type": "code",
   "execution_count": null,
   "id": "3gJpwYWIk9RM",
   "metadata": {
    "execution": {}
   },
   "outputs": [
    {
     "name": "stdout",
     "output_type": "stream",
     "text": [
      "73.25581395348837\n"
     ]
    },
    {
     "data": {
      "image/png": "[encoded data removed]",
      "text/plain": [
       "<Figure size 576x432 with 1 Axes>"
      ]
     },
     "metadata": {
      "image/png": {
       "height": 414,
       "width": 414
      },
      "needs_background": "light",
      "tags": []
     },
     "output_type": "display_data"
    }
   ],
   "source": [
    "cnn6j = testJointModel(joints=[0, 10, 11, 15, 22, 23])\n",
    "print(cnn6j['performance'])\n",
    "plotConfusionMatrix(real_labels = cnn6j['real_labels'], predicted_labels = cnn6j['predicted_labels'], label_names=label_names)"
   ]
  },
  {
   "cell_type": "markdown",
   "id": "9XMG8T0Ogp0y",
   "metadata": {
    "execution": {}
   },
   "source": [
    "That is some pretty good performance based on only 6 / 24 joints!\n",
    "\n",
    "* Can we answer our question? --> YES, we can classify movement, and we can do so based on a sub-set of joints.\n",
    "* Have we reached our goals? --> YES, this pilot study shows that we can decode movement type based on skeletal joint motion data.\n",
    "* Can we evaluate our hypotheses? --> YES, we can now test the specific model performances and compare them.\n",
    "\n",
    "Good news, looks like we're done with a first iteration of modeling!"
   ]
  },
  {
   "cell_type": "markdown",
   "id": "strategic-throw",
   "metadata": {
    "execution": {}
   },
   "source": [
    "---\n",
    "# Step 9: Model evaluation\n",
    "\n",
    "We can now see how well our model actual does, by running it to test our hypotheses. To test our hypotheses, we will group the joints into limbs:\n"
   ]
  },
  {
   "cell_type": "code",
   "execution_count": null,
   "id": "H3CG_lzdi0KB",
   "metadata": {
    "execution": {}
   },
   "outputs": [],
   "source": [
    "limb_joints = {'Left Leg': [1, 4, 7, 10],\n",
    "               'Right Leg': [2, 5, 8, 1],\n",
    "               'Left Arm': [13, 16, 18, 20, 22],\n",
    "               'Right Arm': [14, 17, 19, 21, 23],\n",
    "               'Torso': [0, 3, 6, 9],\n",
    "               'Head': [12, 15]}"
   ]
  },
  {
   "cell_type": "markdown",
   "id": "EFddDEAmjN_z",
   "metadata": {
    "execution": {}
   },
   "source": [
    "Our second hypothesis was that since our participants are right handed, the right arm will give as better classification performance than the left arm. We will fit the model on each individual limb, and then we can compare performance on the left and right arm.\n",
    "\n",
    "**This should take up to ~1 minute!**"
   ]
  },
  {
   "cell_type": "code",
   "execution_count": null,
   "id": "p4h9ABawjcEl",
   "metadata": {
    "execution": {}
   },
   "outputs": [
    {
     "name": "stdout",
     "output_type": "stream",
     "text": [
      "\n",
      "*** FITTING: Left Leg\n",
      "limb performance: 80.23%\n",
      "\n",
      "*** FITTING: Right Leg\n",
      "limb performance: 75.00%\n",
      "\n",
      "*** FITTING: Left Arm\n",
      "limb performance: 61.05%\n",
      "\n",
      "*** FITTING: Right Arm\n",
      "limb performance: 36.63%\n",
      "\n",
      "*** FITTING: Torso\n",
      "limb performance: 80.81%\n",
      "\n",
      "*** FITTING: Head\n",
      "limb performance: 46.51%\n"
     ]
    }
   ],
   "source": [
    "limb_fits = {}\n",
    "for limb in limb_joints.keys():\n",
    "  print(f\"\\n*** FITTING: {limb}\")\n",
    "\n",
    "  joints = limb_joints[limb]\n",
    "  limb_fit = testJointModel(joints=joints)\n",
    "  limb_fits[limb] = limb_fit\n",
    "  print(f\"limb performance: {limb_fit['performance']:.2f}%\")"
   ]
  },
  {
   "cell_type": "markdown",
   "id": "Y3_XyAZap9oJ",
   "metadata": {
    "execution": {}
   },
   "source": [
    "Every time we run this, we get something along these lines:\n",
    "\n",
    "```\n",
    "*** FITTING: LeftLeg\n",
    "limb performance: 65.70%\n",
    "*** FITTING: RightLeg\n",
    "limb performance: 50.58%\n",
    "*** FITTING: LeftArm\n",
    "limb performance: 37.21%\n",
    "*** FITTING: RightArm\n",
    "limb performance: 22.09%\n",
    "*** FITTING: Torso\n",
    "limb performance: 73.84%\n",
    "*** FITTING: Head\n",
    "limb performance: 39.53%\n",
    "```\n",
    "\n",
    "\n",
    "\n",
    "For a formal test, you'd fit each model a number of times and let it converge by using many more epochs. We don't really have time for that here, but the pattern is fairly clear already. The head and arms are the worst, the legs are better, and the torso usually wins!\n",
    "\n",
    "The left arm seems to outperform the right arm in classifying movements. That was not what we expected. Maybe we should repeat this with left-handed participants to see if their right arm works better?"
   ]
  },
  {
   "cell_type": "markdown",
   "id": "XnDAKFmpsT0U",
   "metadata": {
    "execution": {}
   },
   "source": [
    "We still want to test our first hypothesis, which we're not so certain about any more, given the performance above: the torso outperforms the other limbs. But that doesn't mean that a model with arms and legs only is necessarily worse than a model with arms, legs and head and torso as well.\n",
    "\n",
    "We will test each of these models six times, and take the median performance.\n",
    "\n",
    "**This takes up to ~4 minutes!** (About 2 minutes per kind of model.)"
   ]
  },
  {
   "cell_type": "code",
   "execution_count": null,
   "id": "_7O-VJcavoOE",
   "metadata": {
    "execution": {}
   },
   "outputs": [
    {
     "name": "stdout",
     "output_type": "stream",
     "text": [
      "\n",
      "*** FITTING: limbs only\n",
      "performance: 69.19%\n",
      "performance: 83.14%\n",
      "performance: 80.81%\n",
      "performance: 77.91%\n",
      "performance: 66.28%\n",
      "performance: 74.42%\n",
      "median performance: 76.16%\n",
      "\n",
      "*** FITTING: limbs+torso+head\n",
      "performance: 82.56%\n",
      "performance: 79.65%\n",
      "performance: 77.91%\n",
      "performance: 81.98%\n",
      "performance: 77.33%\n",
      "performance: 88.95%\n",
      "median performance: 80.81%\n"
     ]
    }
   ],
   "source": [
    "limb_sets = {'limbs only':['Left Leg', 'Right Leg', 'Left Arm', 'Right Arm'],\n",
    "             'limbs+torso+head':['Left Leg', 'Right Leg', 'Left Arm',\n",
    "                                 'Right Arm', 'Torso', 'Head']}\n",
    "\n",
    "for limb_set in limb_sets.keys():\n",
    "  print(f\"\\n*** FITTING: {limb_set}\")\n",
    "\n",
    "  limbs = limb_sets[limb_set]\n",
    "\n",
    "  joints = []\n",
    "  for limb in limbs:\n",
    "    joints += limb_joints[limb]\n",
    "\n",
    "  performances = []\n",
    "  for repeat in range(6):\n",
    "    limb_set_fit = testJointModel(joints=joints)\n",
    "    performances.append(limb_set_fit['performance'])\n",
    "    print(f\"performance: {limb_set_fit['performance']:.2f}%\")\n",
    "\n",
    "  print(f\"median performance: {(np.median(performances)):.2f}%\")"
   ]
  },
  {
   "cell_type": "markdown",
   "id": "vhfVd16u_tar",
   "metadata": {
    "execution": {}
   },
   "source": [
    "The models are not converging, or perfect, but almost every time we run this cell the extra information from the torso and head do make the model perform a little better.\n",
    "\n",
    "It seems that our spine is pretty fundamental for movement!\n",
    "\n",
    "Maybe we should see how well we can do with a minimal number of joints measured. Can we go as low as 1 joint? For example, since we usually carry a phone in our pocket, the inertal motion units (IMU, i.e. accelerometers + gyroscopes) on a phone might be sufficient to get us some idea of movements people are making. We could test individual joints as well, or combinations of 2 or 3 joints.\n",
    "\n",
    "Of course, in real life people make many more types of movements, so we might need more joints or IMU's for decent classification. It will also be a problem to figure out when one movement type has ended and the next has begun."
   ]
  },
  {
   "cell_type": "markdown",
   "id": "seven-single",
   "metadata": {
    "execution": {}
   },
   "source": [
    "---\n",
    "# Step 10: publication\n",
    "\n",
    "Let's write a simple abstract following the guidelines...\n",
    "\n",
    "**A. What is the phenomena**?  Here summarize the part of the phenomena which your modeling addresses.\n",
    "\n",
    "_Movement is well characterized by angular joint information._\n",
    "\n",
    "**B. What is the key scientific question?**:  Clearly articulate the question which your modeling tries to answer.\n",
    "\n",
    "_Here, we ask how many joints are needed to accurately classify movements, and which joints are the most informative for classification._\n",
    "\n",
    "**C. What was our hypothesis?**:  Explain the key relationships which we relied on to simulate the phenomena.\n",
    "\n",
    "_We hypothesized that limb motion was more informative than torso motion; and we hypothesized that right side limbs carry more information about movement types than left side limbs._\n",
    "\n",
    "**D. How did your modeling work?** Give an overview of the model, it's main components, and how the modeling works.  ''Here we ... ''\n",
    "\n",
    "_To investigate these hypotheses, we constructed a simple 1d convolutional neuroal network (CNN) and trained it on different subsets of the publicly available MoVi dataset._\n",
    "\n",
    "**E. What did you find? Did the modeling work?** Explain the key outcomes of your modeling evaluation. \n",
    "\n",
    "_Contrary to our expectations, we observed that the torso was more informative for classification then the rest of the joints. Furthermore the left limbs allowed for better classification than the right limbs._\n",
    "\n",
    "**F. What can you conclude?** Conclude as much as you can _with reference to the hypothesis_, within the limits of the modeling. \n",
    "\n",
    "_We conclude that while our model works to classify movements from subsets of joint rotations, the specific subsets of joints that were most informative were counter to our intuition._\n",
    "\n",
    "**G. What are the limitations and future directions?** What is left to be learned? Briefly argue the plausibility of the approach and/or what you think is essential that may have been left out.\n",
    "\n",
    "_Since our dataset contained limited number of movement types, generalization might be limited. Furthermore, our findings might be specific for our particular choice of model. Finally, classification of continuous movement presents an additional challenge since we used already segmented motion data here._\n",
    "\n",
    ">If we put this all in one paragraph, we have our final complete abstract. But, first, do not include the letters in _your_ abstract, and second, you might need to paraphrase the answers a little so they fit together.\n",
    "\n",
    "<br>\n",
    "\n",
    "**Abstract**\n",
    "\n",
    "(A) Movement is well characterized by angular joint information. \n",
    "(B) Here, we ask how many joints are needed to accurately classify movements, and which joints are the most informative for classification.\n",
    "(C) We hypothesized that limb motion was more informative than torso motion; and we hypothesized that right side limbs carry more information about movement types than left side limbs.\n",
    "(D) To investigate these hypotheses, we constructed a simple 1d convolutional neuroal network (CNN) and trained it on different subsets of the publicly available MoVi dataset.\n",
    "(E) Contrary to our expectations, we observed that the torso was more informative for classification then the rest of the joints. Furthermore the left limbs allowed for better classification than the right limbs.\n",
    "(F) We conclude that while our model works to classify movements from subsets of joint rotations, the specific subsets of joints that were most informative were counter to our intuition.\n",
    "(G) Since our dataset contained limited number of movement types, generalization might be limited. Furthermore, our findings might be specific for our particular choice of model. Finally, classification of continuous movement presents an additional challenge since we used already segmented motion data here."
   ]
  }
 ],
 "metadata": {
  "accelerator": "GPU",
  "colab": {
   "collapsed_sections": [],
   "include_colab_link": true,
   "name": "Example_Deep_Learning_Project",
   "provenance": [],
   "toc_visible": true
  },
  "kernel": {
   "display_name": "Python 3",
   "language": "python",
   "name": "python3"
  },
  "kernelspec": {
   "display_name": "Python 3",
   "language": "python",
   "name": "python3"
  },
  "language_info": {
   "codemirror_mode": {
    "name": "ipython",
    "version": 3
   },
   "file_extension": ".py",
   "mimetype": "text/x-python",
   "name": "python",
   "nbconvert_exporter": "python",
   "pygments_lexer": "ipython3",
   "version": "3.6.8"
  }
 },
 "nbformat": 4,
 "nbformat_minor": 5
}
