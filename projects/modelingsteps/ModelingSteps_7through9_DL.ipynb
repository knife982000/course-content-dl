{
 "cells": [
  {
   "cell_type": "markdown",
   "metadata": {
    "colab_type": "text",
    "execution": {},
    "id": "view-in-github"
   },
   "source": [
    "<a href=\"https://colab.research.google.com/github/NeuromatchAcademy/course-content-dl/blob/main/projects/modelingsteps/ModelingSteps_7through9_DL.ipynb\" target=\"_parent\"><img src=\"https://colab.research.google.com/assets/colab-badge.svg\" alt=\"Open In Colab\"/></a> &nbsp; <a href=\"https://kaggle.com/kernels/welcome?src=https://raw.githubusercontent.com/NeuromatchAcademy/course-content-dl/main/projects/modelingsteps/ModelingSteps_7through9_DL.ipynb\" target=\"_parent\"><img src=\"https://kaggle.com/static/images/open-in-kaggle.svg\" alt=\"Open in Kaggle\"/></a>"
   ]
  },
  {
   "cell_type": "markdown",
   "metadata": {
    "execution": {}
   },
   "source": [
    "# Modeling Steps 7 - 9\n",
    "\n",
    "**By Neuromatch Academy**\n",
    "\n",
    "__Content creators:__ Marius 't Hart, Megan Peters, Paul Schrater,  Jean Laurens, Gunnar Blohm\n",
    "\n",
    "__Production editors:__ Spiros Chavlis"
   ]
  },
  {
   "cell_type": "markdown",
   "metadata": {
    "execution": {}
   },
   "source": [
    "**Our 2021 Sponsors, including Presenting Sponsor Facebook Reality Labs**\n",
    "\n",
    "<p align='center'><img src='https://github.com/NeuromatchAcademy/widgets/blob/master/sponsors.png?raw=True'/></p>"
   ]
  },
  {
   "cell_type": "markdown",
   "metadata": {
    "execution": {}
   },
   "source": [
    "---\n",
    "# Step 7: Implementing the model\n",
    "\n",
    "\n"
   ]
  },
  {
   "cell_type": "code",
   "execution_count": null,
   "metadata": {
    "cellView": "form",
    "execution": {}
   },
   "outputs": [
    {
     "data": {
      "application/vnd.jupyter.widget-view+json": {
       "model_id": "b4d4cde1f77a43d680676edb44a0fbcb",
       "version_major": 2,
       "version_minor": 0
      },
      "text/plain": [
       "Tab(children=(Output(), Output()), _titles={'0': 'Youtube', '1': 'Bilibili'})"
      ]
     },
     "metadata": {
      "tags": []
     },
     "output_type": "display_data"
    }
   ],
   "source": [
    "# @title Video 8: Implementing the modeling\n",
    "\n",
    "from ipywidgets import widgets\n",
    "\n",
    "out2 = widgets.Output()\n",
    "with out2:\n",
    "  from IPython.display import IFrame\n",
    "  class BiliVideo(IFrame):\n",
    "    def __init__(self, id, page=1, width=400, height=300, **kwargs):\n",
    "      self.id=id\n",
    "      src = 'https://player.bilibili.com/player.html?bvid={0}&page={1}'.format(id, page)\n",
    "      super(BiliVideo, self).__init__(src, width, height, **kwargs)\n",
    "\n",
    "  video = BiliVideo(id=\"BV1nX4y1w7uu\", width=854, height=480, fs=1)\n",
    "  print('Video available at https://www.bilibili.com/video/{0}'.format(video.id))\n",
    "  display(video)\n",
    "\n",
    "out1 = widgets.Output()\n",
    "with out1:\n",
    "  from IPython.display import YouTubeVideo\n",
    "  video = YouTubeVideo(id=\"qxU5dJz5hG0\", width=854, height=480, fs=1, rel=0)\n",
    "  print('Video available at https://youtube.com/watch?v=' + video.id)\n",
    "  display(video)\n",
    "\n",
    "out = widgets.Tab([out1, out2])\n",
    "out.set_title(0, 'Youtube')\n",
    "out.set_title(1, 'Bilibili')\n",
    "\n",
    "display(out)"
   ]
  },
  {
   "cell_type": "markdown",
   "metadata": {
    "execution": {}
   },
   "source": [
    "This is the step where you finally start writing code! Separately implement each box, icon, or flow relationship identified in Step 6. **Test** each of those model components separately! (This is called a *unit test*). Unit testing ensures that each model components works are expected/planned. \n",
    "\n",
    "**Guiding principles**:\n",
    "* Start with the easiest possible implementation\n",
    "  * Test functionality of model after each step before adding new model components (unit tests)\n",
    "  * Simple models can sometimes accomplish surprisingly much…\n",
    "* Add / remove different model elements\n",
    "  * Gain insight into working principles\n",
    "  * What’s crucial, what isn’t?\n",
    "  * Every component of the model must be crucial!\n",
    "* Make use of tools to evaluate model behavior\n",
    "  * E.g., graphical analysis, changing parameter sets, stability / equilibrium analyses, derive general solutions, asymptotes, periodic behaviour, etc.\n",
    "\n",
    "**Goal**: Understand how each model component works in isolation and what the resulting overall model behavior is.\n",
    "\n",
    "**Note**: if you're working with data, this step might also involve significant data wrangling to your dataset into a format usable by your model..."
   ]
  },
  {
   "cell_type": "markdown",
   "metadata": {
    "execution": {}
   },
   "source": [
    "**Make sure to avoid the pitfalls!**\n",
    "<details>\n",
    "<summary>Click here for a recap on pitfalls</summary>\n",
    "\n",
    "\n",
    "Building the whole model at once without testing components\n",
    "<ul>\n",
    "  <li>you will make mistakes. Debug model components as you go!</li>\n",
    "  <li>debugging a complex model is close to impossible. Is it not woring because individual components are not working? Or do components not \"play nice\" together?</li>\n",
    "  </ul>\n",
    "\n",
    "Not testing if individual components are important\n",
    "<ul>\n",
    "  <li>It's easy to add *useless* components to a model. They will be distracting for you and for readers</li>\n",
    "  </ul>\n",
    "\n",
    "Not testing model functionality step by step as you  build up the model\n",
    "<ul>\n",
    "  <li>You'd be surprised by what basic components often can alrealy achieve... E.g. our intuition is really bad when it comes to dynamical systems</li>\n",
    "  </ul>\n",
    "\n",
    "Not using standard model testing tools\n",
    "<ul>\n",
    "  <li>each field has developped specific mathematical tools to test model behaviors. You'll be expected to show such evaluations. Make use of them early on!</li>\n",
    "  </ul>"
   ]
  },
  {
   "cell_type": "markdown",
   "metadata": {
    "execution": {}
   },
   "source": [
    "---\n",
    "# Step 8: Completing the model\n",
    "\n",
    "\n"
   ]
  },
  {
   "cell_type": "code",
   "execution_count": null,
   "metadata": {
    "cellView": "form",
    "execution": {}
   },
   "outputs": [
    {
     "data": {
      "application/vnd.jupyter.widget-view+json": {
       "model_id": "4db3f52f36ef47dcb7af9b73bda86978",
       "version_major": 2,
       "version_minor": 0
      },
      "text/plain": [
       "Tab(children=(Output(), Output()), _titles={'0': 'Youtube', '1': 'Bilibili'})"
      ]
     },
     "metadata": {
      "tags": []
     },
     "output_type": "display_data"
    }
   ],
   "source": [
    "# @title Video 9: Completing the modeling\n",
    "\n",
    "from ipywidgets import widgets\n",
    "\n",
    "out2 = widgets.Output()\n",
    "with out2:\n",
    "  from IPython.display import IFrame\n",
    "  class BiliVideo(IFrame):\n",
    "    def __init__(self, id, page=1, width=400, height=300, **kwargs):\n",
    "      self.id=id\n",
    "      src = 'https://player.bilibili.com/player.html?bvid={0}&page={1}'.format(id, page)\n",
    "      super(BiliVideo, self).__init__(src, width, height, **kwargs)\n",
    "\n",
    "  video = BiliVideo(id=\"BV1f44y1q7wm\", width=854, height=480, fs=1)\n",
    "  print('Video available at https://www.bilibili.com/video/{0}'.format(video.id))\n",
    "  display(video)\n",
    "\n",
    "out1 = widgets.Output()\n",
    "with out1:\n",
    "  from IPython.display import YouTubeVideo\n",
    "  video = YouTubeVideo(id=\"ul4loI_JUW0\", width=854, height=480, fs=1, rel=0)\n",
    "  print('Video available at https://youtube.com/watch?v=' + video.id)\n",
    "  display(video)\n",
    "\n",
    "out = widgets.Tab([out1, out2])\n",
    "out.set_title(0, 'Youtube')\n",
    "out.set_title(1, 'Bilibili')\n",
    "\n",
    "display(out)"
   ]
  },
  {
   "cell_type": "markdown",
   "metadata": {
    "execution": {}
   },
   "source": [
    "Determing what you're done modeling is a hard question. Referring back to your original goals will be crucial. This is also where a precise question and specific hypotheses expressed in mathematical relationships come in handy. \n",
    "\n",
    "**Note**: you can always keep improving our model, but at some point you need to decide that it is finished. Once you have a model that displays the properties of a system you are interested in, it should be possible to say something about your hypothesis and question. Keeping the model simple makes it easier to understand the phenomenon and answer the research question. \n",
    "\n",
    "**Guiding principles**:\n",
    "* Determine a criterion\n",
    "* Refer to steps 1 (goals) and 4 (hypotheses)\n",
    "  * Does the model answer the original question sufficiently?\n",
    "  * Does the model satisfy your own evaluation criteria?\n",
    "  * Does it speak to the hypotheses?\n",
    "* Can the model produce the parametric relationships hypothesized in step 4?\n",
    "\n",
    "Make sure the model can speak to the hypothesis. Eliminate all the parameters that do not speak to the hypothesis.\n",
    "\n",
    "**Goal**: Determine if you can answer your original research question and related hypotheses to your satisfaction. If the original goal has not been met you need to go back to the drawing board!"
   ]
  },
  {
   "cell_type": "markdown",
   "metadata": {
    "execution": {}
   },
   "source": [
    "**Make sure to avoid the pitfalls!**\n",
    "<details>\n",
    "<summary>Click here for a recap on pitfalls</summary>\n",
    "\n",
    "Forgetting to specify or use a criterion for model completion (in Step 1!)\n",
    "<ul>\n",
    "  <li>This is crucial for you not to get lost in an endless loop of model improvements</li>\n",
    "  </ul>\n",
    "\n",
    "Thinking the model can answer your question / hypotheses without checking\n",
    "<ul>\n",
    "  <li>always check if all questions and hypotheses can be answered / tested</li>\n",
    "  <li>you will fail on your own benchmarks if you neglect this</li>\n",
    "  </ul>\n",
    "\n",
    "You think you should further improve the model\n",
    "<ul>\n",
    "  <li>This is only warranted if your model cannot answer your hypotheses / questions and/or meet your goals</li>\n",
    "  <li>remember: you can always improve a model, but you want to focus on the question / hypotheses / goals at hand!</li>\n",
    "  </ul>"
   ]
  },
  {
   "cell_type": "markdown",
   "metadata": {
    "execution": {}
   },
   "source": [
    "---\n",
    "# Step 9: testing and evaluating the model\n",
    "\n",
    "\n"
   ]
  },
  {
   "cell_type": "code",
   "execution_count": null,
   "metadata": {
    "cellView": "form",
    "execution": {}
   },
   "outputs": [
    {
     "data": {
      "application/vnd.jupyter.widget-view+json": {
       "model_id": "52c7ee2900154d7aa81f8fbbcf289fc8",
       "version_major": 2,
       "version_minor": 0
      },
      "text/plain": [
       "Tab(children=(Output(), Output()), _titles={'0': 'Youtube', '1': 'Bilibili'})"
      ]
     },
     "metadata": {
      "tags": []
     },
     "output_type": "display_data"
    }
   ],
   "source": [
    "# @title Video 10: Evaluating the modeling\n",
    "\n",
    "from ipywidgets import widgets\n",
    "\n",
    "out2 = widgets.Output()\n",
    "with out2:\n",
    "  from IPython.display import IFrame\n",
    "  class BiliVideo(IFrame):\n",
    "    def __init__(self, id, page=1, width=400, height=300, **kwargs):\n",
    "      self.id=id\n",
    "      src = 'https://player.bilibili.com/player.html?bvid={0}&page={1}'.format(id, page)\n",
    "      super(BiliVideo, self).__init__(src, width, height, **kwargs)\n",
    "\n",
    "  video = BiliVideo(id=\"BV1Xv411J7Ls\", width=854, height=480, fs=1)\n",
    "  print('Video available at https://www.bilibili.com/video/{0}'.format(video.id))\n",
    "  display(video)\n",
    "\n",
    "out1 = widgets.Output()\n",
    "with out1:\n",
    "  from IPython.display import YouTubeVideo\n",
    "  video = YouTubeVideo(id=\"X-R0hjID93M\", width=854, height=480, fs=1, rel=0)\n",
    "  print('Video available at https://youtube.com/watch?v=' + video.id)\n",
    "  display(video)\n",
    "\n",
    "out = widgets.Tab([out1, out2])\n",
    "out.set_title(0, 'Youtube')\n",
    "out.set_title(1, 'Bilibili')\n",
    "\n",
    "display(out)"
   ]
  },
  {
   "cell_type": "markdown",
   "metadata": {
    "execution": {}
   },
   "source": [
    "Every models needs to be evaluated quantitatively. There are many ways to achieve that and not every model should be evaluated in the same way. Ultimately, model testing depends on what your goals are and what you want to get out of the model, e.g. qualitative vs quantitative fit to data. \n",
    "\n",
    "**Guiding principles**:\n",
    "* By definition a model is always wrong!\n",
    "  * Determine upfront what is \"right enough\" for you\n",
    "* Ensure the explicit interfacing with current or future data\n",
    "  * model answers the questions/hypotheses/goals with a sufficient amount of detail\n",
    "* Quantitative evaluation methods\n",
    "  * Statistics:  how well does the model fit data?\n",
    "  * Predictability: does the model make testable predictions?\n",
    "  * Breadth: how general is the model?\n",
    "* Comparison against other models (BIC, AIC, etc.)\n",
    "  * This is often not easy to do in a fair way… Be nice and respectful to other models.\n",
    "* Does the model explain previous data? (this is called the subsumption principle in physics!)\n",
    "* A good model should provide insight that could not have been gained or would have been hard to uncover without the model\n",
    "* Remember, a model is a working hypotheses; a good model should be falsifiable!\n",
    "\n",
    "**Goal**: You want to demonstrate that your model works well. You also want to make sure you can interpret the model's meaning and findings. I.e. what did the model allow you to learn that was not apparent from the data alone?\n",
    "\n",
    "\n"
   ]
  },
  {
   "cell_type": "markdown",
   "metadata": {
    "execution": {}
   },
   "source": [
    "**Make sure to avoid the pitfalls!**\n",
    "<details>\n",
    "<summary>Click here for a recap on pitfalls</summary>\n",
    "\n",
    "\n",
    "Thinking your model is bad\n",
    "<ul>\n",
    "  <li>does it answer the question / hypotheses and meet your goals? Does it provide the leverl of explanation and insights you set out to gain? <strong>Then it's probably good enough!</strong></li>\n",
    "  </ul>\n",
    "\n",
    "Not providing any quantitative evaluation\n",
    "<ul>\n",
    "  <li>Just do it, it's something that's expected</li>\n",
    "  </ul>\n",
    "\n",
    "Not thinking deeply about your model and what you can learn from it\n",
    "<ul>\n",
    "  <li>this is likely the most important pitfall. You want to learn as much as you can from a model, especially about aspects that you cannot gain from the data alone</li>\n",
    "  <li>model interpretation can open new avenues for research and experimentation. That's part of why we want to model in the first place! <strong>A model is a hypothesis!</strong></li>\n",
    "  </ul>"
   ]
  },
  {
   "cell_type": "markdown",
   "metadata": {
    "execution": {}
   },
   "source": [
    "## Ethics\n",
    "Time to rethink the ethical implications of your model!\n",
    "* did anything change since Step 1?\n",
    "* did you learn about new ethical issues?\n",
    "* does the modeling outcome have new unanticipated ethical consequences?\n",
    "* did you make sure you evaluated your model in an unbiased way?\n",
    "* ..."
   ]
  }
 ],
 "metadata": {
  "colab": {
   "collapsed_sections": [],
   "include_colab_link": true,
   "name": "ModelingSteps_7through9_DL",
   "provenance": [],
   "toc_visible": true
  },
  "kernel": {
   "display_name": "Python 3",
   "language": "python",
   "name": "python3"
  },
  "kernelspec": {
   "display_name": "Python 3",
   "language": "python",
   "name": "python3"
  },
  "language_info": {
   "codemirror_mode": {
    "name": "ipython",
    "version": 3
   },
   "file_extension": ".py",
   "mimetype": "text/x-python",
   "name": "python",
   "nbconvert_exporter": "python",
   "pygments_lexer": "ipython3",
   "version": "3.6.8"
  }
 },
 "nbformat": 4,
 "nbformat_minor": 0
}
